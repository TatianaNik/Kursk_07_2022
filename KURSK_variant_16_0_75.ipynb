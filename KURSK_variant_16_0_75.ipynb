{
  "nbformat": 4,
  "nbformat_minor": 0,
  "metadata": {
    "colab": {
      "name": "KURSK_variant_16_0.75",
      "provenance": [],
      "collapsed_sections": []
    },
    "kernelspec": {
      "name": "python3",
      "display_name": "Python 3"
    },
    "language_info": {
      "name": "python"
    },
    "widgets": {
      "application/vnd.jupyter.widget-state+json": {
        "c706593b83204433be687010eb019480": {
          "model_module": "@jupyter-widgets/controls",
          "model_name": "HBoxModel",
          "model_module_version": "1.5.0",
          "state": {
            "_dom_classes": [],
            "_model_module": "@jupyter-widgets/controls",
            "_model_module_version": "1.5.0",
            "_model_name": "HBoxModel",
            "_view_count": null,
            "_view_module": "@jupyter-widgets/controls",
            "_view_module_version": "1.5.0",
            "_view_name": "HBoxView",
            "box_style": "",
            "children": [
              "IPY_MODEL_dca0d8133ed84ffbb07a4f65941eeefb",
              "IPY_MODEL_c7ff1d29d7bc4a87b087090d67b3b074",
              "IPY_MODEL_6e329410ac0347f886c1c1e5e6678517"
            ],
            "layout": "IPY_MODEL_31d4c5542aef4bdba9e30f63cd78f9a9"
          }
        },
        "dca0d8133ed84ffbb07a4f65941eeefb": {
          "model_module": "@jupyter-widgets/controls",
          "model_name": "HTMLModel",
          "model_module_version": "1.5.0",
          "state": {
            "_dom_classes": [],
            "_model_module": "@jupyter-widgets/controls",
            "_model_module_version": "1.5.0",
            "_model_name": "HTMLModel",
            "_view_count": null,
            "_view_module": "@jupyter-widgets/controls",
            "_view_module_version": "1.5.0",
            "_view_name": "HTMLView",
            "description": "",
            "description_tooltip": null,
            "layout": "IPY_MODEL_7e520da089114e6e800b0fec92a21ac2",
            "placeholder": "​",
            "style": "IPY_MODEL_7ef89b046f1845db8de18fff4d2b851a",
            "value": "100%"
          }
        },
        "c7ff1d29d7bc4a87b087090d67b3b074": {
          "model_module": "@jupyter-widgets/controls",
          "model_name": "FloatProgressModel",
          "model_module_version": "1.5.0",
          "state": {
            "_dom_classes": [],
            "_model_module": "@jupyter-widgets/controls",
            "_model_module_version": "1.5.0",
            "_model_name": "FloatProgressModel",
            "_view_count": null,
            "_view_module": "@jupyter-widgets/controls",
            "_view_module_version": "1.5.0",
            "_view_name": "ProgressView",
            "bar_style": "success",
            "description": "",
            "description_tooltip": null,
            "layout": "IPY_MODEL_61e5f0559f634a1893a077b07be02ca2",
            "max": 1680,
            "min": 0,
            "orientation": "horizontal",
            "style": "IPY_MODEL_f40b4d52b98c4003a404fc91a2b6b780",
            "value": 1680
          }
        },
        "6e329410ac0347f886c1c1e5e6678517": {
          "model_module": "@jupyter-widgets/controls",
          "model_name": "HTMLModel",
          "model_module_version": "1.5.0",
          "state": {
            "_dom_classes": [],
            "_model_module": "@jupyter-widgets/controls",
            "_model_module_version": "1.5.0",
            "_model_name": "HTMLModel",
            "_view_count": null,
            "_view_module": "@jupyter-widgets/controls",
            "_view_module_version": "1.5.0",
            "_view_name": "HTMLView",
            "description": "",
            "description_tooltip": null,
            "layout": "IPY_MODEL_6aab4a84997443639aa8c699e22ef091",
            "placeholder": "​",
            "style": "IPY_MODEL_2cf26065ce7045a0a8ee940aafaebc67",
            "value": " 1680/1680 [00:26&lt;00:00, 56.90it/s]"
          }
        },
        "31d4c5542aef4bdba9e30f63cd78f9a9": {
          "model_module": "@jupyter-widgets/base",
          "model_name": "LayoutModel",
          "model_module_version": "1.2.0",
          "state": {
            "_model_module": "@jupyter-widgets/base",
            "_model_module_version": "1.2.0",
            "_model_name": "LayoutModel",
            "_view_count": null,
            "_view_module": "@jupyter-widgets/base",
            "_view_module_version": "1.2.0",
            "_view_name": "LayoutView",
            "align_content": null,
            "align_items": null,
            "align_self": null,
            "border": null,
            "bottom": null,
            "display": null,
            "flex": null,
            "flex_flow": null,
            "grid_area": null,
            "grid_auto_columns": null,
            "grid_auto_flow": null,
            "grid_auto_rows": null,
            "grid_column": null,
            "grid_gap": null,
            "grid_row": null,
            "grid_template_areas": null,
            "grid_template_columns": null,
            "grid_template_rows": null,
            "height": null,
            "justify_content": null,
            "justify_items": null,
            "left": null,
            "margin": null,
            "max_height": null,
            "max_width": null,
            "min_height": null,
            "min_width": null,
            "object_fit": null,
            "object_position": null,
            "order": null,
            "overflow": null,
            "overflow_x": null,
            "overflow_y": null,
            "padding": null,
            "right": null,
            "top": null,
            "visibility": null,
            "width": null
          }
        },
        "7e520da089114e6e800b0fec92a21ac2": {
          "model_module": "@jupyter-widgets/base",
          "model_name": "LayoutModel",
          "model_module_version": "1.2.0",
          "state": {
            "_model_module": "@jupyter-widgets/base",
            "_model_module_version": "1.2.0",
            "_model_name": "LayoutModel",
            "_view_count": null,
            "_view_module": "@jupyter-widgets/base",
            "_view_module_version": "1.2.0",
            "_view_name": "LayoutView",
            "align_content": null,
            "align_items": null,
            "align_self": null,
            "border": null,
            "bottom": null,
            "display": null,
            "flex": null,
            "flex_flow": null,
            "grid_area": null,
            "grid_auto_columns": null,
            "grid_auto_flow": null,
            "grid_auto_rows": null,
            "grid_column": null,
            "grid_gap": null,
            "grid_row": null,
            "grid_template_areas": null,
            "grid_template_columns": null,
            "grid_template_rows": null,
            "height": null,
            "justify_content": null,
            "justify_items": null,
            "left": null,
            "margin": null,
            "max_height": null,
            "max_width": null,
            "min_height": null,
            "min_width": null,
            "object_fit": null,
            "object_position": null,
            "order": null,
            "overflow": null,
            "overflow_x": null,
            "overflow_y": null,
            "padding": null,
            "right": null,
            "top": null,
            "visibility": null,
            "width": null
          }
        },
        "7ef89b046f1845db8de18fff4d2b851a": {
          "model_module": "@jupyter-widgets/controls",
          "model_name": "DescriptionStyleModel",
          "model_module_version": "1.5.0",
          "state": {
            "_model_module": "@jupyter-widgets/controls",
            "_model_module_version": "1.5.0",
            "_model_name": "DescriptionStyleModel",
            "_view_count": null,
            "_view_module": "@jupyter-widgets/base",
            "_view_module_version": "1.2.0",
            "_view_name": "StyleView",
            "description_width": ""
          }
        },
        "61e5f0559f634a1893a077b07be02ca2": {
          "model_module": "@jupyter-widgets/base",
          "model_name": "LayoutModel",
          "model_module_version": "1.2.0",
          "state": {
            "_model_module": "@jupyter-widgets/base",
            "_model_module_version": "1.2.0",
            "_model_name": "LayoutModel",
            "_view_count": null,
            "_view_module": "@jupyter-widgets/base",
            "_view_module_version": "1.2.0",
            "_view_name": "LayoutView",
            "align_content": null,
            "align_items": null,
            "align_self": null,
            "border": null,
            "bottom": null,
            "display": null,
            "flex": null,
            "flex_flow": null,
            "grid_area": null,
            "grid_auto_columns": null,
            "grid_auto_flow": null,
            "grid_auto_rows": null,
            "grid_column": null,
            "grid_gap": null,
            "grid_row": null,
            "grid_template_areas": null,
            "grid_template_columns": null,
            "grid_template_rows": null,
            "height": null,
            "justify_content": null,
            "justify_items": null,
            "left": null,
            "margin": null,
            "max_height": null,
            "max_width": null,
            "min_height": null,
            "min_width": null,
            "object_fit": null,
            "object_position": null,
            "order": null,
            "overflow": null,
            "overflow_x": null,
            "overflow_y": null,
            "padding": null,
            "right": null,
            "top": null,
            "visibility": null,
            "width": null
          }
        },
        "f40b4d52b98c4003a404fc91a2b6b780": {
          "model_module": "@jupyter-widgets/controls",
          "model_name": "ProgressStyleModel",
          "model_module_version": "1.5.0",
          "state": {
            "_model_module": "@jupyter-widgets/controls",
            "_model_module_version": "1.5.0",
            "_model_name": "ProgressStyleModel",
            "_view_count": null,
            "_view_module": "@jupyter-widgets/base",
            "_view_module_version": "1.2.0",
            "_view_name": "StyleView",
            "bar_color": null,
            "description_width": ""
          }
        },
        "6aab4a84997443639aa8c699e22ef091": {
          "model_module": "@jupyter-widgets/base",
          "model_name": "LayoutModel",
          "model_module_version": "1.2.0",
          "state": {
            "_model_module": "@jupyter-widgets/base",
            "_model_module_version": "1.2.0",
            "_model_name": "LayoutModel",
            "_view_count": null,
            "_view_module": "@jupyter-widgets/base",
            "_view_module_version": "1.2.0",
            "_view_name": "LayoutView",
            "align_content": null,
            "align_items": null,
            "align_self": null,
            "border": null,
            "bottom": null,
            "display": null,
            "flex": null,
            "flex_flow": null,
            "grid_area": null,
            "grid_auto_columns": null,
            "grid_auto_flow": null,
            "grid_auto_rows": null,
            "grid_column": null,
            "grid_gap": null,
            "grid_row": null,
            "grid_template_areas": null,
            "grid_template_columns": null,
            "grid_template_rows": null,
            "height": null,
            "justify_content": null,
            "justify_items": null,
            "left": null,
            "margin": null,
            "max_height": null,
            "max_width": null,
            "min_height": null,
            "min_width": null,
            "object_fit": null,
            "object_position": null,
            "order": null,
            "overflow": null,
            "overflow_x": null,
            "overflow_y": null,
            "padding": null,
            "right": null,
            "top": null,
            "visibility": null,
            "width": null
          }
        },
        "2cf26065ce7045a0a8ee940aafaebc67": {
          "model_module": "@jupyter-widgets/controls",
          "model_name": "DescriptionStyleModel",
          "model_module_version": "1.5.0",
          "state": {
            "_model_module": "@jupyter-widgets/controls",
            "_model_module_version": "1.5.0",
            "_model_name": "DescriptionStyleModel",
            "_view_count": null,
            "_view_module": "@jupyter-widgets/base",
            "_view_module_version": "1.2.0",
            "_view_name": "StyleView",
            "description_width": ""
          }
        },
        "332b28835df845aabbad333eefe61a62": {
          "model_module": "@jupyter-widgets/controls",
          "model_name": "HBoxModel",
          "model_module_version": "1.5.0",
          "state": {
            "_dom_classes": [],
            "_model_module": "@jupyter-widgets/controls",
            "_model_module_version": "1.5.0",
            "_model_name": "HBoxModel",
            "_view_count": null,
            "_view_module": "@jupyter-widgets/controls",
            "_view_module_version": "1.5.0",
            "_view_name": "HBoxView",
            "box_style": "",
            "children": [
              "IPY_MODEL_6d946f5969d54adc81281b61703fabd1",
              "IPY_MODEL_012e988ca1ff4849b203f8137202d213",
              "IPY_MODEL_13acd8a1b3ac43d9b3f3b2e17416a0b8"
            ],
            "layout": "IPY_MODEL_d2e856492bda4c7895ebd31e69693923"
          }
        },
        "6d946f5969d54adc81281b61703fabd1": {
          "model_module": "@jupyter-widgets/controls",
          "model_name": "HTMLModel",
          "model_module_version": "1.5.0",
          "state": {
            "_dom_classes": [],
            "_model_module": "@jupyter-widgets/controls",
            "_model_module_version": "1.5.0",
            "_model_name": "HTMLModel",
            "_view_count": null,
            "_view_module": "@jupyter-widgets/controls",
            "_view_module_version": "1.5.0",
            "_view_name": "HTMLView",
            "description": "",
            "description_tooltip": null,
            "layout": "IPY_MODEL_1d2d2a5bc83449dfb4509614c753725a",
            "placeholder": "​",
            "style": "IPY_MODEL_05ef7845d5a7444686630784933f2c14",
            "value": "100%"
          }
        },
        "012e988ca1ff4849b203f8137202d213": {
          "model_module": "@jupyter-widgets/controls",
          "model_name": "FloatProgressModel",
          "model_module_version": "1.5.0",
          "state": {
            "_dom_classes": [],
            "_model_module": "@jupyter-widgets/controls",
            "_model_module_version": "1.5.0",
            "_model_name": "FloatProgressModel",
            "_view_count": null,
            "_view_module": "@jupyter-widgets/controls",
            "_view_module_version": "1.5.0",
            "_view_name": "ProgressView",
            "bar_style": "success",
            "description": "",
            "description_tooltip": null,
            "layout": "IPY_MODEL_a754872fb8df43e796f5c93f1edefefc",
            "max": 300,
            "min": 0,
            "orientation": "horizontal",
            "style": "IPY_MODEL_41107aba6f6548f497643c1b160bc7e7",
            "value": 300
          }
        },
        "13acd8a1b3ac43d9b3f3b2e17416a0b8": {
          "model_module": "@jupyter-widgets/controls",
          "model_name": "HTMLModel",
          "model_module_version": "1.5.0",
          "state": {
            "_dom_classes": [],
            "_model_module": "@jupyter-widgets/controls",
            "_model_module_version": "1.5.0",
            "_model_name": "HTMLModel",
            "_view_count": null,
            "_view_module": "@jupyter-widgets/controls",
            "_view_module_version": "1.5.0",
            "_view_name": "HTMLView",
            "description": "",
            "description_tooltip": null,
            "layout": "IPY_MODEL_3afe1236161341db9aafcaebde2af7dd",
            "placeholder": "​",
            "style": "IPY_MODEL_a8db15a2915b4020b2e26b85e5655d8b",
            "value": " 300/300 [00:02&lt;00:00, 149.37it/s]"
          }
        },
        "d2e856492bda4c7895ebd31e69693923": {
          "model_module": "@jupyter-widgets/base",
          "model_name": "LayoutModel",
          "model_module_version": "1.2.0",
          "state": {
            "_model_module": "@jupyter-widgets/base",
            "_model_module_version": "1.2.0",
            "_model_name": "LayoutModel",
            "_view_count": null,
            "_view_module": "@jupyter-widgets/base",
            "_view_module_version": "1.2.0",
            "_view_name": "LayoutView",
            "align_content": null,
            "align_items": null,
            "align_self": null,
            "border": null,
            "bottom": null,
            "display": null,
            "flex": null,
            "flex_flow": null,
            "grid_area": null,
            "grid_auto_columns": null,
            "grid_auto_flow": null,
            "grid_auto_rows": null,
            "grid_column": null,
            "grid_gap": null,
            "grid_row": null,
            "grid_template_areas": null,
            "grid_template_columns": null,
            "grid_template_rows": null,
            "height": null,
            "justify_content": null,
            "justify_items": null,
            "left": null,
            "margin": null,
            "max_height": null,
            "max_width": null,
            "min_height": null,
            "min_width": null,
            "object_fit": null,
            "object_position": null,
            "order": null,
            "overflow": null,
            "overflow_x": null,
            "overflow_y": null,
            "padding": null,
            "right": null,
            "top": null,
            "visibility": null,
            "width": null
          }
        },
        "1d2d2a5bc83449dfb4509614c753725a": {
          "model_module": "@jupyter-widgets/base",
          "model_name": "LayoutModel",
          "model_module_version": "1.2.0",
          "state": {
            "_model_module": "@jupyter-widgets/base",
            "_model_module_version": "1.2.0",
            "_model_name": "LayoutModel",
            "_view_count": null,
            "_view_module": "@jupyter-widgets/base",
            "_view_module_version": "1.2.0",
            "_view_name": "LayoutView",
            "align_content": null,
            "align_items": null,
            "align_self": null,
            "border": null,
            "bottom": null,
            "display": null,
            "flex": null,
            "flex_flow": null,
            "grid_area": null,
            "grid_auto_columns": null,
            "grid_auto_flow": null,
            "grid_auto_rows": null,
            "grid_column": null,
            "grid_gap": null,
            "grid_row": null,
            "grid_template_areas": null,
            "grid_template_columns": null,
            "grid_template_rows": null,
            "height": null,
            "justify_content": null,
            "justify_items": null,
            "left": null,
            "margin": null,
            "max_height": null,
            "max_width": null,
            "min_height": null,
            "min_width": null,
            "object_fit": null,
            "object_position": null,
            "order": null,
            "overflow": null,
            "overflow_x": null,
            "overflow_y": null,
            "padding": null,
            "right": null,
            "top": null,
            "visibility": null,
            "width": null
          }
        },
        "05ef7845d5a7444686630784933f2c14": {
          "model_module": "@jupyter-widgets/controls",
          "model_name": "DescriptionStyleModel",
          "model_module_version": "1.5.0",
          "state": {
            "_model_module": "@jupyter-widgets/controls",
            "_model_module_version": "1.5.0",
            "_model_name": "DescriptionStyleModel",
            "_view_count": null,
            "_view_module": "@jupyter-widgets/base",
            "_view_module_version": "1.2.0",
            "_view_name": "StyleView",
            "description_width": ""
          }
        },
        "a754872fb8df43e796f5c93f1edefefc": {
          "model_module": "@jupyter-widgets/base",
          "model_name": "LayoutModel",
          "model_module_version": "1.2.0",
          "state": {
            "_model_module": "@jupyter-widgets/base",
            "_model_module_version": "1.2.0",
            "_model_name": "LayoutModel",
            "_view_count": null,
            "_view_module": "@jupyter-widgets/base",
            "_view_module_version": "1.2.0",
            "_view_name": "LayoutView",
            "align_content": null,
            "align_items": null,
            "align_self": null,
            "border": null,
            "bottom": null,
            "display": null,
            "flex": null,
            "flex_flow": null,
            "grid_area": null,
            "grid_auto_columns": null,
            "grid_auto_flow": null,
            "grid_auto_rows": null,
            "grid_column": null,
            "grid_gap": null,
            "grid_row": null,
            "grid_template_areas": null,
            "grid_template_columns": null,
            "grid_template_rows": null,
            "height": null,
            "justify_content": null,
            "justify_items": null,
            "left": null,
            "margin": null,
            "max_height": null,
            "max_width": null,
            "min_height": null,
            "min_width": null,
            "object_fit": null,
            "object_position": null,
            "order": null,
            "overflow": null,
            "overflow_x": null,
            "overflow_y": null,
            "padding": null,
            "right": null,
            "top": null,
            "visibility": null,
            "width": null
          }
        },
        "41107aba6f6548f497643c1b160bc7e7": {
          "model_module": "@jupyter-widgets/controls",
          "model_name": "ProgressStyleModel",
          "model_module_version": "1.5.0",
          "state": {
            "_model_module": "@jupyter-widgets/controls",
            "_model_module_version": "1.5.0",
            "_model_name": "ProgressStyleModel",
            "_view_count": null,
            "_view_module": "@jupyter-widgets/base",
            "_view_module_version": "1.2.0",
            "_view_name": "StyleView",
            "bar_color": null,
            "description_width": ""
          }
        },
        "3afe1236161341db9aafcaebde2af7dd": {
          "model_module": "@jupyter-widgets/base",
          "model_name": "LayoutModel",
          "model_module_version": "1.2.0",
          "state": {
            "_model_module": "@jupyter-widgets/base",
            "_model_module_version": "1.2.0",
            "_model_name": "LayoutModel",
            "_view_count": null,
            "_view_module": "@jupyter-widgets/base",
            "_view_module_version": "1.2.0",
            "_view_name": "LayoutView",
            "align_content": null,
            "align_items": null,
            "align_self": null,
            "border": null,
            "bottom": null,
            "display": null,
            "flex": null,
            "flex_flow": null,
            "grid_area": null,
            "grid_auto_columns": null,
            "grid_auto_flow": null,
            "grid_auto_rows": null,
            "grid_column": null,
            "grid_gap": null,
            "grid_row": null,
            "grid_template_areas": null,
            "grid_template_columns": null,
            "grid_template_rows": null,
            "height": null,
            "justify_content": null,
            "justify_items": null,
            "left": null,
            "margin": null,
            "max_height": null,
            "max_width": null,
            "min_height": null,
            "min_width": null,
            "object_fit": null,
            "object_position": null,
            "order": null,
            "overflow": null,
            "overflow_x": null,
            "overflow_y": null,
            "padding": null,
            "right": null,
            "top": null,
            "visibility": null,
            "width": null
          }
        },
        "a8db15a2915b4020b2e26b85e5655d8b": {
          "model_module": "@jupyter-widgets/controls",
          "model_name": "DescriptionStyleModel",
          "model_module_version": "1.5.0",
          "state": {
            "_model_module": "@jupyter-widgets/controls",
            "_model_module_version": "1.5.0",
            "_model_name": "DescriptionStyleModel",
            "_view_count": null,
            "_view_module": "@jupyter-widgets/base",
            "_view_module_version": "1.2.0",
            "_view_name": "StyleView",
            "description_width": ""
          }
        },
        "29f5470421894b83988d3d72cafb11b3": {
          "model_module": "@jupyter-widgets/controls",
          "model_name": "HBoxModel",
          "model_module_version": "1.5.0",
          "state": {
            "_dom_classes": [],
            "_model_module": "@jupyter-widgets/controls",
            "_model_module_version": "1.5.0",
            "_model_name": "HBoxModel",
            "_view_count": null,
            "_view_module": "@jupyter-widgets/controls",
            "_view_module_version": "1.5.0",
            "_view_name": "HBoxView",
            "box_style": "",
            "children": [
              "IPY_MODEL_90609fa2e8a6468e99f501a64781ec27",
              "IPY_MODEL_8b141425233741ff83e952cc7f88a656",
              "IPY_MODEL_50a1405030dd465e86eda925fa068d4e"
            ],
            "layout": "IPY_MODEL_f9183fa4bd42419394f223c9dc50bef4"
          }
        },
        "90609fa2e8a6468e99f501a64781ec27": {
          "model_module": "@jupyter-widgets/controls",
          "model_name": "HTMLModel",
          "model_module_version": "1.5.0",
          "state": {
            "_dom_classes": [],
            "_model_module": "@jupyter-widgets/controls",
            "_model_module_version": "1.5.0",
            "_model_name": "HTMLModel",
            "_view_count": null,
            "_view_module": "@jupyter-widgets/controls",
            "_view_module_version": "1.5.0",
            "_view_name": "HTMLView",
            "description": "",
            "description_tooltip": null,
            "layout": "IPY_MODEL_8f710f6be455445ebe65c048ea4f96bc",
            "placeholder": "​",
            "style": "IPY_MODEL_cae1c0941d0e4a62a0d572291ccf0c80",
            "value": "100%"
          }
        },
        "8b141425233741ff83e952cc7f88a656": {
          "model_module": "@jupyter-widgets/controls",
          "model_name": "FloatProgressModel",
          "model_module_version": "1.5.0",
          "state": {
            "_dom_classes": [],
            "_model_module": "@jupyter-widgets/controls",
            "_model_module_version": "1.5.0",
            "_model_name": "FloatProgressModel",
            "_view_count": null,
            "_view_module": "@jupyter-widgets/controls",
            "_view_module_version": "1.5.0",
            "_view_name": "ProgressView",
            "bar_style": "success",
            "description": "",
            "description_tooltip": null,
            "layout": "IPY_MODEL_b929134ec2f744998502456e747aa8b4",
            "max": 1000,
            "min": 0,
            "orientation": "horizontal",
            "style": "IPY_MODEL_834fc981192f4c43b34e886e983f2a0e",
            "value": 1000
          }
        },
        "50a1405030dd465e86eda925fa068d4e": {
          "model_module": "@jupyter-widgets/controls",
          "model_name": "HTMLModel",
          "model_module_version": "1.5.0",
          "state": {
            "_dom_classes": [],
            "_model_module": "@jupyter-widgets/controls",
            "_model_module_version": "1.5.0",
            "_model_name": "HTMLModel",
            "_view_count": null,
            "_view_module": "@jupyter-widgets/controls",
            "_view_module_version": "1.5.0",
            "_view_name": "HTMLView",
            "description": "",
            "description_tooltip": null,
            "layout": "IPY_MODEL_c35f8e9781a647efb00a61383a3b4b5f",
            "placeholder": "​",
            "style": "IPY_MODEL_74eb931f32ec46e38150e4bace79ac79",
            "value": " 1000/1000 [00:07&lt;00:00, 148.53it/s]"
          }
        },
        "f9183fa4bd42419394f223c9dc50bef4": {
          "model_module": "@jupyter-widgets/base",
          "model_name": "LayoutModel",
          "model_module_version": "1.2.0",
          "state": {
            "_model_module": "@jupyter-widgets/base",
            "_model_module_version": "1.2.0",
            "_model_name": "LayoutModel",
            "_view_count": null,
            "_view_module": "@jupyter-widgets/base",
            "_view_module_version": "1.2.0",
            "_view_name": "LayoutView",
            "align_content": null,
            "align_items": null,
            "align_self": null,
            "border": null,
            "bottom": null,
            "display": null,
            "flex": null,
            "flex_flow": null,
            "grid_area": null,
            "grid_auto_columns": null,
            "grid_auto_flow": null,
            "grid_auto_rows": null,
            "grid_column": null,
            "grid_gap": null,
            "grid_row": null,
            "grid_template_areas": null,
            "grid_template_columns": null,
            "grid_template_rows": null,
            "height": null,
            "justify_content": null,
            "justify_items": null,
            "left": null,
            "margin": null,
            "max_height": null,
            "max_width": null,
            "min_height": null,
            "min_width": null,
            "object_fit": null,
            "object_position": null,
            "order": null,
            "overflow": null,
            "overflow_x": null,
            "overflow_y": null,
            "padding": null,
            "right": null,
            "top": null,
            "visibility": null,
            "width": null
          }
        },
        "8f710f6be455445ebe65c048ea4f96bc": {
          "model_module": "@jupyter-widgets/base",
          "model_name": "LayoutModel",
          "model_module_version": "1.2.0",
          "state": {
            "_model_module": "@jupyter-widgets/base",
            "_model_module_version": "1.2.0",
            "_model_name": "LayoutModel",
            "_view_count": null,
            "_view_module": "@jupyter-widgets/base",
            "_view_module_version": "1.2.0",
            "_view_name": "LayoutView",
            "align_content": null,
            "align_items": null,
            "align_self": null,
            "border": null,
            "bottom": null,
            "display": null,
            "flex": null,
            "flex_flow": null,
            "grid_area": null,
            "grid_auto_columns": null,
            "grid_auto_flow": null,
            "grid_auto_rows": null,
            "grid_column": null,
            "grid_gap": null,
            "grid_row": null,
            "grid_template_areas": null,
            "grid_template_columns": null,
            "grid_template_rows": null,
            "height": null,
            "justify_content": null,
            "justify_items": null,
            "left": null,
            "margin": null,
            "max_height": null,
            "max_width": null,
            "min_height": null,
            "min_width": null,
            "object_fit": null,
            "object_position": null,
            "order": null,
            "overflow": null,
            "overflow_x": null,
            "overflow_y": null,
            "padding": null,
            "right": null,
            "top": null,
            "visibility": null,
            "width": null
          }
        },
        "cae1c0941d0e4a62a0d572291ccf0c80": {
          "model_module": "@jupyter-widgets/controls",
          "model_name": "DescriptionStyleModel",
          "model_module_version": "1.5.0",
          "state": {
            "_model_module": "@jupyter-widgets/controls",
            "_model_module_version": "1.5.0",
            "_model_name": "DescriptionStyleModel",
            "_view_count": null,
            "_view_module": "@jupyter-widgets/base",
            "_view_module_version": "1.2.0",
            "_view_name": "StyleView",
            "description_width": ""
          }
        },
        "b929134ec2f744998502456e747aa8b4": {
          "model_module": "@jupyter-widgets/base",
          "model_name": "LayoutModel",
          "model_module_version": "1.2.0",
          "state": {
            "_model_module": "@jupyter-widgets/base",
            "_model_module_version": "1.2.0",
            "_model_name": "LayoutModel",
            "_view_count": null,
            "_view_module": "@jupyter-widgets/base",
            "_view_module_version": "1.2.0",
            "_view_name": "LayoutView",
            "align_content": null,
            "align_items": null,
            "align_self": null,
            "border": null,
            "bottom": null,
            "display": null,
            "flex": null,
            "flex_flow": null,
            "grid_area": null,
            "grid_auto_columns": null,
            "grid_auto_flow": null,
            "grid_auto_rows": null,
            "grid_column": null,
            "grid_gap": null,
            "grid_row": null,
            "grid_template_areas": null,
            "grid_template_columns": null,
            "grid_template_rows": null,
            "height": null,
            "justify_content": null,
            "justify_items": null,
            "left": null,
            "margin": null,
            "max_height": null,
            "max_width": null,
            "min_height": null,
            "min_width": null,
            "object_fit": null,
            "object_position": null,
            "order": null,
            "overflow": null,
            "overflow_x": null,
            "overflow_y": null,
            "padding": null,
            "right": null,
            "top": null,
            "visibility": null,
            "width": null
          }
        },
        "834fc981192f4c43b34e886e983f2a0e": {
          "model_module": "@jupyter-widgets/controls",
          "model_name": "ProgressStyleModel",
          "model_module_version": "1.5.0",
          "state": {
            "_model_module": "@jupyter-widgets/controls",
            "_model_module_version": "1.5.0",
            "_model_name": "ProgressStyleModel",
            "_view_count": null,
            "_view_module": "@jupyter-widgets/base",
            "_view_module_version": "1.2.0",
            "_view_name": "StyleView",
            "bar_color": null,
            "description_width": ""
          }
        },
        "c35f8e9781a647efb00a61383a3b4b5f": {
          "model_module": "@jupyter-widgets/base",
          "model_name": "LayoutModel",
          "model_module_version": "1.2.0",
          "state": {
            "_model_module": "@jupyter-widgets/base",
            "_model_module_version": "1.2.0",
            "_model_name": "LayoutModel",
            "_view_count": null,
            "_view_module": "@jupyter-widgets/base",
            "_view_module_version": "1.2.0",
            "_view_name": "LayoutView",
            "align_content": null,
            "align_items": null,
            "align_self": null,
            "border": null,
            "bottom": null,
            "display": null,
            "flex": null,
            "flex_flow": null,
            "grid_area": null,
            "grid_auto_columns": null,
            "grid_auto_flow": null,
            "grid_auto_rows": null,
            "grid_column": null,
            "grid_gap": null,
            "grid_row": null,
            "grid_template_areas": null,
            "grid_template_columns": null,
            "grid_template_rows": null,
            "height": null,
            "justify_content": null,
            "justify_items": null,
            "left": null,
            "margin": null,
            "max_height": null,
            "max_width": null,
            "min_height": null,
            "min_width": null,
            "object_fit": null,
            "object_position": null,
            "order": null,
            "overflow": null,
            "overflow_x": null,
            "overflow_y": null,
            "padding": null,
            "right": null,
            "top": null,
            "visibility": null,
            "width": null
          }
        },
        "74eb931f32ec46e38150e4bace79ac79": {
          "model_module": "@jupyter-widgets/controls",
          "model_name": "DescriptionStyleModel",
          "model_module_version": "1.5.0",
          "state": {
            "_model_module": "@jupyter-widgets/controls",
            "_model_module_version": "1.5.0",
            "_model_name": "DescriptionStyleModel",
            "_view_count": null,
            "_view_module": "@jupyter-widgets/base",
            "_view_module_version": "1.2.0",
            "_view_name": "StyleView",
            "description_width": ""
          }
        }
      }
    },
    "accelerator": "GPU",
    "gpuClass": "standard"
  },
  "cells": [
    {
      "cell_type": "code",
      "metadata": {
        "id": "VdQmQRVFqXXk"
      },
      "source": [
        "# Работа с массивами данных\n",
        "import numpy as np \n",
        "\n",
        "# Работа с таблицами\n",
        "import pandas as pd\n",
        "\n",
        "# Отрисовка графиков\n",
        "import matplotlib.pyplot as plt\n",
        "\n",
        "# Функции-утилиты для работы с категориальными данными\n",
        "from tensorflow.keras import utils, models\n",
        "\n",
        "# Класс для конструирования последовательной модели нейронной сети\n",
        "from tensorflow.keras.models import Sequential\n",
        "\n",
        "# Основные слои\n",
        "from tensorflow.keras.layers import Dense, Dropout, BatchNormalization, Embedding, Flatten, Activation \n",
        "\n",
        "# Токенизатор для преобразование текстов в последовательности\n",
        "from tensorflow.keras.preprocessing.text import Tokenizer\n",
        "\n",
        "# Заполнение последовательностей до определенной длины\n",
        "from tensorflow.keras.preprocessing.sequence import pad_sequences\n",
        "\n",
        "from tensorflow.keras.callbacks import ModelCheckpoint\n",
        "\n",
        "# Матрица ошибок классификатора\n",
        "from sklearn.metrics import confusion_matrix, ConfusionMatrixDisplay\n",
        "\n",
        "# Отрисовка графиков\n",
        "import matplotlib.pyplot as plt\n",
        "\n",
        "%matplotlib inline"
      ],
      "execution_count": null,
      "outputs": []
    },
    {
      "cell_type": "code",
      "source": [
        "# Чтение файла базы данных\n",
        "df = pd.read_csv('/content/drive/MyDrive/Colab Notebooks/train_dataset_KURSK.csv', index_col=0)\n",
        "\n",
        "print(df.shape)\n",
        "\n",
        "df.head(20)"
      ],
      "metadata": {
        "colab": {
          "base_uri": "https://localhost:8080/",
          "height": 1000
        },
        "id": "yLbort_myo9v",
        "outputId": "7571df2b-0f60-4be5-ea45-8b67bc99626f"
      },
      "execution_count": null,
      "outputs": [
        {
          "output_type": "stream",
          "name": "stdout",
          "text": [
            "(2000, 4)\n"
          ]
        },
        {
          "output_type": "execute_result",
          "data": {
            "text/plain": [
              "                                        Текст Сообщения  \\\n",
              "id                                                        \n",
              "2246  Помогите начальник Льговского рэс не реагирует...   \n",
              "380   <p>По фасаду дома по адресу ул. Урицкого 22 пр...   \n",
              "2240  Агресивные собаки. На радуге там стая из подро...   \n",
              "596   <p>На пересечении &nbsp;улиц Сосновская и Бере...   \n",
              "1797  <p style=`text-align:justify;`><span style=`ba...   \n",
              "1383  <p>Добрый день! Управляющая Компания “Аврора +...   \n",
              "1934  Добрый день, полностью отсутствует наружнее ос...   \n",
              "2833  Едкий и вредный для здоровья запах от карьеров...   \n",
              "1263                             <p>Отсутствие люка</p>   \n",
              "1593  <p>Добрый день.&nbsp;</p><p>На остановке `Площ...   \n",
              "1900  Здравствуйте, в д. Старый Бузец уже 3 дня не ч...   \n",
              "1852  ООО Управляющая Компания «Мой Дом» в лице учре...   \n",
              "478   <p>Добрый день, мною ранее было опубликовано с...   \n",
              "2239                                    Отсутствие люка   \n",
              "1635  <p>Добрый день. Прошу помощи в решении нашей п...   \n",
              "469   <p>В центре города, а архитектурные формы расс...   \n",
              "304   <p>Старые гаражи рядом с звездной 11а. Вокруг ...   \n",
              "630                                 <p>Дорога&nbsp;</p>   \n",
              "849   <p>Добрый день. Сегодня 17.08.2021 напротив мо...   \n",
              "1240  <p>На улице Разина от 9 дома практически полно...   \n",
              "\n",
              "                                               Тематика  \\\n",
              "id                                                        \n",
              "2246  Нарушения, связанные с содержанием электросети...   \n",
              "380                                   Аварийные деревья   \n",
              "2240                              Безнадзорные животные   \n",
              "596   Нескошенная сорная растительность в местах общ...   \n",
              "1797                                  Аварийные деревья   \n",
              "1383  Несвоевременная очистка дворовой территории мн...   \n",
              "1934                    Неработающее наружное освещение   \n",
              "2833                                  Неприятные запахи   \n",
              "1263      Отсутствие люков на коммуникационных колодцах   \n",
              "1593  Пешеходные переходы на дорогах в границах горо...   \n",
              "1900  Очистка от снега и наледи дорог в границах гор...   \n",
              "1852              Нарушения в вопросах оплаты услуг ЖКХ   \n",
              "478   Неудовлетворительное содержание детской (спорт...   \n",
              "2239      Отсутствие люков на коммуникационных колодцах   \n",
              "1635  Нарушение дорожного покрытия (ямы)  на дорогах...   \n",
              "469   Несвоевременный (некачественный) текущий ремон...   \n",
              "304        Неудовлетворительная уборка улиц и тротуаров   \n",
              "630   Нарушение дорожного покрытия (ямы)  на дорогах...   \n",
              "849   Пешеходные переходы на дорогах в границах горо...   \n",
              "1240                  Необходимо строительство тротуара   \n",
              "\n",
              "                                     Ответственное лицо  Категория  \n",
              "id                                                                  \n",
              "2246                    Администрация Льговского района          3  \n",
              "380                         Администрация города Курска          3  \n",
              "2240                        Администрация города Курска          1  \n",
              "596           Комитет дорожного хозяйства города Курска          3  \n",
              "1797         Комитет городского хозяйства города Курска          3  \n",
              "1383  Комитет жилищно-коммунального хозяйства города...          3  \n",
              "1934                        Администрация города Курска          3  \n",
              "2833         Комитет природных ресурсов Курской области         16  \n",
              "1263  Муниципальное казенное учреждение «Городская и...          3  \n",
              "1593         Комитет природных ресурсов Курской области          0  \n",
              "1900               Администрация Железногорского района          0  \n",
              "1852  Государственная жилищная инспекция Курской обл...          3  \n",
              "478                         Администрация города Курска          3  \n",
              "2239                        Администрация города Курска          3  \n",
              "1635         Комитет городского хозяйства города Курска          0  \n",
              "469   Государственная жилищная инспекция Курской обл...          3  \n",
              "304                         Администрация города Курска          3  \n",
              "630           Комитет дорожного хозяйства города Курска          0  \n",
              "849           Комитет дорожного хозяйства города Курска          0  \n",
              "1240          Комитет дорожного хозяйства города Курска          3  "
            ],
            "text/html": [
              "\n",
              "  <div id=\"df-8b796961-ce43-425a-a95b-969f3f11989a\">\n",
              "    <div class=\"colab-df-container\">\n",
              "      <div>\n",
              "<style scoped>\n",
              "    .dataframe tbody tr th:only-of-type {\n",
              "        vertical-align: middle;\n",
              "    }\n",
              "\n",
              "    .dataframe tbody tr th {\n",
              "        vertical-align: top;\n",
              "    }\n",
              "\n",
              "    .dataframe thead th {\n",
              "        text-align: right;\n",
              "    }\n",
              "</style>\n",
              "<table border=\"1\" class=\"dataframe\">\n",
              "  <thead>\n",
              "    <tr style=\"text-align: right;\">\n",
              "      <th></th>\n",
              "      <th>Текст Сообщения</th>\n",
              "      <th>Тематика</th>\n",
              "      <th>Ответственное лицо</th>\n",
              "      <th>Категория</th>\n",
              "    </tr>\n",
              "    <tr>\n",
              "      <th>id</th>\n",
              "      <th></th>\n",
              "      <th></th>\n",
              "      <th></th>\n",
              "      <th></th>\n",
              "    </tr>\n",
              "  </thead>\n",
              "  <tbody>\n",
              "    <tr>\n",
              "      <th>2246</th>\n",
              "      <td>Помогите начальник Льговского рэс не реагирует...</td>\n",
              "      <td>Нарушения, связанные с содержанием электросети...</td>\n",
              "      <td>Администрация Льговского района</td>\n",
              "      <td>3</td>\n",
              "    </tr>\n",
              "    <tr>\n",
              "      <th>380</th>\n",
              "      <td>&lt;p&gt;По фасаду дома по адресу ул. Урицкого 22 пр...</td>\n",
              "      <td>Аварийные деревья</td>\n",
              "      <td>Администрация города Курска</td>\n",
              "      <td>3</td>\n",
              "    </tr>\n",
              "    <tr>\n",
              "      <th>2240</th>\n",
              "      <td>Агресивные собаки. На радуге там стая из подро...</td>\n",
              "      <td>Безнадзорные животные</td>\n",
              "      <td>Администрация города Курска</td>\n",
              "      <td>1</td>\n",
              "    </tr>\n",
              "    <tr>\n",
              "      <th>596</th>\n",
              "      <td>&lt;p&gt;На пересечении &amp;nbsp;улиц Сосновская и Бере...</td>\n",
              "      <td>Нескошенная сорная растительность в местах общ...</td>\n",
              "      <td>Комитет дорожного хозяйства города Курска</td>\n",
              "      <td>3</td>\n",
              "    </tr>\n",
              "    <tr>\n",
              "      <th>1797</th>\n",
              "      <td>&lt;p style=`text-align:justify;`&gt;&lt;span style=`ba...</td>\n",
              "      <td>Аварийные деревья</td>\n",
              "      <td>Комитет городского хозяйства города Курска</td>\n",
              "      <td>3</td>\n",
              "    </tr>\n",
              "    <tr>\n",
              "      <th>1383</th>\n",
              "      <td>&lt;p&gt;Добрый день! Управляющая Компания “Аврора +...</td>\n",
              "      <td>Несвоевременная очистка дворовой территории мн...</td>\n",
              "      <td>Комитет жилищно-коммунального хозяйства города...</td>\n",
              "      <td>3</td>\n",
              "    </tr>\n",
              "    <tr>\n",
              "      <th>1934</th>\n",
              "      <td>Добрый день, полностью отсутствует наружнее ос...</td>\n",
              "      <td>Неработающее наружное освещение</td>\n",
              "      <td>Администрация города Курска</td>\n",
              "      <td>3</td>\n",
              "    </tr>\n",
              "    <tr>\n",
              "      <th>2833</th>\n",
              "      <td>Едкий и вредный для здоровья запах от карьеров...</td>\n",
              "      <td>Неприятные запахи</td>\n",
              "      <td>Комитет природных ресурсов Курской области</td>\n",
              "      <td>16</td>\n",
              "    </tr>\n",
              "    <tr>\n",
              "      <th>1263</th>\n",
              "      <td>&lt;p&gt;Отсутствие люка&lt;/p&gt;</td>\n",
              "      <td>Отсутствие люков на коммуникационных колодцах</td>\n",
              "      <td>Муниципальное казенное учреждение «Городская и...</td>\n",
              "      <td>3</td>\n",
              "    </tr>\n",
              "    <tr>\n",
              "      <th>1593</th>\n",
              "      <td>&lt;p&gt;Добрый день.&amp;nbsp;&lt;/p&gt;&lt;p&gt;На остановке `Площ...</td>\n",
              "      <td>Пешеходные переходы на дорогах в границах горо...</td>\n",
              "      <td>Комитет природных ресурсов Курской области</td>\n",
              "      <td>0</td>\n",
              "    </tr>\n",
              "    <tr>\n",
              "      <th>1900</th>\n",
              "      <td>Здравствуйте, в д. Старый Бузец уже 3 дня не ч...</td>\n",
              "      <td>Очистка от снега и наледи дорог в границах гор...</td>\n",
              "      <td>Администрация Железногорского района</td>\n",
              "      <td>0</td>\n",
              "    </tr>\n",
              "    <tr>\n",
              "      <th>1852</th>\n",
              "      <td>ООО Управляющая Компания «Мой Дом» в лице учре...</td>\n",
              "      <td>Нарушения в вопросах оплаты услуг ЖКХ</td>\n",
              "      <td>Государственная жилищная инспекция Курской обл...</td>\n",
              "      <td>3</td>\n",
              "    </tr>\n",
              "    <tr>\n",
              "      <th>478</th>\n",
              "      <td>&lt;p&gt;Добрый день, мною ранее было опубликовано с...</td>\n",
              "      <td>Неудовлетворительное содержание детской (спорт...</td>\n",
              "      <td>Администрация города Курска</td>\n",
              "      <td>3</td>\n",
              "    </tr>\n",
              "    <tr>\n",
              "      <th>2239</th>\n",
              "      <td>Отсутствие люка</td>\n",
              "      <td>Отсутствие люков на коммуникационных колодцах</td>\n",
              "      <td>Администрация города Курска</td>\n",
              "      <td>3</td>\n",
              "    </tr>\n",
              "    <tr>\n",
              "      <th>1635</th>\n",
              "      <td>&lt;p&gt;Добрый день. Прошу помощи в решении нашей п...</td>\n",
              "      <td>Нарушение дорожного покрытия (ямы)  на дорогах...</td>\n",
              "      <td>Комитет городского хозяйства города Курска</td>\n",
              "      <td>0</td>\n",
              "    </tr>\n",
              "    <tr>\n",
              "      <th>469</th>\n",
              "      <td>&lt;p&gt;В центре города, а архитектурные формы расс...</td>\n",
              "      <td>Несвоевременный (некачественный) текущий ремон...</td>\n",
              "      <td>Государственная жилищная инспекция Курской обл...</td>\n",
              "      <td>3</td>\n",
              "    </tr>\n",
              "    <tr>\n",
              "      <th>304</th>\n",
              "      <td>&lt;p&gt;Старые гаражи рядом с звездной 11а. Вокруг ...</td>\n",
              "      <td>Неудовлетворительная уборка улиц и тротуаров</td>\n",
              "      <td>Администрация города Курска</td>\n",
              "      <td>3</td>\n",
              "    </tr>\n",
              "    <tr>\n",
              "      <th>630</th>\n",
              "      <td>&lt;p&gt;Дорога&amp;nbsp;&lt;/p&gt;</td>\n",
              "      <td>Нарушение дорожного покрытия (ямы)  на дорогах...</td>\n",
              "      <td>Комитет дорожного хозяйства города Курска</td>\n",
              "      <td>0</td>\n",
              "    </tr>\n",
              "    <tr>\n",
              "      <th>849</th>\n",
              "      <td>&lt;p&gt;Добрый день. Сегодня 17.08.2021 напротив мо...</td>\n",
              "      <td>Пешеходные переходы на дорогах в границах горо...</td>\n",
              "      <td>Комитет дорожного хозяйства города Курска</td>\n",
              "      <td>0</td>\n",
              "    </tr>\n",
              "    <tr>\n",
              "      <th>1240</th>\n",
              "      <td>&lt;p&gt;На улице Разина от 9 дома практически полно...</td>\n",
              "      <td>Необходимо строительство тротуара</td>\n",
              "      <td>Комитет дорожного хозяйства города Курска</td>\n",
              "      <td>3</td>\n",
              "    </tr>\n",
              "  </tbody>\n",
              "</table>\n",
              "</div>\n",
              "      <button class=\"colab-df-convert\" onclick=\"convertToInteractive('df-8b796961-ce43-425a-a95b-969f3f11989a')\"\n",
              "              title=\"Convert this dataframe to an interactive table.\"\n",
              "              style=\"display:none;\">\n",
              "        \n",
              "  <svg xmlns=\"http://www.w3.org/2000/svg\" height=\"24px\"viewBox=\"0 0 24 24\"\n",
              "       width=\"24px\">\n",
              "    <path d=\"M0 0h24v24H0V0z\" fill=\"none\"/>\n",
              "    <path d=\"M18.56 5.44l.94 2.06.94-2.06 2.06-.94-2.06-.94-.94-2.06-.94 2.06-2.06.94zm-11 1L8.5 8.5l.94-2.06 2.06-.94-2.06-.94L8.5 2.5l-.94 2.06-2.06.94zm10 10l.94 2.06.94-2.06 2.06-.94-2.06-.94-.94-2.06-.94 2.06-2.06.94z\"/><path d=\"M17.41 7.96l-1.37-1.37c-.4-.4-.92-.59-1.43-.59-.52 0-1.04.2-1.43.59L10.3 9.45l-7.72 7.72c-.78.78-.78 2.05 0 2.83L4 21.41c.39.39.9.59 1.41.59.51 0 1.02-.2 1.41-.59l7.78-7.78 2.81-2.81c.8-.78.8-2.07 0-2.86zM5.41 20L4 18.59l7.72-7.72 1.47 1.35L5.41 20z\"/>\n",
              "  </svg>\n",
              "      </button>\n",
              "      \n",
              "  <style>\n",
              "    .colab-df-container {\n",
              "      display:flex;\n",
              "      flex-wrap:wrap;\n",
              "      gap: 12px;\n",
              "    }\n",
              "\n",
              "    .colab-df-convert {\n",
              "      background-color: #E8F0FE;\n",
              "      border: none;\n",
              "      border-radius: 50%;\n",
              "      cursor: pointer;\n",
              "      display: none;\n",
              "      fill: #1967D2;\n",
              "      height: 32px;\n",
              "      padding: 0 0 0 0;\n",
              "      width: 32px;\n",
              "    }\n",
              "\n",
              "    .colab-df-convert:hover {\n",
              "      background-color: #E2EBFA;\n",
              "      box-shadow: 0px 1px 2px rgba(60, 64, 67, 0.3), 0px 1px 3px 1px rgba(60, 64, 67, 0.15);\n",
              "      fill: #174EA6;\n",
              "    }\n",
              "\n",
              "    [theme=dark] .colab-df-convert {\n",
              "      background-color: #3B4455;\n",
              "      fill: #D2E3FC;\n",
              "    }\n",
              "\n",
              "    [theme=dark] .colab-df-convert:hover {\n",
              "      background-color: #434B5C;\n",
              "      box-shadow: 0px 1px 3px 1px rgba(0, 0, 0, 0.15);\n",
              "      filter: drop-shadow(0px 1px 2px rgba(0, 0, 0, 0.3));\n",
              "      fill: #FFFFFF;\n",
              "    }\n",
              "  </style>\n",
              "\n",
              "      <script>\n",
              "        const buttonEl =\n",
              "          document.querySelector('#df-8b796961-ce43-425a-a95b-969f3f11989a button.colab-df-convert');\n",
              "        buttonEl.style.display =\n",
              "          google.colab.kernel.accessAllowed ? 'block' : 'none';\n",
              "\n",
              "        async function convertToInteractive(key) {\n",
              "          const element = document.querySelector('#df-8b796961-ce43-425a-a95b-969f3f11989a');\n",
              "          const dataTable =\n",
              "            await google.colab.kernel.invokeFunction('convertToInteractive',\n",
              "                                                     [key], {});\n",
              "          if (!dataTable) return;\n",
              "\n",
              "          const docLinkHtml = 'Like what you see? Visit the ' +\n",
              "            '<a target=\"_blank\" href=https://colab.research.google.com/notebooks/data_table.ipynb>data table notebook</a>'\n",
              "            + ' to learn more about interactive tables.';\n",
              "          element.innerHTML = '';\n",
              "          dataTable['output_type'] = 'display_data';\n",
              "          await google.colab.output.renderOutput(dataTable, element);\n",
              "          const docLink = document.createElement('div');\n",
              "          docLink.innerHTML = docLinkHtml;\n",
              "          element.appendChild(docLink);\n",
              "        }\n",
              "      </script>\n",
              "    </div>\n",
              "  </div>\n",
              "  "
            ]
          },
          "metadata": {},
          "execution_count": 2
        }
      ]
    },
    {
      "cell_type": "code",
      "source": [
        "# Чтение файла базы данных\n",
        "df_test = pd.read_csv('/content/drive/MyDrive/Colab Notebooks/test_dataset_KURSK.csv', index_col=0)\n",
        "\n",
        "#\n",
        "print(df_test.shape)\n",
        "df_test.head()"
      ],
      "metadata": {
        "colab": {
          "base_uri": "https://localhost:8080/",
          "height": 299
        },
        "id": "y0mTkzLd9YU-",
        "outputId": "37f90d48-bfe7-46c3-8382-e7051302c07b"
      },
      "execution_count": null,
      "outputs": [
        {
          "output_type": "stream",
          "name": "stdout",
          "text": [
            "(1000, 3)\n"
          ]
        },
        {
          "output_type": "execute_result",
          "data": {
            "text/plain": [
              "                                        Текст Сообщения  \\\n",
              "id                                                        \n",
              "843   <p>Здравствуйте. На улице Мира &nbsp;было заме...   \n",
              "1422  <p>Уже вторую неделю не горит уличное освещени...   \n",
              "2782  Не работает освещение во дворе дома 11а по Эне...   \n",
              "2704  После покоса сорной растительности на газоне м...   \n",
              "1     <p>Прошу принять меры к водителю маршрута 263:...   \n",
              "\n",
              "                                               Тематика  \\\n",
              "id                                                        \n",
              "843                     Неработающее наружное освещение   \n",
              "1422                    Неработающее наружное освещение   \n",
              "2782                    Неработающее наружное освещение   \n",
              "2704       Неудовлетворительная уборка улиц и тротуаров   \n",
              "1     Неудовлетворительный внешний вид (поведение) в...   \n",
              "\n",
              "                                     Ответственное лицо  \n",
              "id                                                       \n",
              "843                  Администрация Курчатовского района  \n",
              "1422  Комитет жилищно-коммунального хозяйства города...  \n",
              "2782  Комитет жилищно-коммунального хозяйства города...  \n",
              "2704    Администрация Центрального округа города Курска  \n",
              "1                           Администрация города Курска  "
            ],
            "text/html": [
              "\n",
              "  <div id=\"df-e7a6bb2d-bf62-4d1b-a314-6a272cc63c4a\">\n",
              "    <div class=\"colab-df-container\">\n",
              "      <div>\n",
              "<style scoped>\n",
              "    .dataframe tbody tr th:only-of-type {\n",
              "        vertical-align: middle;\n",
              "    }\n",
              "\n",
              "    .dataframe tbody tr th {\n",
              "        vertical-align: top;\n",
              "    }\n",
              "\n",
              "    .dataframe thead th {\n",
              "        text-align: right;\n",
              "    }\n",
              "</style>\n",
              "<table border=\"1\" class=\"dataframe\">\n",
              "  <thead>\n",
              "    <tr style=\"text-align: right;\">\n",
              "      <th></th>\n",
              "      <th>Текст Сообщения</th>\n",
              "      <th>Тематика</th>\n",
              "      <th>Ответственное лицо</th>\n",
              "    </tr>\n",
              "    <tr>\n",
              "      <th>id</th>\n",
              "      <th></th>\n",
              "      <th></th>\n",
              "      <th></th>\n",
              "    </tr>\n",
              "  </thead>\n",
              "  <tbody>\n",
              "    <tr>\n",
              "      <th>843</th>\n",
              "      <td>&lt;p&gt;Здравствуйте. На улице Мира &amp;nbsp;было заме...</td>\n",
              "      <td>Неработающее наружное освещение</td>\n",
              "      <td>Администрация Курчатовского района</td>\n",
              "    </tr>\n",
              "    <tr>\n",
              "      <th>1422</th>\n",
              "      <td>&lt;p&gt;Уже вторую неделю не горит уличное освещени...</td>\n",
              "      <td>Неработающее наружное освещение</td>\n",
              "      <td>Комитет жилищно-коммунального хозяйства города...</td>\n",
              "    </tr>\n",
              "    <tr>\n",
              "      <th>2782</th>\n",
              "      <td>Не работает освещение во дворе дома 11а по Эне...</td>\n",
              "      <td>Неработающее наружное освещение</td>\n",
              "      <td>Комитет жилищно-коммунального хозяйства города...</td>\n",
              "    </tr>\n",
              "    <tr>\n",
              "      <th>2704</th>\n",
              "      <td>После покоса сорной растительности на газоне м...</td>\n",
              "      <td>Неудовлетворительная уборка улиц и тротуаров</td>\n",
              "      <td>Администрация Центрального округа города Курска</td>\n",
              "    </tr>\n",
              "    <tr>\n",
              "      <th>1</th>\n",
              "      <td>&lt;p&gt;Прошу принять меры к водителю маршрута 263:...</td>\n",
              "      <td>Неудовлетворительный внешний вид (поведение) в...</td>\n",
              "      <td>Администрация города Курска</td>\n",
              "    </tr>\n",
              "  </tbody>\n",
              "</table>\n",
              "</div>\n",
              "      <button class=\"colab-df-convert\" onclick=\"convertToInteractive('df-e7a6bb2d-bf62-4d1b-a314-6a272cc63c4a')\"\n",
              "              title=\"Convert this dataframe to an interactive table.\"\n",
              "              style=\"display:none;\">\n",
              "        \n",
              "  <svg xmlns=\"http://www.w3.org/2000/svg\" height=\"24px\"viewBox=\"0 0 24 24\"\n",
              "       width=\"24px\">\n",
              "    <path d=\"M0 0h24v24H0V0z\" fill=\"none\"/>\n",
              "    <path d=\"M18.56 5.44l.94 2.06.94-2.06 2.06-.94-2.06-.94-.94-2.06-.94 2.06-2.06.94zm-11 1L8.5 8.5l.94-2.06 2.06-.94-2.06-.94L8.5 2.5l-.94 2.06-2.06.94zm10 10l.94 2.06.94-2.06 2.06-.94-2.06-.94-.94-2.06-.94 2.06-2.06.94z\"/><path d=\"M17.41 7.96l-1.37-1.37c-.4-.4-.92-.59-1.43-.59-.52 0-1.04.2-1.43.59L10.3 9.45l-7.72 7.72c-.78.78-.78 2.05 0 2.83L4 21.41c.39.39.9.59 1.41.59.51 0 1.02-.2 1.41-.59l7.78-7.78 2.81-2.81c.8-.78.8-2.07 0-2.86zM5.41 20L4 18.59l7.72-7.72 1.47 1.35L5.41 20z\"/>\n",
              "  </svg>\n",
              "      </button>\n",
              "      \n",
              "  <style>\n",
              "    .colab-df-container {\n",
              "      display:flex;\n",
              "      flex-wrap:wrap;\n",
              "      gap: 12px;\n",
              "    }\n",
              "\n",
              "    .colab-df-convert {\n",
              "      background-color: #E8F0FE;\n",
              "      border: none;\n",
              "      border-radius: 50%;\n",
              "      cursor: pointer;\n",
              "      display: none;\n",
              "      fill: #1967D2;\n",
              "      height: 32px;\n",
              "      padding: 0 0 0 0;\n",
              "      width: 32px;\n",
              "    }\n",
              "\n",
              "    .colab-df-convert:hover {\n",
              "      background-color: #E2EBFA;\n",
              "      box-shadow: 0px 1px 2px rgba(60, 64, 67, 0.3), 0px 1px 3px 1px rgba(60, 64, 67, 0.15);\n",
              "      fill: #174EA6;\n",
              "    }\n",
              "\n",
              "    [theme=dark] .colab-df-convert {\n",
              "      background-color: #3B4455;\n",
              "      fill: #D2E3FC;\n",
              "    }\n",
              "\n",
              "    [theme=dark] .colab-df-convert:hover {\n",
              "      background-color: #434B5C;\n",
              "      box-shadow: 0px 1px 3px 1px rgba(0, 0, 0, 0.15);\n",
              "      filter: drop-shadow(0px 1px 2px rgba(0, 0, 0, 0.3));\n",
              "      fill: #FFFFFF;\n",
              "    }\n",
              "  </style>\n",
              "\n",
              "      <script>\n",
              "        const buttonEl =\n",
              "          document.querySelector('#df-e7a6bb2d-bf62-4d1b-a314-6a272cc63c4a button.colab-df-convert');\n",
              "        buttonEl.style.display =\n",
              "          google.colab.kernel.accessAllowed ? 'block' : 'none';\n",
              "\n",
              "        async function convertToInteractive(key) {\n",
              "          const element = document.querySelector('#df-e7a6bb2d-bf62-4d1b-a314-6a272cc63c4a');\n",
              "          const dataTable =\n",
              "            await google.colab.kernel.invokeFunction('convertToInteractive',\n",
              "                                                     [key], {});\n",
              "          if (!dataTable) return;\n",
              "\n",
              "          const docLinkHtml = 'Like what you see? Visit the ' +\n",
              "            '<a target=\"_blank\" href=https://colab.research.google.com/notebooks/data_table.ipynb>data table notebook</a>'\n",
              "            + ' to learn more about interactive tables.';\n",
              "          element.innerHTML = '';\n",
              "          dataTable['output_type'] = 'display_data';\n",
              "          await google.colab.output.renderOutput(dataTable, element);\n",
              "          const docLink = document.createElement('div');\n",
              "          docLink.innerHTML = docLinkHtml;\n",
              "          element.appendChild(docLink);\n",
              "        }\n",
              "      </script>\n",
              "    </div>\n",
              "  </div>\n",
              "  "
            ]
          },
          "metadata": {},
          "execution_count": 3
        }
      ]
    },
    {
      "cell_type": "code",
      "source": [
        "df.info()"
      ],
      "metadata": {
        "colab": {
          "base_uri": "https://localhost:8080/"
        },
        "id": "E7SnkxZXypBX",
        "outputId": "20fbd3b8-761a-4080-e2ce-dbc13bd0b627"
      },
      "execution_count": null,
      "outputs": [
        {
          "output_type": "stream",
          "name": "stdout",
          "text": [
            "<class 'pandas.core.frame.DataFrame'>\n",
            "Int64Index: 2000 entries, 2246 to 1185\n",
            "Data columns (total 4 columns):\n",
            " #   Column              Non-Null Count  Dtype \n",
            "---  ------              --------------  ----- \n",
            " 0   Текст Сообщения     2000 non-null   object\n",
            " 1   Тематика            2000 non-null   object\n",
            " 2   Ответственное лицо  2000 non-null   object\n",
            " 3   Категория           2000 non-null   int64 \n",
            "dtypes: int64(1), object(3)\n",
            "memory usage: 78.1+ KB\n"
          ]
        }
      ]
    },
    {
      "cell_type": "code",
      "source": [
        "df_test.info()"
      ],
      "metadata": {
        "colab": {
          "base_uri": "https://localhost:8080/"
        },
        "id": "czRjWOAx1NYg",
        "outputId": "5273fdcd-5502-4e2a-911a-3107439d2bd7"
      },
      "execution_count": null,
      "outputs": [
        {
          "output_type": "stream",
          "name": "stdout",
          "text": [
            "<class 'pandas.core.frame.DataFrame'>\n",
            "Int64Index: 1000 entries, 843 to 2567\n",
            "Data columns (total 3 columns):\n",
            " #   Column              Non-Null Count  Dtype \n",
            "---  ------              --------------  ----- \n",
            " 0   Текст Сообщения     1000 non-null   object\n",
            " 1   Тематика            1000 non-null   object\n",
            " 2   Ответственное лицо  1000 non-null   object\n",
            "dtypes: object(3)\n",
            "memory usage: 31.2+ KB\n"
          ]
        }
      ]
    },
    {
      "cell_type": "code",
      "source": [
        "df.Категория.value_counts()"
      ],
      "metadata": {
        "colab": {
          "base_uri": "https://localhost:8080/"
        },
        "id": "JngMZEL6ypDF",
        "outputId": "4fa45324-8f60-4423-9bb9-c517d852baf8"
      },
      "execution_count": null,
      "outputs": [
        {
          "output_type": "execute_result",
          "data": {
            "text/plain": [
              "3     954\n",
              "0     478\n",
              "16    149\n",
              "8     139\n",
              "4     108\n",
              "10     48\n",
              "7      27\n",
              "1      25\n",
              "11     19\n",
              "5      12\n",
              "13     11\n",
              "6      10\n",
              "15      7\n",
              "9       5\n",
              "14      4\n",
              "2       3\n",
              "12      1\n",
              "Name: Категория, dtype: int64"
            ]
          },
          "metadata": {},
          "execution_count": 6
        }
      ]
    },
    {
      "cell_type": "code",
      "source": [
        "df_test.Тематика.value_counts()"
      ],
      "metadata": {
        "colab": {
          "base_uri": "https://localhost:8080/"
        },
        "id": "KZ3wfdDoOIya",
        "outputId": "3f32661e-e33a-45cc-d53c-84eb732bd8e8"
      },
      "execution_count": null,
      "outputs": [
        {
          "output_type": "execute_result",
          "data": {
            "text/plain": [
              "Нарушение дорожного покрытия (ямы)  на дорогах в границах городских округов и сельских поселений    77\n",
              "Неработающее наружное освещение                                                                     54\n",
              "Аварийные деревья                                                                                   54\n",
              "Неудовлетворительная уборка улиц и тротуаров                                                        38\n",
              "Несанкционированные свалки твёрдых бытовых отходов                                                  38\n",
              "                                                                                                    ..\n",
              "Проблемы с записью на вакцинацию                                                                     1\n",
              "Несанкционированный сброс жидких бытовых отходов                                                     1\n",
              "Нарушения в вопросах оплаты коммунальных услуг                                                       1\n",
              "Несвоевременная выплата заработной платы                                                             1\n",
              "Отсутствие твёрдого дорожного покрытия на дорогах регионального и межмуниципального значения         1\n",
              "Name: Тематика, Length: 119, dtype: int64"
            ]
          },
          "metadata": {},
          "execution_count": 7
        }
      ]
    },
    {
      "cell_type": "code",
      "source": [
        "values = df['Тематика'].value_counts().keys().tolist()\n",
        "print(values)"
      ],
      "metadata": {
        "colab": {
          "base_uri": "https://localhost:8080/"
        },
        "id": "lE-DT1vj9viY",
        "outputId": "5136b6d1-d545-4df1-d32e-9b7baca34502"
      },
      "execution_count": null,
      "outputs": [
        {
          "output_type": "stream",
          "name": "stdout",
          "text": [
            "['Нарушение дорожного покрытия (ямы)  на дорогах в границах городских округов и сельских поселений', 'Неработающее наружное освещение', 'Отсутствие люков на коммуникационных колодцах', 'Несанкционированные свалки твёрдых бытовых отходов', 'Аварийные деревья', 'Нарушение теплоснабжения многоквартирного дома', 'Некачественное водоснабжение многоквартирного дома', 'Неудовлетворительная уборка улиц и тротуаров', 'Не соответствующий установленным нормам сбор и вывоз твёрдых бытовых отходов в районах многоквартирных домов', 'Неприятные запахи', 'Очистка от снега и наледи дорог в границах городских округов и сельских поселений', 'Отсутствие твёрдого дорожного покрытия на дорогах в границах городских округов и сельских поселений', 'Парковки на дорогах в границах городских округов и сельских поселений', 'Пешеходные переходы на дорогах в границах городских округов и сельских поселений', 'Светофоры на дорогах в границах городских округов и сельских поселений', 'Нарушения в вопросах назначения и выплат пособий и компенсаций', 'Длительное неисполнение заявок управляющей компанией', 'Неудовлетворительное качество оказания медицинской помощи', 'Недостаточное количество транспорта на маршруте при осуществлении муниципальных (пригородных) перевозок', 'Нарушение правил посадки и высадки пассажиров при осуществлении муниципальных (пригородных) перевозок', 'Неудовлетворительное содержание детской (спортивной) площадки на территории многоквартирных домов', 'Несвоевременный (некачественный) текущий ремонт многоквартирного дома', 'Неудовлетворительное содержание клумб и газонов', 'Некачественное водоснабжение в районе частного сектора', 'Безнадзорные животные', 'Дорожные знаки на дорогах в границах городских округов и сельских поселений', 'Неудовлетворительное содержание парков и скверов', 'Освещение дорог в границах городских округов и сельских поселений', 'Ливневая канализация', 'Неудовлетворительное содержание фасадов зданий и сооружений, общественных мест', 'Нескошенная сорная растительность в местах общего пользования в микрорайонах ИЖС', 'Нескошенная сорная растительность в местах общего пользования в районах частного сектра', 'Несвоевременное восстановление нарушенного благоустройства после проведения ремонтных работ', 'Неудовлетворительное санитарное состояние транспорта при осуществлении  муниципальных (пригородных) перевозок', 'Некачественная уборка дворовой территории многоквартирных домов', 'Нарушения, связанные с содержанием электросети и качеством энергоснабжения в районе частного сектора', 'Необходимо строительство тротуара', 'Нарушения связанные с обеспечением лекарственными средствами', 'Ямы и выбоины на внутридворовых проездах и тротуарах  в районах многоквартирных домов', 'Ямы и выбоины на тротуарах', 'Неудовлетворительная уборка и освещение мест общего пользования в многоквартирном доме', 'Несвоевременная очистка дворовой территории многоквартирных домов от наледи и снега', 'Сертификат вакцинированного', 'Сертификат переболевшего', 'Безопасная дорога в школу на дорогах в границах городских округов и сельских поселений', 'Нарушения порядка предоставления мер социальной поддержки, в т.ч. адресной помощи', 'Освещение дорог регионального и межмуниципального значения', 'Вакцинация от COVID-19', 'Не соответствующий установленным нормам сбор и вывоз твёрдых бытовых отходов с территории частного сектора', 'Неудовлетворительное санитарное состояние транспорта при осуществлении внутриобластных междугородных перевозок', 'Нарушения, связанные с оплатой проезда при осуществлении муниципальных (пригородных) перевозок', 'Неудовлетворительное материально-техническое состояние учреждений здравоохранения', 'Неудобный график движения при осуществлении муниципальных (пригородных) перевозок', 'Неудовлетворительное санитарное состояние и благоустройство памятников', 'Светофоры на дорогах регионального и межмуниципального значения', 'Нарушение дорожного покрытия (ямы) на дорогах регионального и межмуниципального значения', 'Посменное обучение', 'Очистка от снега и наледи дорог регионального и межмуниципального значения', 'Незаконная наружная реклама', 'Нарушения в вопросах оплаты услуг ЖКХ', 'Нарушение дорожного покрытия (ямы) на дорогах в микрорайонах ИЖС', 'Водоотведение', 'Нарушения, связанные с содержанием электросети и качеством энергоснабжения в многоквартирных домах', 'Неудовлетворительное санитарное или техническое состояние вагонов', 'Низкое качество проведения культурно-массовых мероприятий', 'Необходимо назначение дополнительных поездов', 'Остановки общественного транспорта на дорогах в границах городских округов и сельских поселений', 'Неудовлетворительное качество товара, оказания услуги', 'Дорожные знаки на дорогах регионального и межмуниципального значения', 'Нарушения, связанные с содержанием электросети и качеством энергоснабжения в микрорайонах ИЖС', 'Порча земель', 'Неудобный график движения пригородного ж/д транспорта', 'Несанкционированный сброс жидких бытовых отходов', 'Нарушение строительных норм', 'Проблемы с записью на вакцинацию', 'Дорожная разметка на дорогах в границах городских округов и сельских поселений', 'Искусственные неровности на дорогах в границах городских округов и сельских поселений', 'Наличие очереди на места в дошкольные учреждения', 'Отсутствует (неактуален) паспорт строительного объекта', 'Загрязнение водных объектов', 'Некачественный капитальный ремонт многоквартирного дома', '«Замороженная» стройка', 'Нарушения связанные с записью на прием, работой электронной регистратуры', 'Неэтичное поведение руководства и работников управляющей компании', 'Несанкционированная торговля', 'Нарушение правил посадки и высадки пассажиров при осуществлении внутриобластных междугородных перевозок', 'Дорожные знаки на дорогах в микрорайонах ИЖС', 'Пешеходные переходы на дорогах в микрорайонах ИЖС', 'Неудовлетворительное состояние прилегающей территории дошкольного учреждения', 'Незавершенное благоустройство после сдачи  строительного объекта в эксплуатацию', 'Я хочу задать вопрос о вакцинации', 'Неудовлетворительное состояние прилегающий территории школы', 'Меры поддержки в условиях неблагоприятной эпидемиологической ситуации в сфере образования', 'Аварийное жильё', 'Неудовлетворительное материально-техническое обеспечение школы', 'Нарушения в вопросах установления инвалидности, обеспечения средствами реабилитации', 'Социальные льготы', 'Отсутствие твёрдого дорожного покрытия на дорогах в микрорайонах ИЖС', 'Освещение дорог  в микрорайонах ИЖС', 'ПЦР-тест, тест на антитела', 'Неудовлетворительное содержание спортивных площадок (сооружений)', 'Тарификация ж/д перевозок', 'Нарушение правил пожарной безопасности в сфере природопользования', 'Неудовлетворительная работа диспетчерской службы управляющей компании', 'Сломанные малые архитектурные формы в районах многоквартирных домов', 'Не соответствующий установленным нормам сбор и вывоз твёрдых бытовых отходов с территории ИЖС', 'Неудовлетворительное материально-техническое обеспечение дошкольного учреждения', 'Несвоевременное (некачественное) строительство инженерных сетей в микрорайонах ИЖС', 'Плохое материально-техническое оснащение учреждений физической культуры и спорта', 'Несанкционированная вырубка зелёных насаждений в лесопарковых зонах', 'Меры поддержки в условиях неблагоприятной эпидемиологической ситуации среднему и малому бизнесу', 'Некачественное предоставление государственных услуг службой занятости населения', 'Отсутствие школы в микрорайоне (сельской территории)', 'Неисправный лифт в многоквартирном доме', 'Неудовлетворительное качество работы учителей и другого персонала', 'Ненадлежащее исполнение управляющей компанией работ по уборке и освещению мест общего пользования в многоквартирном доме', 'Остановки общественного транспорта на дорогах регионального и межмуниципального значения', 'Отсутствует (нарушено) ограждение строительного объекта', 'Вопросы предоставления государственных и муниципальных услуг', 'Недостаточное количество транспорта на маршруте при осуществлении внутриобластных междугородных перевозок', 'Неудовлетворительное содержание детской  (спортивной) площадки в микрорайоне ИЖС', 'Отсутствие услуги доступа в сеть Интернет', 'Несанкционированная вырубка зелёных насаждений в населённых пунктах', 'Некачественное предоставление услуг сотовой связи', 'Нарушения порядка обеспечения жильем льготных категорий граждан', 'Меры поддержки в условиях неблагоприятной эпидемиологической ситуации в сфере торговли', 'Необходимо строительство тротуара в микрорайоне ИЖС', 'Нарушение графика движения при осуществлении муниципальных (пригородных) перевозок', 'Неудовлетворительный внешний вид (поведение) водителя при осуществлении внутриобластных междугородных перевозок', 'Отказ в вакцинации', 'Нарушения в вопросах оплаты коммунальных услуг в микрорайонах ИЖС', 'Ошибка отображения данных об услугах, организациях, ведомствах на Портале госуслуг', 'Нарушения порядка присвоение звания «Ветеран труда»', 'Нарушение графика движения при осуществлении внутриобластных междугородных перевозок', 'Искусственные неровности на дорогах регионального и межмуниципального значения', 'Нарушения, связанные с обеспечением детским питанием', 'Неудовлетворительное качество работы воспитателей и другого персонала', 'Недостаточное количество вагонов', 'Меры поддержки в условиях неблагоприятной эпидемиологической ситуации в сфере медицины', 'Неудовлетворительное состояние прилегающей территории торгового учреждения', 'Пешеходные переходы на дорогах регионального и межмуниципального значения', 'Ненадлежащее исполнение управляющей компанией работ по содержанию электросети и обеспечению энергоснабжением в многоквартирных домах', 'Недостаточное обеспечение кадрами учреждений здравоохранения', 'Нарушения в вопросах оплаты коммунальных услуг', 'Низкое качество проведения спортивных мероприятий', 'Дневник самонаблюдения', 'Необходимо строительство детской (спортивной) площадки в микрорайоне ИЖС', 'Загрязнение территории прилегающей к строительному объекту', 'Некачественное водоснабжение в микрорайонах ИЖС', 'Несвоевременная выплата заработной платы', 'Неудовлетворительное качество работы преподавателей и другого персонала учреждения дополнительного образования', 'Нарушение сроков реализации товара, оказания услуг', 'Тестовая категория', 'Неудовлетворительное содержание детской  (спортивной) площадки в районе частного сектора', 'Неудобный график движения при осуществлении внутриобластных междугородных перевозок', 'Вопросы оказания помощи беженцам', 'Неудовлетворительный внешний вид (поведение) водителя при осуществлении муниципальных (пригородных) перевозок', 'Некачественное предоставление услуг почтовой связи', 'Неоформленные трудовые отношения', 'Низкое качество работы учреждений физической культуры и спорта', 'Нарушения, связанные с оплатой проезда при осуществлении внутриобластных междугородных перевозок']\n"
          ]
        }
      ]
    },
    {
      "cell_type": "code",
      "source": [
        "#  Уберем категории с количеством записей меньше 10\n",
        "for cls in [15, 9, 14, 2, 12]:\n",
        "  df = df.loc[df['Категория'] != cls]"
      ],
      "metadata": {
        "id": "IxXIc9ElN-3r"
      },
      "execution_count": null,
      "outputs": []
    },
    {
      "cell_type": "code",
      "source": [
        "df.Категория.unique()"
      ],
      "metadata": {
        "colab": {
          "base_uri": "https://localhost:8080/"
        },
        "id": "2_wYvkFvDJx6",
        "outputId": "36ff725d-5706-48d9-d8bd-cd5ed01f06df"
      },
      "execution_count": null,
      "outputs": [
        {
          "output_type": "execute_result",
          "data": {
            "text/plain": [
              "array([ 3,  1, 16,  0,  6,  8,  4, 13, 10, 11,  7,  5])"
            ]
          },
          "metadata": {},
          "execution_count": 12
        }
      ]
    },
    {
      "cell_type": "code",
      "source": [
        "# для получения последовательного списка меток от 0 до 11\n",
        "df.loc[(df.Категория == 13), 'Категория'] = 9  # заменили категорию 13 на 9 \n",
        "df.loc[(df.Категория == 16), 'Категория'] = 2  # заменили категорию 16 на 2\n"
      ],
      "metadata": {
        "id": "YzuaZReYDYAp"
      },
      "execution_count": null,
      "outputs": []
    },
    {
      "cell_type": "code",
      "source": [
        "df.Категория.unique()"
      ],
      "metadata": {
        "colab": {
          "base_uri": "https://localhost:8080/"
        },
        "id": "bgM4TBSrFGNH",
        "outputId": "0340ac08-8225-4612-94c4-38da906e8063"
      },
      "execution_count": null,
      "outputs": [
        {
          "output_type": "execute_result",
          "data": {
            "text/plain": [
              "array([ 3,  1,  2,  0,  6,  8,  4,  9, 10, 11,  7,  5])"
            ]
          },
          "metadata": {},
          "execution_count": 14
        }
      ]
    },
    {
      "cell_type": "code",
      "source": [
        "df.info()"
      ],
      "metadata": {
        "colab": {
          "base_uri": "https://localhost:8080/"
        },
        "id": "Y80PZEaH9r4z",
        "outputId": "2a213735-2117-44ff-a1de-6feeb0aba572"
      },
      "execution_count": null,
      "outputs": [
        {
          "output_type": "stream",
          "name": "stdout",
          "text": [
            "<class 'pandas.core.frame.DataFrame'>\n",
            "Int64Index: 1980 entries, 2246 to 1185\n",
            "Data columns (total 4 columns):\n",
            " #   Column              Non-Null Count  Dtype \n",
            "---  ------              --------------  ----- \n",
            " 0   Текст Сообщения     1980 non-null   object\n",
            " 1   Тематика            1980 non-null   object\n",
            " 2   Ответственное лицо  1980 non-null   object\n",
            " 3   Категория           1980 non-null   int64 \n",
            "dtypes: int64(1), object(3)\n",
            "memory usage: 77.3+ KB\n"
          ]
        }
      ]
    },
    {
      "cell_type": "code",
      "source": [
        "df.Тематика.value_counts()"
      ],
      "metadata": {
        "colab": {
          "base_uri": "https://localhost:8080/"
        },
        "id": "s9pFusCuMBEa",
        "outputId": "b8351d9b-4a42-4534-9192-adf1d6270da0"
      },
      "execution_count": null,
      "outputs": [
        {
          "output_type": "execute_result",
          "data": {
            "text/plain": [
              "Нарушение дорожного покрытия (ямы)  на дорогах в границах городских округов и сельских поселений                 155\n",
              "Неработающее наружное освещение                                                                                  108\n",
              "Отсутствие люков на коммуникационных колодцах                                                                     90\n",
              "Несанкционированные свалки твёрдых бытовых отходов                                                                85\n",
              "Аварийные деревья                                                                                                 79\n",
              "                                                                                                                ... \n",
              "Вопросы оказания помощи беженцам                                                                                   1\n",
              "Неудовлетворительный внешний вид (поведение) водителя при осуществлении муниципальных (пригородных) перевозок      1\n",
              "Нарушение сроков реализации товара, оказания услуг                                                                 1\n",
              "Пешеходные переходы на дорогах регионального и межмуниципального значения                                          1\n",
              "Нарушения, связанные с оплатой проезда при осуществлении внутриобластных междугородных перевозок                   1\n",
              "Name: Тематика, Length: 148, dtype: int64"
            ]
          },
          "metadata": {},
          "execution_count": 16
        }
      ]
    },
    {
      "cell_type": "code",
      "source": [
        "print(df.values[0])"
      ],
      "metadata": {
        "colab": {
          "base_uri": "https://localhost:8080/"
        },
        "id": "K5RLA-hw8ZVg",
        "outputId": "f1414689-c333-4f6e-c12b-fb8abdaf0a5a"
      },
      "execution_count": null,
      "outputs": [
        {
          "output_type": "stream",
          "name": "stdout",
          "text": [
            "['Помогите начальник Льговского рэс не реагирует на жалобы, а мы как малейший ветер сидим без света, а именно в деревне большие угоны улица старая слобода. Пожалуйста помогите, пускай вычистит и фотоотчет сделает'\n",
            " 'Нарушения, связанные с содержанием электросети и качеством энергоснабжения в районе частного сектора'\n",
            " 'Администрация Льговского района' 3]\n"
          ]
        }
      ]
    },
    {
      "cell_type": "code",
      "source": [
        "df['Ответственное лицо'].value_counts()"
      ],
      "metadata": {
        "id": "Hw2r_voRypFa",
        "colab": {
          "base_uri": "https://localhost:8080/"
        },
        "outputId": "c139d33a-0e0b-45f9-e0a9-b904a42c1aaf"
      },
      "execution_count": null,
      "outputs": [
        {
          "output_type": "execute_result",
          "data": {
            "text/plain": [
              "Администрация города Курска                                          419\n",
              "Комитет дорожного хозяйства города Курска                            215\n",
              "Комитет жилищно-коммунального хозяйства города Курска                171\n",
              "Государственная жилищная инспекция Курской области                   151\n",
              "Комитет городского хозяйства города Курска                           125\n",
              "                                                                    ... \n",
              "Комитет цифрового развития и связи Курской области                     1\n",
              "Администрация Тимского района                                          1\n",
              "ООО `УК `Северный дом`                                                 1\n",
              "МКУ «Управление по делам ГО и ЧС при Администрации города Курска»      1\n",
              "Комитет внутренней политики Администрации Курской области              1\n",
              "Name: Ответственное лицо, Length: 75, dtype: int64"
            ]
          },
          "metadata": {},
          "execution_count": 18
        }
      ]
    },
    {
      "cell_type": "code",
      "source": [
        "# Задание параметров преобразования\n",
        "VOCAB_SIZE       = 2000                  # Объем словаря для токенизатора\n",
        "\n",
        "CLASS_COUNT = df.Категория.nunique()\n",
        "print(CLASS_COUNT)"
      ],
      "metadata": {
        "id": "BGuTB6ZNypIx",
        "colab": {
          "base_uri": "https://localhost:8080/"
        },
        "outputId": "2fdc0cf6-2d38-473e-98f5-729cfc26659a"
      },
      "execution_count": null,
      "outputs": [
        {
          "output_type": "stream",
          "name": "stdout",
          "text": [
            "12\n"
          ]
        }
      ]
    },
    {
      "cell_type": "code",
      "source": [
        "import re\n",
        "pattern = '[a-z]+'\n",
        "def purify(x):\n",
        "    # Замена концов строк на пробелы, удаление латинских букв\n",
        "        \n",
        "    x = x.replace('\\n', ' ').replace('“', ' ').replace('”', ' ').replace('здравствуйте', '').replace('добрый день','')\n",
        "    x1 = re.sub(pattern, '', x, count=0)\n",
        "    return x1"
      ],
      "metadata": {
        "id": "SC8is0mUejW9"
      },
      "execution_count": null,
      "outputs": []
    },
    {
      "cell_type": "markdown",
      "source": [
        "ДЛя разделения исходных данных на тестовую и тренировочную выборки более рационально было бы использовать tran_test_split.  Но так как в ходе работы пробовались разные варианты, в частности, к тренировочной выборке добавлялись слова из Тематики, то тестовая выборка бралась как написано ниже.  И код получился длиннее."
      ],
      "metadata": {
        "id": "Q1A_dwbfmgZo"
      }
    },
    {
      "cell_type": "code",
      "source": [
        "# тестовая выборка для проверки (возьмем первые 300 строк)\n",
        "df_test1 = pd.DataFrame(df.values[:300], columns=['Текст Сообщения', 'Тематика', 'Ответственное лицо', 'Категория']) #, 'new_theme']) \n",
        "\n",
        "print(df_test1.Категория.value_counts())"
      ],
      "metadata": {
        "colab": {
          "base_uri": "https://localhost:8080/"
        },
        "id": "l8_jPAahjqix",
        "outputId": "6bbe831b-5397-4d66-d9b2-a8769930e0d5"
      },
      "execution_count": null,
      "outputs": [
        {
          "output_type": "stream",
          "name": "stdout",
          "text": [
            "3     161\n",
            "0      62\n",
            "2      22\n",
            "8      18\n",
            "4      14\n",
            "1       4\n",
            "10      4\n",
            "11      4\n",
            "7       4\n",
            "9       3\n",
            "6       2\n",
            "5       2\n",
            "Name: Категория, dtype: int64\n"
          ]
        }
      ]
    },
    {
      "cell_type": "code",
      "source": [
        "#  тренировочная выборка\n",
        "df1 = pd.DataFrame(df.values[300:], columns=['Текст Сообщения', 'Тематика', 'Ответственное лицо', 'Категория']) \n",
        "df1['text'] = df1['Текст Сообщения'].astype(str)\n",
        "print(df1.Категория.value_counts())"
      ],
      "metadata": {
        "colab": {
          "base_uri": "https://localhost:8080/"
        },
        "id": "egd9s94GEnH8",
        "outputId": "3957d688-95da-408c-c978-9ccba931655d"
      },
      "execution_count": null,
      "outputs": [
        {
          "output_type": "stream",
          "name": "stdout",
          "text": [
            "3     793\n",
            "0     416\n",
            "2     127\n",
            "8     121\n",
            "4      94\n",
            "10     44\n",
            "7      23\n",
            "1      21\n",
            "11     15\n",
            "5      10\n",
            "9       8\n",
            "6       8\n",
            "Name: Категория, dtype: int64\n"
          ]
        }
      ]
    },
    {
      "cell_type": "code",
      "source": [
        "df_text = df1['text'].tolist()  # тренировочная выборка \n",
        "print(len(df_text))\n",
        "df_text_test1 = df_test1['Текст Сообщения'].tolist() # тестовая выборка\n",
        "print(len(df_text_test1))\n"
      ],
      "metadata": {
        "colab": {
          "base_uri": "https://localhost:8080/"
        },
        "id": "-FJJt_UbFSDP",
        "outputId": "add25655-4774-4c2e-d49e-a3794e577a4b"
      },
      "execution_count": null,
      "outputs": [
        {
          "output_type": "stream",
          "name": "stdout",
          "text": [
            "1680\n",
            "300\n"
          ]
        }
      ]
    },
    {
      "cell_type": "code",
      "source": [
        "# предварительная обработка текста\n",
        "from string import punctuation\n",
        "\n",
        "def remove_punctuation(my_string):\n",
        "  return \"\".join([ch if ch not in punctuation else \" \" for ch in my_string])\n",
        "\n",
        "res = remove_punctuation(df_text[0])\n",
        "\n",
        "def remove_numbers(my_string):\n",
        "  return \"\".join([i if not i.isdigit() else \" \" for i in my_string])\n",
        "\n",
        "import re\n",
        "def remove_multiple_spaces(my_string):\n",
        "  return re.sub(r'\\s+', ' ', my_string, flags=re.I)\n",
        "\n",
        "preprocessing = lambda text: (purify(remove_multiple_spaces(remove_numbers(remove_punctuation(text.lower())))))\n",
        "\n",
        "text_processed = ['']\n",
        "\n",
        "df1['text_processed'] = list(map(preprocessing, df_text))\n",
        "df_test1['text_processed'] = list(map(preprocessing, df_text_test1))\n",
        "df1.head(10)\n",
        "    "
      ],
      "metadata": {
        "colab": {
          "base_uri": "https://localhost:8080/",
          "height": 633
        },
        "id": "bB1A1PGDPy3r",
        "outputId": "110414d0-30e8-40f0-a4ea-2ea7df3e8ab6"
      },
      "execution_count": null,
      "outputs": [
        {
          "output_type": "execute_result",
          "data": {
            "text/plain": [
              "                                     Текст Сообщения  \\\n",
              "0  Тротуар по четной стороне ул. Студенческой на ...   \n",
              "1  <p>Была опубликованна статья в газете что буде...   \n",
              "2  <p>За всю зиму ни разу нормально не почистили ...   \n",
              "3  <p>Прошу Вас провести брендирование троллейбус...   \n",
              "4  Пешеходный переход: нет дорожной разметки с те...   \n",
              "5  <p>Упал ствол дерева. Приехали люди попилили и...   \n",
              "6  <p>Здравствуйте! Снова, уже 3-й или 4-й раз за...   \n",
              "7  Уважаемые ответственные лица, на участке улицы...   \n",
              "8  Добрый день, п. Кшенский, ул. Пролетарская, по...   \n",
              "9  На выезде с прилегающей территории между домом...   \n",
              "\n",
              "                                            Тематика  \\\n",
              "0                         Ямы и выбоины на тротуарах   \n",
              "1  Освещение дорог в границах городских округов и...   \n",
              "2  Некачественная уборка дворовой территории мног...   \n",
              "3  Неудовлетворительное санитарное состояние тран...   \n",
              "4  Пешеходные переходы на дорогах в границах горо...   \n",
              "5  Некачественная уборка дворовой территории мног...   \n",
              "6  Некачественное водоснабжение в районе частного...   \n",
              "7  Нарушение дорожного покрытия (ямы)  на дорогах...   \n",
              "8  Нарушение дорожного покрытия (ямы)  на дорогах...   \n",
              "9  Дорожные знаки на дорогах в границах городских...   \n",
              "\n",
              "                                  Ответственное лицо Категория  \\\n",
              "0                        Администрация города Курска         3   \n",
              "1                         Администрация города Льгов         0   \n",
              "2  Комитет жилищно-коммунального хозяйства города...         3   \n",
              "3                        Администрация города Курска         8   \n",
              "4          Комитет дорожного хозяйства города Курска         0   \n",
              "5  Комитет жилищно-коммунального хозяйства города...         3   \n",
              "6                    Администрация Обоянского района         3   \n",
              "7                        Администрация города Курска         0   \n",
              "8                    Администрация Советского района         0   \n",
              "9                        Администрация города Курска         0   \n",
              "\n",
              "                                                text  \\\n",
              "0  Тротуар по четной стороне ул. Студенческой на ...   \n",
              "1  <p>Была опубликованна статья в газете что буде...   \n",
              "2  <p>За всю зиму ни разу нормально не почистили ...   \n",
              "3  <p>Прошу Вас провести брендирование троллейбус...   \n",
              "4  Пешеходный переход: нет дорожной разметки с те...   \n",
              "5  <p>Упал ствол дерева. Приехали люди попилили и...   \n",
              "6  <p>Здравствуйте! Снова, уже 3-й или 4-й раз за...   \n",
              "7  Уважаемые ответственные лица, на участке улицы...   \n",
              "8  Добрый день, п. Кшенский, ул. Пролетарская, по...   \n",
              "9  На выезде с прилегающей территории между домом...   \n",
              "\n",
              "                                      text_processed  \n",
              "0  тротуар по четной стороне ул студенческой на о...  \n",
              "1    была опубликованна статья в газете что будет...  \n",
              "2    за всю зиму ни разу нормально не почистили д...  \n",
              "3    прошу вас провести брендирование троллейбусо...  \n",
              "4  пешеходный переход нет дорожной разметки с тех...  \n",
              "5    упал ствол дерева приехали люди попилили и о...  \n",
              "6     снова уже й или й раз за этот месяц сидим б...  \n",
              "7  уважаемые ответственные лица на участке улицы ...  \n",
              "8   п кшенский ул пролетарская полностью разбита ...  \n",
              "9  на выезде с прилегающей территории между домом...  "
            ],
            "text/html": [
              "\n",
              "  <div id=\"df-d820b60d-5d17-4136-8f1b-9f7474c243f6\">\n",
              "    <div class=\"colab-df-container\">\n",
              "      <div>\n",
              "<style scoped>\n",
              "    .dataframe tbody tr th:only-of-type {\n",
              "        vertical-align: middle;\n",
              "    }\n",
              "\n",
              "    .dataframe tbody tr th {\n",
              "        vertical-align: top;\n",
              "    }\n",
              "\n",
              "    .dataframe thead th {\n",
              "        text-align: right;\n",
              "    }\n",
              "</style>\n",
              "<table border=\"1\" class=\"dataframe\">\n",
              "  <thead>\n",
              "    <tr style=\"text-align: right;\">\n",
              "      <th></th>\n",
              "      <th>Текст Сообщения</th>\n",
              "      <th>Тематика</th>\n",
              "      <th>Ответственное лицо</th>\n",
              "      <th>Категория</th>\n",
              "      <th>text</th>\n",
              "      <th>text_processed</th>\n",
              "    </tr>\n",
              "  </thead>\n",
              "  <tbody>\n",
              "    <tr>\n",
              "      <th>0</th>\n",
              "      <td>Тротуар по четной стороне ул. Студенческой на ...</td>\n",
              "      <td>Ямы и выбоины на тротуарах</td>\n",
              "      <td>Администрация города Курска</td>\n",
              "      <td>3</td>\n",
              "      <td>Тротуар по четной стороне ул. Студенческой на ...</td>\n",
              "      <td>тротуар по четной стороне ул студенческой на о...</td>\n",
              "    </tr>\n",
              "    <tr>\n",
              "      <th>1</th>\n",
              "      <td>&lt;p&gt;Была опубликованна статья в газете что буде...</td>\n",
              "      <td>Освещение дорог в границах городских округов и...</td>\n",
              "      <td>Администрация города Льгов</td>\n",
              "      <td>0</td>\n",
              "      <td>&lt;p&gt;Была опубликованна статья в газете что буде...</td>\n",
              "      <td>была опубликованна статья в газете что будет...</td>\n",
              "    </tr>\n",
              "    <tr>\n",
              "      <th>2</th>\n",
              "      <td>&lt;p&gt;За всю зиму ни разу нормально не почистили ...</td>\n",
              "      <td>Некачественная уборка дворовой территории мног...</td>\n",
              "      <td>Комитет жилищно-коммунального хозяйства города...</td>\n",
              "      <td>3</td>\n",
              "      <td>&lt;p&gt;За всю зиму ни разу нормально не почистили ...</td>\n",
              "      <td>за всю зиму ни разу нормально не почистили д...</td>\n",
              "    </tr>\n",
              "    <tr>\n",
              "      <th>3</th>\n",
              "      <td>&lt;p&gt;Прошу Вас провести брендирование троллейбус...</td>\n",
              "      <td>Неудовлетворительное санитарное состояние тран...</td>\n",
              "      <td>Администрация города Курска</td>\n",
              "      <td>8</td>\n",
              "      <td>&lt;p&gt;Прошу Вас провести брендирование троллейбус...</td>\n",
              "      <td>прошу вас провести брендирование троллейбусо...</td>\n",
              "    </tr>\n",
              "    <tr>\n",
              "      <th>4</th>\n",
              "      <td>Пешеходный переход: нет дорожной разметки с те...</td>\n",
              "      <td>Пешеходные переходы на дорогах в границах горо...</td>\n",
              "      <td>Комитет дорожного хозяйства города Курска</td>\n",
              "      <td>0</td>\n",
              "      <td>Пешеходный переход: нет дорожной разметки с те...</td>\n",
              "      <td>пешеходный переход нет дорожной разметки с тех...</td>\n",
              "    </tr>\n",
              "    <tr>\n",
              "      <th>5</th>\n",
              "      <td>&lt;p&gt;Упал ствол дерева. Приехали люди попилили и...</td>\n",
              "      <td>Некачественная уборка дворовой территории мног...</td>\n",
              "      <td>Комитет жилищно-коммунального хозяйства города...</td>\n",
              "      <td>3</td>\n",
              "      <td>&lt;p&gt;Упал ствол дерева. Приехали люди попилили и...</td>\n",
              "      <td>упал ствол дерева приехали люди попилили и о...</td>\n",
              "    </tr>\n",
              "    <tr>\n",
              "      <th>6</th>\n",
              "      <td>&lt;p&gt;Здравствуйте! Снова, уже 3-й или 4-й раз за...</td>\n",
              "      <td>Некачественное водоснабжение в районе частного...</td>\n",
              "      <td>Администрация Обоянского района</td>\n",
              "      <td>3</td>\n",
              "      <td>&lt;p&gt;Здравствуйте! Снова, уже 3-й или 4-й раз за...</td>\n",
              "      <td>снова уже й или й раз за этот месяц сидим б...</td>\n",
              "    </tr>\n",
              "    <tr>\n",
              "      <th>7</th>\n",
              "      <td>Уважаемые ответственные лица, на участке улицы...</td>\n",
              "      <td>Нарушение дорожного покрытия (ямы)  на дорогах...</td>\n",
              "      <td>Администрация города Курска</td>\n",
              "      <td>0</td>\n",
              "      <td>Уважаемые ответственные лица, на участке улицы...</td>\n",
              "      <td>уважаемые ответственные лица на участке улицы ...</td>\n",
              "    </tr>\n",
              "    <tr>\n",
              "      <th>8</th>\n",
              "      <td>Добрый день, п. Кшенский, ул. Пролетарская, по...</td>\n",
              "      <td>Нарушение дорожного покрытия (ямы)  на дорогах...</td>\n",
              "      <td>Администрация Советского района</td>\n",
              "      <td>0</td>\n",
              "      <td>Добрый день, п. Кшенский, ул. Пролетарская, по...</td>\n",
              "      <td>п кшенский ул пролетарская полностью разбита ...</td>\n",
              "    </tr>\n",
              "    <tr>\n",
              "      <th>9</th>\n",
              "      <td>На выезде с прилегающей территории между домом...</td>\n",
              "      <td>Дорожные знаки на дорогах в границах городских...</td>\n",
              "      <td>Администрация города Курска</td>\n",
              "      <td>0</td>\n",
              "      <td>На выезде с прилегающей территории между домом...</td>\n",
              "      <td>на выезде с прилегающей территории между домом...</td>\n",
              "    </tr>\n",
              "  </tbody>\n",
              "</table>\n",
              "</div>\n",
              "      <button class=\"colab-df-convert\" onclick=\"convertToInteractive('df-d820b60d-5d17-4136-8f1b-9f7474c243f6')\"\n",
              "              title=\"Convert this dataframe to an interactive table.\"\n",
              "              style=\"display:none;\">\n",
              "        \n",
              "  <svg xmlns=\"http://www.w3.org/2000/svg\" height=\"24px\"viewBox=\"0 0 24 24\"\n",
              "       width=\"24px\">\n",
              "    <path d=\"M0 0h24v24H0V0z\" fill=\"none\"/>\n",
              "    <path d=\"M18.56 5.44l.94 2.06.94-2.06 2.06-.94-2.06-.94-.94-2.06-.94 2.06-2.06.94zm-11 1L8.5 8.5l.94-2.06 2.06-.94-2.06-.94L8.5 2.5l-.94 2.06-2.06.94zm10 10l.94 2.06.94-2.06 2.06-.94-2.06-.94-.94-2.06-.94 2.06-2.06.94z\"/><path d=\"M17.41 7.96l-1.37-1.37c-.4-.4-.92-.59-1.43-.59-.52 0-1.04.2-1.43.59L10.3 9.45l-7.72 7.72c-.78.78-.78 2.05 0 2.83L4 21.41c.39.39.9.59 1.41.59.51 0 1.02-.2 1.41-.59l7.78-7.78 2.81-2.81c.8-.78.8-2.07 0-2.86zM5.41 20L4 18.59l7.72-7.72 1.47 1.35L5.41 20z\"/>\n",
              "  </svg>\n",
              "      </button>\n",
              "      \n",
              "  <style>\n",
              "    .colab-df-container {\n",
              "      display:flex;\n",
              "      flex-wrap:wrap;\n",
              "      gap: 12px;\n",
              "    }\n",
              "\n",
              "    .colab-df-convert {\n",
              "      background-color: #E8F0FE;\n",
              "      border: none;\n",
              "      border-radius: 50%;\n",
              "      cursor: pointer;\n",
              "      display: none;\n",
              "      fill: #1967D2;\n",
              "      height: 32px;\n",
              "      padding: 0 0 0 0;\n",
              "      width: 32px;\n",
              "    }\n",
              "\n",
              "    .colab-df-convert:hover {\n",
              "      background-color: #E2EBFA;\n",
              "      box-shadow: 0px 1px 2px rgba(60, 64, 67, 0.3), 0px 1px 3px 1px rgba(60, 64, 67, 0.15);\n",
              "      fill: #174EA6;\n",
              "    }\n",
              "\n",
              "    [theme=dark] .colab-df-convert {\n",
              "      background-color: #3B4455;\n",
              "      fill: #D2E3FC;\n",
              "    }\n",
              "\n",
              "    [theme=dark] .colab-df-convert:hover {\n",
              "      background-color: #434B5C;\n",
              "      box-shadow: 0px 1px 3px 1px rgba(0, 0, 0, 0.15);\n",
              "      filter: drop-shadow(0px 1px 2px rgba(0, 0, 0, 0.3));\n",
              "      fill: #FFFFFF;\n",
              "    }\n",
              "  </style>\n",
              "\n",
              "      <script>\n",
              "        const buttonEl =\n",
              "          document.querySelector('#df-d820b60d-5d17-4136-8f1b-9f7474c243f6 button.colab-df-convert');\n",
              "        buttonEl.style.display =\n",
              "          google.colab.kernel.accessAllowed ? 'block' : 'none';\n",
              "\n",
              "        async function convertToInteractive(key) {\n",
              "          const element = document.querySelector('#df-d820b60d-5d17-4136-8f1b-9f7474c243f6');\n",
              "          const dataTable =\n",
              "            await google.colab.kernel.invokeFunction('convertToInteractive',\n",
              "                                                     [key], {});\n",
              "          if (!dataTable) return;\n",
              "\n",
              "          const docLinkHtml = 'Like what you see? Visit the ' +\n",
              "            '<a target=\"_blank\" href=https://colab.research.google.com/notebooks/data_table.ipynb>data table notebook</a>'\n",
              "            + ' to learn more about interactive tables.';\n",
              "          element.innerHTML = '';\n",
              "          dataTable['output_type'] = 'display_data';\n",
              "          await google.colab.output.renderOutput(dataTable, element);\n",
              "          const docLink = document.createElement('div');\n",
              "          docLink.innerHTML = docLinkHtml;\n",
              "          element.appendChild(docLink);\n",
              "        }\n",
              "      </script>\n",
              "    </div>\n",
              "  </div>\n",
              "  "
            ]
          },
          "metadata": {},
          "execution_count": 24
        }
      ]
    },
    {
      "cell_type": "code",
      "source": [
        "!pip install pymorphy2\n",
        "!pip install pymorphy2-dict\n",
        "!pip install DAWG-Python\n"
      ],
      "metadata": {
        "colab": {
          "base_uri": "https://localhost:8080/"
        },
        "id": "vcz79B756iHh",
        "outputId": "2bef6721-8a92-45b0-dbcd-b1df6b3563f0"
      },
      "execution_count": null,
      "outputs": [
        {
          "output_type": "stream",
          "name": "stdout",
          "text": [
            "Looking in indexes: https://pypi.org/simple, https://us-python.pkg.dev/colab-wheels/public/simple/\n",
            "Collecting pymorphy2\n",
            "  Downloading pymorphy2-0.9.1-py3-none-any.whl (55 kB)\n",
            "\u001b[K     |████████████████████████████████| 55 kB 3.1 MB/s \n",
            "\u001b[?25hCollecting pymorphy2-dicts-ru<3.0,>=2.4\n",
            "  Downloading pymorphy2_dicts_ru-2.4.417127.4579844-py2.py3-none-any.whl (8.2 MB)\n",
            "\u001b[K     |████████████████████████████████| 8.2 MB 12.5 MB/s \n",
            "\u001b[?25hCollecting dawg-python>=0.7.1\n",
            "  Downloading DAWG_Python-0.7.2-py2.py3-none-any.whl (11 kB)\n",
            "Requirement already satisfied: docopt>=0.6 in /usr/local/lib/python3.7/dist-packages (from pymorphy2) (0.6.2)\n",
            "Installing collected packages: pymorphy2-dicts-ru, dawg-python, pymorphy2\n",
            "Successfully installed dawg-python-0.7.2 pymorphy2-0.9.1 pymorphy2-dicts-ru-2.4.417127.4579844\n",
            "Looking in indexes: https://pypi.org/simple, https://us-python.pkg.dev/colab-wheels/public/simple/\n",
            "\u001b[31mERROR: Could not find a version that satisfies the requirement pymorphy2-dict (from versions: none)\u001b[0m\n",
            "\u001b[31mERROR: No matching distribution found for pymorphy2-dict\u001b[0m\n",
            "Looking in indexes: https://pypi.org/simple, https://us-python.pkg.dev/colab-wheels/public/simple/\n",
            "Requirement already satisfied: DAWG-Python in /usr/local/lib/python3.7/dist-packages (0.7.2)\n"
          ]
        }
      ]
    },
    {
      "cell_type": "code",
      "source": [
        "import nltk\n",
        "from nltk.corpus import stopwords\n",
        "from nltk import word_tokenize\n",
        "from tqdm.auto import tqdm, trange\n",
        "import pymorphy2\n",
        "nltk.download('stopwords')\n",
        "nltk.download('punkt')\n",
        "morph = pymorphy2.MorphAnalyzer()\n",
        "russian_stopwords = stopwords.words('russian')\n",
        "\n",
        "# лемматизация тренировочной выборки\n",
        "lemm_texts_column = [ ]\n",
        "for text in tqdm(df1['text_processed']):\n",
        "  tokens = word_tokenize(text)\n",
        "  lemmed_tokens = [morph.parse(token)[0].normal_form for token in tokens if token not in russian_stopwords]\n",
        "  text = \" \".join(lemmed_tokens)\n",
        "  lemm_texts_column.append(text)\n",
        "#  создаем новую колонку\n",
        "df1[\"text_lemmed\"] = lemm_texts_column\n",
        "\n",
        "# лемматизация тестовой выборки в исходных данных\n",
        "lemm_texts_column = [ ]\n",
        "for text in tqdm(df_test1['text_processed']):\n",
        "  tokens = word_tokenize(text)\n",
        "  lemmed_tokens = [morph.parse(token)[0].normal_form for token in tokens if token not in russian_stopwords]\n",
        "  text = \" \".join(lemmed_tokens)\n",
        "  lemm_texts_column.append(text)\n",
        "#  создаем новую колонку\n",
        "df_test1[\"text_lemmed\"] = lemm_texts_column\n"
      ],
      "metadata": {
        "colab": {
          "base_uri": "https://localhost:8080/",
          "height": 150,
          "referenced_widgets": [
            "c706593b83204433be687010eb019480",
            "dca0d8133ed84ffbb07a4f65941eeefb",
            "c7ff1d29d7bc4a87b087090d67b3b074",
            "6e329410ac0347f886c1c1e5e6678517",
            "31d4c5542aef4bdba9e30f63cd78f9a9",
            "7e520da089114e6e800b0fec92a21ac2",
            "7ef89b046f1845db8de18fff4d2b851a",
            "61e5f0559f634a1893a077b07be02ca2",
            "f40b4d52b98c4003a404fc91a2b6b780",
            "6aab4a84997443639aa8c699e22ef091",
            "2cf26065ce7045a0a8ee940aafaebc67",
            "332b28835df845aabbad333eefe61a62",
            "6d946f5969d54adc81281b61703fabd1",
            "012e988ca1ff4849b203f8137202d213",
            "13acd8a1b3ac43d9b3f3b2e17416a0b8",
            "d2e856492bda4c7895ebd31e69693923",
            "1d2d2a5bc83449dfb4509614c753725a",
            "05ef7845d5a7444686630784933f2c14",
            "a754872fb8df43e796f5c93f1edefefc",
            "41107aba6f6548f497643c1b160bc7e7",
            "3afe1236161341db9aafcaebde2af7dd",
            "a8db15a2915b4020b2e26b85e5655d8b"
          ]
        },
        "id": "rfmnaBV1HZo4",
        "outputId": "b0ef5786-0368-44d2-d2e6-4567467b78ee"
      },
      "execution_count": null,
      "outputs": [
        {
          "output_type": "stream",
          "name": "stderr",
          "text": [
            "[nltk_data] Downloading package stopwords to /root/nltk_data...\n",
            "[nltk_data]   Unzipping corpora/stopwords.zip.\n",
            "[nltk_data] Downloading package punkt to /root/nltk_data...\n",
            "[nltk_data]   Unzipping tokenizers/punkt.zip.\n"
          ]
        },
        {
          "output_type": "display_data",
          "data": {
            "text/plain": [
              "  0%|          | 0/1680 [00:00<?, ?it/s]"
            ],
            "application/vnd.jupyter.widget-view+json": {
              "version_major": 2,
              "version_minor": 0,
              "model_id": "c706593b83204433be687010eb019480"
            }
          },
          "metadata": {}
        },
        {
          "output_type": "display_data",
          "data": {
            "text/plain": [
              "  0%|          | 0/300 [00:00<?, ?it/s]"
            ],
            "application/vnd.jupyter.widget-view+json": {
              "version_major": 2,
              "version_minor": 0,
              "model_id": "332b28835df845aabbad333eefe61a62"
            }
          },
          "metadata": {}
        }
      ]
    },
    {
      "cell_type": "code",
      "source": [
        "# Извлечение тренировочных записей и их меток классов\n",
        "text_data = df1['text_lemmed'].tolist()\n",
        "class_labels = df1['Категория'].tolist()\n",
        "print(len(text_data))\n",
        "print(len(class_labels))\n",
        "print(class_labels[:10])\n",
        "# Извлечение тестовых записей и их меток классов\n",
        "test_data = df_test1['text_lemmed'].tolist()\n",
        "test_class_labels = df_test1['Категория'].tolist()\n"
      ],
      "metadata": {
        "id": "gVaiaQjgypP6",
        "colab": {
          "base_uri": "https://localhost:8080/"
        },
        "outputId": "05f6f0bb-3fcf-464f-eec4-3336a4893b63"
      },
      "execution_count": null,
      "outputs": [
        {
          "output_type": "stream",
          "name": "stdout",
          "text": [
            "1680\n",
            "1680\n",
            "[3, 0, 3, 8, 0, 3, 3, 0, 0, 0]\n"
          ]
        }
      ]
    },
    {
      "cell_type": "code",
      "source": [
        "# Преобразование меток класса к векторам one hot encoding\n",
        "y_train = utils.to_categorical(class_labels, 12)\n",
        "y_test = utils.to_categorical(test_class_labels, 12)\n",
        "# Вывод формы и примера данных\n",
        "print(y_train.shape)\n",
        "print(y_test[0])"
      ],
      "metadata": {
        "colab": {
          "base_uri": "https://localhost:8080/"
        },
        "id": "qL95-QBSRLGo",
        "outputId": "5ef681a9-5d21-47ed-d960-de71e2e0bda7"
      },
      "execution_count": null,
      "outputs": [
        {
          "output_type": "stream",
          "name": "stdout",
          "text": [
            "(1680, 12)\n",
            "[0. 0. 0. 1. 0. 0. 0. 0. 0. 0. 0. 0.]\n"
          ]
        }
      ]
    },
    {
      "cell_type": "code",
      "source": [
        ""
      ],
      "metadata": {
        "id": "kQt1-zBBd4BE"
      },
      "execution_count": null,
      "outputs": []
    },
    {
      "cell_type": "code",
      "source": [
        "# Токенизация и построение частотного словаря по обучающим текстам\n",
        "tokenizer = Tokenizer(num_words=VOCAB_SIZE, filters='!\"#$%&()*+,-–—./…:;<=>?@[\\\\]^_`{|}~«»\\t\\n\\xa0\\ufeff', lower=True, split=' ', oov_token='неизвестное_слово', char_level=False)\n",
        "\n",
        "# Построение частотного словаря по обучающим текстам\n",
        "tokenizer.fit_on_texts(text_data+test_data)\n",
        "\n",
        "# Построение словаря в виде пар слово - индекс\n",
        "items = list(tokenizer.word_index.items())"
      ],
      "metadata": {
        "id": "Fqr9fBlqypSK"
      },
      "execution_count": null,
      "outputs": []
    },
    {
      "cell_type": "code",
      "source": [
        "print(items[2800:])"
      ],
      "metadata": {
        "colab": {
          "base_uri": "https://localhost:8080/"
        },
        "id": "k2FiqTtdg2z_",
        "outputId": "bb0863da-11da-411b-9675-0a8b2c98479b"
      },
      "execution_count": null,
      "outputs": [
        {
          "output_type": "stream",
          "name": "stdout",
          "text": [
            "[('преодолеть', 2801), ('ямка', 2802), ('внутренний', 2803), ('колледж', 2804), ('будить', 2805), ('доп', 2806), ('ручей', 2807), ('подчинённый', 2808), ('интересоваться', 2809), ('кошка', 2810), ('лучистый', 2811), ('поспособствовать', 2812), ('стирать', 2813), ('подключать', 2814), ('щебёнка', 2815), ('закрытие', 2816), ('освободить', 2817), ('ра', 2818), ('санкционировать', 2819), ('писаться', 2820), ('снегоуборочный', 2821), ('доставать', 2822), ('трагедия', 2823), ('соль', 2824), ('устный', 2825), ('остро', 2826), ('аргументировать', 2827), ('гнилой', 2828), ('воспользоваться', 2829), ('компетенция', 2830), ('уволиться', 2831), ('открываться', 2832), ('сосновский', 2833), ('самочувствие', 2834), ('покидать', 2835), ('наказать', 2836), ('переломать', 2837), ('член', 2838), ('создание', 2839), ('ссылка', 2840), ('подход', 2841), ('нарушитель', 2842), ('отведение', 2843), ('заместитель', 2844), ('массаж', 2845), ('диск', 2846), ('разрыв', 2847), ('инспектор', 2848), ('возмещение', 2849), ('служить', 2850), ('местность', 2851), ('рудавец', 2852), ('провайдер', 2853), ('захватить', 2854), ('вбить', 2855), ('обед', 2856), ('атэла', 2857), ('дополнение', 2858), ('бочаров', 2859), ('флаг', 2860), ('струйка', 2861), ('возвышенность', 2862), ('прилужный', 2863), ('профилактический', 2864), ('компенсировать', 2865), ('отправка', 2866), ('вплотную', 2867), ('пугать', 2868), ('покупатель', 2869), ('воскресение', 2870), ('ппк', 2871), ('черноземье', 2872), ('дорогой', 2873), ('сохранить', 2874), ('продолжение', 2875), ('таков', 2876), ('долго', 2877), ('значимый', 2878), ('приступить', 2879), ('отрезать', 2880), ('допускать', 2881), ('согласиться', 2882), ('реализовать', 2883), ('поступление', 2884), ('реализация', 2885), ('найтись', 2886), ('наклониться', 2887), ('подмыть', 2888), ('разносить', 2889), ('зам', 2890), ('шерекино', 2891), ('отделённый', 2892), ('рассматривать', 2893), ('выборы', 2894), ('ломоносов', 2895), ('анонимно', 2896), ('судьба', 2897), ('крик', 2898), ('впр', 2899), ('отменять', 2900), ('обсуждать', 2901), ('достойный', 2902), ('травить', 2903), ('вполне', 2904), ('извещатель', 2905), ('домостроитель', 2906), ('толк', 2907), ('дождеприёмник', 2908), ('отговорка', 2909), ('водонагреватель', 2910), ('ндфл', 2911), ('возврат', 2912), ('украсть', 2913), ('пристать', 2914), ('отсутсвие', 2915), ('спокойно', 2916), ('марка', 2917), ('пьяница', 2918), ('жительница', 2919), ('опаздывать', 2920), ('действительный', 2921), ('тыс', 2922), ('весьма', 2923), ('высадить', 2924), ('проф', 2925), ('цветок', 2926), ('ваз', 2927), ('арест', 2928), ('комментарий', 2929), ('девушка', 2930), ('позиция', 2931), ('виноватый', 2932), ('неправильно', 2933), ('явление', 2934), ('пропасть', 2935), ('сослаться', 2936), ('ухудшиться', 2937), ('серьёзно', 2938), ('умереть', 2939), ('указательный', 2940), ('игнорироваться', 2941), ('дубрава', 2942), ('авиацентр', 2943), ('дол', 2944), ('наружу', 2945), ('соцсеть', 2946), ('интересовать', 2947), ('театр', 2948), ('крона', 2949), ('официально', 2950), ('разрешать', 2951), ('приниматься', 2952), ('теча', 2953), ('захотеть', 2954), ('половинкин', 2955), ('покрываться', 2956), ('стандарт', 2957), ('полевский', 2958), ('торопиться', 2959), ('агрессивно', 2960), ('суббота', 2961), ('проваливаться', 2962), ('вывести', 2963), ('рентген', 2964), ('обои', 2965), ('месиво', 2966), ('завезти', 2967), ('завозиться', 2968), ('грузовик', 2969), ('усугубить', 2970), ('николай', 2971), ('спасать', 2972), ('бочка', 2973), ('обезопасить', 2974), ('вложить', 2975), ('укладывать', 2976), ('возвращаться', 2977), ('пропустить', 2978), ('единичный', 2979), ('перебегать', 2980), ('общаться', 2981), ('замкнутый', 2982), ('начисляться', 2983), ('александр', 2984), ('депутат', 2985), ('надзорный', 2986), ('большесолдатский', 2987), ('викторович', 2988), ('запас', 2989), ('льготный', 2990), ('мг', 2991), ('мягко', 2992), ('природа', 2993), ('лавка', 2994), ('фактор', 2995), ('казаться', 2996), ('чумаковское', 2997), ('отверстие', 2998), ('освещаться', 2999), ('беспрепятственно', 3000), ('класть', 3001), ('асфальтирование', 3002), ('кодекс', 3003), ('ватутин', 3004), ('разработать', 3005), ('газелька', 3006), ('погашение', 3007), ('задолженность', 3008), ('стыдно', 3009), ('пасадка', 3010), ('пораниться', 3011), ('акдс', 3012), ('письменно', 3013), ('щигровский', 3014), ('газификация', 3015), ('привлечение', 3016), ('поражение', 3017), ('пересадка', 3018), ('файл', 3019), ('пациентка', 3020), ('приёмный', 3021), ('путин', 3022), ('забытый', 3023), ('выносить', 3024), ('страна', 3025), ('сброс', 3026), ('смородиновый', 3027), ('обход', 3028), ('максимум', 3029), ('функция', 3030), ('инженерный', 3031), ('зал', 3032), ('демидов', 3033), ('корень', 3034), ('сточный', 3035), ('ужасно', 3036), ('застревать', 3037), ('выслать', 3038), ('свидетельство', 3039), ('формирование', 3040), ('многое', 3041), ('причинение', 3042), ('стерилизовать', 3043), ('сеймский', 3044), ('процесс', 3045), ('канал', 3046), ('внутридворовый', 3047), ('июн', 3048), ('расследование', 3049), ('прекрасный', 3050), ('болец', 3051), ('сравнение', 3052), ('увеличивать', 3053), ('лента', 3054), ('град', 3055), ('развязка', 3056), ('‘', 3057), ('покрывать', 3058), ('описывать', 3059), ('открыться', 3060), ('укол', 3061), ('наблюдение', 3062), ('мёд', 3063), ('виталиевич', 3064), ('стационар', 3065), ('росинка', 3066), ('белый', 3067), ('разноситься', 3068), ('окружающий', 3069), ('предполагать', 3070), ('разворот', 3071), ('спрашивать', 3072), ('адресный', 3073), ('оао', 3074), ('медленно', 3075), ('широкий', 3076), ('передавать', 3077), ('взгляд', 3078), ('повлечь', 3079), ('некуда', 3080), ('анастасия', 3081), ('льгота', 3082), ('набор', 3083), ('обстоятельство', 3084), ('просесть', 3085), ('невыполнение', 3086), ('раскопать', 3087), ('терпение', 3088), ('целостность', 3089), ('штукатурка', 3090), ('постановка', 3091), ('ель', 3092), ('сороцкай', 3093), ('внж', 3094), ('пенсия', 3095), ('продуктовый', 3096), ('выставить', 3097), ('нагреватель', 3098), ('буква', 3099), ('отбойник', 3100), ('проголосовать', 3101), ('подписывать', 3102), ('тупиковый', 3103), ('обоснованный', 3104), ('склон', 3105), ('реакция', 3106), ('развалиться', 3107), ('воротний', 3108), ('смежный', 3109), ('расширить', 3110), ('электропровод', 3111), ('информировать', 3112), ('автомат', 3113), ('организовывать', 3114), ('занятый', 3115), ('множественный', 3116), ('следовательно', 3117), ('документально', 3118), ('поселение', 3119), ('разин', 3120), ('биржа', 3121), ('терапевт', 3122), ('наплевательский', 3123), ('безналичный', 3124), ('тележка', 3125), ('маршал', 3126), ('ты', 3127), ('васильковый', 3128), ('автомашина', 3129), ('интенсивный', 3130), ('непроходимый', 3131), ('ползать', 3132), ('заблокировать', 3133), ('обновить', 3134), ('пояс', 3135), ('засеять', 3136), ('достучаться', 3137), ('стадия', 3138), ('гис', 3139), ('экологический', 3140), ('направлять', 3141), ('пульт', 3142), ('фикалия', 3143), ('посреди', 3144), ('надоесть', 3145), ('одиночка', 3146), ('пригодный', 3147), ('домашний', 3148), ('этажный', 3149), ('переходящий', 3150), ('увы', 3151), ('стройка', 3152), ('погулять', 3153), ('питьевой', 3154), ('чистота', 3155), ('дождаться', 3156), ('лицей', 3157), ('гуторово', 3158), ('оседать', 3159), ('прошедшее', 3160), ('лаз', 3161), ('завтра', 3162), ('спалить', 3163), ('запросить', 3164), ('объяснение', 3165), ('целевой', 3166), ('подробно', 3167), ('подсобный', 3168), ('продолжительный', 3169), ('выкидывать', 3170), ('вплоть', 3171), ('проявлять', 3172), ('недобросовестный', 3173), ('подсыпать', 3174), ('несущий', 3175), ('сток', 3176), ('нечистота', 3177), ('зловонный', 3178), ('переполненный', 3179), ('жизнедеятельность', 3180), ('умыться', 3181), ('роллердром', 3182), ('аэропортовский', 3183), ('деформация', 3184), ('выдача', 3185), ('легальный', 3186), ('апз', 3187), ('щитовой', 3188), ('бюджетный', 3189), ('объяснить', 3190), ('платно', 3191), ('эт', 3192), ('труп', 3193), ('ольховский', 3194), ('книжка', 3195), ('рождество', 3196), ('вышестоящий', 3197), ('красота', 3198), ('внизу', 3199), ('снегопад', 3200), ('подьезда', 3201), ('портить', 3202), ('представляться', 3203), ('недавний', 3204), ('правильно', 3205), ('грейдер', 3206), ('ленинский', 3207), ('комсомол', 3208), ('обязательно', 3209), ('придать', 3210), ('запрещаться', 3211), ('велосипедный', 3212), ('правовой', 3213), ('фактически', 3214), ('километр', 3215), ('красиво', 3216), ('нерабочий', 3217), ('давыдков', 3218), ('алименты', 3219), ('лог', 3220), ('берег', 3221), ('виктория', 3222), ('ванна', 3223), ('нависать', 3224), ('вандал', 3225), ('растаять', 3226), ('облезлый', 3227), ('вымыть', 3228), ('коммунистический', 3229), ('разбивать', 3230), ('убить', 3231), ('офис', 3232), ('сто', 3233), ('чувствоваться', 3234), ('дополнительно', 3235), ('довозить', 3236), ('удовлетворить', 3237), ('пигорев', 3238), ('парижский', 3239), ('щель', 3240), ('цппк', 3241), ('неубранный', 3242), ('застройка', 3243), ('полицейский', 3244), ('дичнянский', 3245), ('превращаться', 3246), ('вновь', 3247), ('малыш', 3248), ('невозможность', 3249), ('инженер', 3250), ('прочее', 3251), ('павлуновский', 3252), ('скриншот', 3253), ('потребитель', 3254), ('потеря', 3255), ('беременный', 3256), ('календарный', 3257), ('приготовить', 3258), ('беспокоить', 3259), ('лимит', 3260), ('мрак', 3261), ('беззаконие', 3262), ('пустырь', 3263), ('прекратить', 3264), ('вирус', 3265), ('отказывать', 3266), ('превышение', 3267), ('задержка', 3268), ('пакет', 3269), ('кнопка', 3270), ('временной', 3271), ('поручить', 3272), ('натянутый', 3273), ('бросаться', 3274), ('утилизация', 3275), ('повториться', 3276), ('травматизм', 3277), ('коллективный', 3278), ('саб', 3279), ('существо', 3280), ('кабель', 3281), ('скопление', 3282), ('благополучно', 3283), ('мыть', 3284), ('пеликан', 3285), ('резко', 3286), ('забирать', 3287), ('путём', 3288), ('длина', 3289), ('двадцать', 3290), ('сантиметр', 3291), ('церковь', 3292), ('вакцинировать', 3293), ('заставлять', 3294), ('золотой', 3295), ('вентиль', 3296), ('интервал', 3297), ('храм', 3298), ('ребята', 3299), ('пушкарный', 3300), ('отключаться', 3301), ('приблизительно', 3302), ('склад', 3303), ('мусоровоз', 3304), ('перестать', 3305), ('строго', 3306), ('алексей', 3307), ('огласка', 3308), ('хамить', 3309), ('стол', 3310), ('кошмар', 3311), ('лавсан', 3312), ('химфарма', 3313), ('дорохов', 3314), ('леонидович', 3315), ('грызун', 3316), ('доноситься', 3317), ('фотоматериал', 3318), ('закупка', 3319), ('потечь', 3320), ('секция', 3321), ('остановить', 3322), ('подводник', 3323), ('мбдоу', 3324), ('сопутствовать', 3325), ('упаковка', 3326), ('дезинсекция', 3327), ('развалить', 3328), ('загадить', 3329), ('медикамент', 3330), ('потерять', 3331), ('лев', 3332), ('волжанец', 3333), ('максимовый', 3334), ('напасть', 3335), ('защитить', 3336), ('баклашовка', 3337), ('снижение', 3338), ('практика', 3339), ('овечкин', 3340), ('онколог', 3341), ('жертва', 3342), ('семашко', 3343), ('свекровь', 3344), ('учёба', 3345), ('переводить', 3346), ('посещение', 3347), ('память', 3348), ('выпасть', 3349), ('тихо', 3350), ('захоронение', 3351), ('умерший', 3352), ('кожевенный', 3353), ('антитело', 3354), ('поликлинник', 3355), ('котёл', 3356), ('однократно', 3357), ('виктор', 3358), ('тихонович', 3359), ('громадный', 3360), ('кос', 3361), ('статистика', 3362), ('таскать', 3363), ('скот', 3364), ('интенсивность', 3365), ('торговать', 3366), ('работоспособность', 3367), ('мазок', 3368), ('унижать', 3369), ('безответственный', 3370), ('заключение', 3371), ('волобуево', 3372), ('заболеваемость', 3373), ('итого', 3374), ('распространение', 3375), ('спутник', 3376), ('перенаправлять', 3377), ('матюхов', 3378), ('зачисление', 3379), ('компенсация', 3380), ('достать', 3381), ('предупреждать', 3382), ('графика', 3383), ('лезть', 3384), ('прокладка', 3385), ('кго', 3386), ('внешний', 3387), ('гинеколог', 3388), ('киоск', 3389), ('высоковольтный', 3390), ('новогодний', 3391), ('вячеславович', 3392), ('шприц', 3393), ('ясенка', 3394), ('пахнуть', 3395), ('наведение', 3396), ('воляться', 3397), ('мошка', 3398), ('стоматология', 3399), ('муравлево', 3400), ('михайловый', 3401), ('карантин', 3402), ('департамент', 3403), ('тарасов', 3404), ('сдаться', 3405), ('вложение', 3406), ('касаемо', 3407), ('пролёт', 3408), ('виногробль', 3409), ('каток', 3410), ('медкомиссия', 3411), ('газета', 3412), ('преждний', 3413), ('тропинка', 3414), ('бревно', 3415), ('курскоблводоканал', 3416), ('пролетарский', 3417), ('офисный', 3418), ('куртка', 3419), ('железяка', 3420), ('разъезд', 3421), ('азс', 3422), ('курянин', 3423), ('воробьёв', 3424), ('стройгигант', 3425), ('максимально', 3426), ('допустимый', 3427), ('самоизоляция', 3428), ('временный', 3429), ('мегагринна', 3430), ('фрезеровать', 3431), ('асфальто', 3432), ('баскетбольный', 3433), ('предусмотренный', 3434), ('среднедушевой', 3435), ('расчётный', 3436), ('устанавливаться', 3437), ('посредством', 3438), ('достижение', 3439), ('указывать', 3440), ('соотвествие', 3441), ('боев', 3442), ('замёрзнуть', 3443), ('фудкорт', 3444), ('указатель', 3445), ('люкс', 3446), ('инвест', 3447), ('льготник', 3448), ('гр', 3449), ('прогнить', 3450), ('поднятие', 3451), ('формировать', 3452), ('прекрасно', 3453), ('разработка', 3454), ('угон', 3455), ('капитально', 3456), ('слобода', 3457), ('декоративный', 3458), ('ограждать', 3459), ('наводить', 3460), ('стык', 3461), ('днище', 3462), ('конышевский', 3463), ('признательный', 3464), ('табло', 3465), ('некрасивый', 3466), ('смонтировать', 3467), ('воспаление', 3468), ('фиксировать', 3469), ('всячески', 3470), ('мысль', 3471), ('просмотр', 3472), ('управа', 3473), ('виталий', 3474), ('юриевич', 3475), ('новорождённый', 3476), ('футбольный', 3477), ('затекать', 3478), ('повиснуть', 3479), ('окрас', 3480), ('архитектурный', 3481), ('подсветка', 3482), ('спортзал', 3483), ('отдельно', 3484), ('панель', 3485), ('посредине', 3486), ('покоиться', 3487), ('земляк', 3488), ('отравить', 3489), ('извинить', 3490), ('листовка', 3491), ('приспособить', 3492), ('исправление', 3493), ('забота', 3494), ('обгорелый', 3495), ('пепел', 3496), ('цементный', 3497), ('подоконник', 3498), ('пивная', 3499), ('электропередачить', 3500), ('разница', 3501), ('вызываться', 3502), ('умвд', 3503), ('отравиться', 3504), ('трещать', 3505), ('дымоход', 3506), ('наполовину', 3507), ('мелкий', 3508), ('грибок', 3509), ('претензия', 3510), ('ежемесячно', 3511), ('платёж', 3512), ('чистка', 3513), ('подвести', 3514), ('исправно', 3515), ('мина', 3516), ('диспетчер', 3517), ('декрет', 3518), ('ошибиться', 3519), ('путинский', 3520), ('цветовой', 3521), ('дохлый', 3522), ('провоцировать', 3523), ('рефлекс', 3524), ('отрицательно', 3525), ('заражение', 3526), ('пересесть', 3527), ('придумать', 3528), ('престарелый', 3529), ('входить', 3530), ('подморозить', 3531), ('испытать', 3532), ('регистратор', 3533), ('толчок', 3534), ('кладка', 3535), ('выборочный', 3536), ('перешагивать', 3537), ('надпись', 3538), ('\\u200d', 3539), ('водоотводный', 3540), ('лечебный', 3541), ('кристина', 3542), ('форд', 3543), ('совершить', 3544), ('покрышка', 3545), ('цитата', 3546), ('фотографирование', 3547), ('причастный', 3548), ('столь', 3549), ('пейзаж', 3550), ('фильм', 3551), ('кожа', 3552), ('случаться', 3553), ('уничтожение', 3554), ('агитаци', 3555), ('агитация', 3556), ('фамилия', 3557), ('погибнуть', 3558), ('воин', 3559), ('воинский', 3560), ('сахаровка', 3561), ('прорвать', 3562), ('аварийка', 3563), ('распологаться', 3564), ('тренажёр', 3565), ('луидор', 3566), ('ограниченный', 3567), ('инвалидный', 3568), ('закопать', 3569), ('кислинский', 3570), ('крановый', 3571), ('зжбить', 3572), ('избавиться', 3573), ('аристархов', 3574), ('ая', 3575), ('контейнеона', 3576), ('неверный', 3577), ('итд', 3578), ('вследствие', 3579), ('здравствуйт', 3580), ('откровенно', 3581), ('надзор', 3582), ('умирать', 3583), ('молодец', 3584), ('пирогов', 3585), ('буклясть', 3586), ('социально', 3587), ('перечень', 3588), ('внесение', 3589), ('утверждение', 3590), ('экспертиза', 3591), ('проектный', 3592), ('сметный', 3593), ('документация', 3594), ('выясниться', 3595), ('разлить', 3596), ('отчитываться', 3597), ('окрестность', 3598), ('отписаться', 3599), ('ускорение', 3600), ('подтверждаться', 3601), ('жесть', 3602), ('любить', 3603), ('магия', 3604), ('прожектор', 3605), ('ватт', 3606), ('дорого', 3607), ('язык', 3608), ('психика', 3609), ('оскорблять', 3610), ('кричать', 3611), ('срывать', 3612), ('разъяснительный', 3613), ('беседа', 3614), ('проституция', 3615), ('обсудить', 3616), ('уголовный', 3617), ('подготовить', 3618), ('преподаватель', 3619), ('стремиться', 3620), ('напомнить', 3621), ('слушать', 3622), ('знание', 3623), ('неравнодушный', 3624), ('захламить', 3625), ('бортовый', 3626), ('преимущество', 3627), ('карточный', 3628), ('катя', 3629), ('зеленко', 3630), ('означать', 3631), ('пища', 3632), ('анна', 3633), ('сбер', 3634), ('заметно', 3635), ('густой', 3636), ('порасти', 3637), ('незаконно', 3638), ('немедленно', 3639), ('тренировка', 3640), ('прямицыно', 3641), ('существенный', 3642), ('свидетель', 3643), ('возобновление', 3644), ('будка', 3645), ('коап', 3646), ('кража', 3647), ('подвергнуть', 3648), ('хищение', 3649), ('наказание', 3650), ('похитить', 3651), ('гораздо', 3652), ('вконтакте', 3653), ('публикация', 3654), ('тэц', 3655), ('уверить', 3656), ('чернышёв', 3657), ('рассказать', 3658), ('тяжесть', 3659), ('выписка', 3660), ('эндакринолог', 3661), ('метипред', 3662), ('лихорадка', 3663), ('родный', 3664), ('жена', 3665), ('увеличить', 3666), ('правда', 3667), ('полис', 3668), ('страхование', 3669), ('обратка', 3670), ('отводить', 3671), ('сливной', 3672), ('дезинфекция', 3673), ('аллергия', 3674), ('луначарский', 3675), ('почитать', 3676), ('сложность', 3677), ('увеличение', 3678), ('цитировать', 3679), ('играться', 3680), ('кондрашов', 3681), ('путёвка', 3682), ('загородный', 3683), ('ую', 3684), ('олимпиец', 3685), ('оторвать', 3686), ('канат', 3687), ('спинка', 3688), ('потоп', 3689), ('размытый', 3690), ('укрепить', 3691), ('обрушение', 3692), ('опираться', 3693), ('теплотрасса', 3694), ('страница', 3695), ('давний', 3696), ('реконструировать', 3697), ('обрезать', 3698), ('лишиться', 3699), ('замечать', 3700), ('антисанитарный', 3701), ('километровый', 3702), ('тажа', 3703), ('въезжать', 3704), ('многократно', 3705), ('печальный', 3706), ('загореться', 3707), ('наступить', 3708), ('проветрить', 3709), ('свора', 3710), ('освобождение', 3711), ('обидно', 3712), ('выпускник', 3713), ('прочитать', 3714), ('лиаз', 3715), ('представиться', 3716), ('розетка', 3717), ('евграф', 3718), ('угольный', 3719), ('автолавка', 3720), ('выполниться', 3721), ('гремячка', 3722), ('немалый', 3723), ('устройство', 3724), ('вкопать', 3725), ('сл', 3726), ('михайловка', 3727), ('проплатить', 3728), ('ломать', 3729), ('совершаться', 3730), ('детей', 3731), ('переверзевок', 3732), ('владимир', 3733), ('оптимальный', 3734), ('резервуар', 3735), ('степень', 3736), ('млн', 3737), ('весёлый', 3738), ('дно', 3739), ('тапомакс', 3740), ('крымский', 3741), ('ухо', 3742), ('сми', 3743), ('звезда', 3744), ('гравий', 3745), ('подходящий', 3746), ('шататься', 3747), ('недостаточный', 3748), ('шевелиться', 3749), ('пробовать', 3750), ('звягинцев', 3751), ('путаться', 3752), ('литейный', 3753), ('фатеж', 3754), ('протяжённый', 3755), ('гусеница', 3756), ('близко', 3757), ('сгрести', 3758), ('уступить', 3759), ('кратковременный', 3760), ('отсчёт', 3761), ('уважить', 3762), ('внятный', 3763), ('посередине', 3764), ('автотранспортный', 3765), ('осколок', 3766), ('белинский', 3767), ('обломиться', 3768), ('ритм', 3769), ('кукуевка', 3770), ('непотребный', 3771), ('сухостой', 3772), ('выяснить', 3773), ('нанесение', 3774), ('проблемма', 3775), ('хутор', 3776), ('разбросать', 3777), ('радубежский', 3778), ('оош', 3779), ('отдалить', 3780), ('слава', 3781), ('односельчанин', 3782), ('галерея', 3783), ('полка', 3784), ('ухаживать', 3785), ('погибший', 3786), ('армия', 3787), ('вроде', 3788), ('обучаться', 3789), ('настолько', 3790), ('культура', 3791), ('окончательно', 3792), ('мс', 3793), ('природопользование', 3794), ('присесть', 3795), ('интернат', 3796), ('загрязнять', 3797), ('проулочка', 3798), ('отловить', 3799), ('водосток', 3800), ('полноценно', 3801), ('вероятно', 3802), ('дырочка', 3803), ('здоровый', 3804), ('дырка', 3805), ('рыльский', 3806), ('пром', 3807), ('энерго', 3808), ('сервис', 3809), ('объяснять', 3810), ('контролироваться', 3811), ('нарекание', 3812), ('недовольный', 3813), ('плотина', 3814), ('функционировать', 3815), ('плавать', 3816), ('отечественный', 3817), ('деваться', 3818), ('нулевой', 3819), ('курсировать', 3820), ('переливание', 3821), ('чп', 3822), ('отпускать', 3823), ('киров', 3824), ('разорвать', 3825), ('нападение', 3826), ('независимый', 3827), ('модератор', 3828), ('рассматриваться', 3829), ('закапать', 3830), ('модернизация', 3831), ('геометрический', 3832), ('прогрессия', 3833), ('вандализм', 3834), ('подумать', 3835), ('опечатать', 3836), ('ёлка', 3837), ('водоразбор', 3838), ('стронуть', 3839), ('канава', 3840), ('закатать', 3841), ('некорректно', 3842), ('рекомендовать', 3843), ('комплект', 3844), ('годик', 3845), ('безграмотный', 3846), ('некорректный', 3847), ('заново', 3848), ('элементарный', 3849), ('телефонный', 3850), ('сознание', 3851), ('сбрасывать', 3852), ('вкрутить', 3853), ('здать', 3854), ('ловушка', 3855), ('щетинка', 3856), ('потребление', 3857), ('природоохранный', 3858), ('воспитывать', 3859), ('выборочно', 3860), ('обзванивать', 3861), ('занести', 3862), ('эп', 3863), ('корабль', 3864), ('систематический', 3865), ('ворошневый', 3866), ('вечно', 3867), ('должность', 3868), ('наболевший', 3869), ('благоустроить', 3870), ('поддерживаться', 3871), ('платонов', 3872), ('олегович', 3873), ('военнослужащий', 3874), ('квалифицировать', 3875), ('недопущение', 3876), ('карьера', 3877), ('котлован', 3878), ('накатать', 3879), ('беспрепятственный', 3880), ('рисовать', 3881), ('выравнить', 3882), ('некрасиво', 3883), ('отмечаться', 3884), ('посильный', 3885), ('украина', 3886), ('великоредчанин', 3887), ('любовь', 3888), ('ф', 3889), ('нахождение', 3890), ('ленинградский', 3891), ('скользко', 3892), ('вы', 3893), ('кс', 3894), ('эмблема', 3895), ('посиделки', 3896), ('противоаварийный', 3897), ('выбрать', 3898), ('применить', 3899), ('всеобщий', 3900), ('обсуждение', 3901), ('затрагивать', 3902), ('приостановить', 3903), ('блокироваться', 3904), ('совершать', 3905), ('продумать', 3906), ('натянуть', 3907), ('переливать', 3908), ('скорятина', 3909), ('поросль', 3910), ('надрыв', 3911), ('нестись', 3912), ('орлянка', 3913), ('поздняковский', 3914), ('сонцевский', 3915), ('крепить', 3916), ('поинтересоваться', 3917), ('блохино', 3918), ('оповещение', 3919), ('лом', 3920), ('сократить', 3921), ('минимизировать', 3922), ('подвеска', 3923), ('прохудиться', 3924), ('влажно', 3925), ('кб', 3926), ('проинформировать', 3927), ('халиный', 3928), ('обгон', 3929), ('фгдс', 3930), ('брюшной', 3931), ('полость', 3932), ('белок', 3933), ('билирубин', 3934), ('аста', 3935), ('алта', 3936), ('лдг', 3937), ('щф', 3938), ('мочевина', 3939), ('креатинин', 3940), ('мочевой', 3941), ('кислота', 3942), ('ата', 3943), ('гельминт', 3944), ('лямблия', 3945), ('явиться', 3946), ('уведомить', 3947), ('ясно', 3948), ('холм', 3949), ('усыпать', 3950), ('голос', 3951), ('ожидаться', 3952), ('повышение', 3953), ('разгрузить', 3954), ('длинный', 3955), ('земляной', 3956), ('полимерный', 3957), ('цветочный', 3958), ('спокойствие', 3959), ('снабжение', 3960), ('крыльцо', 3961), ('лицевой', 3962), ('гвардейский', 3963), ('застрять', 3964), ('фед', 3965), ('сломаться', 3966), ('алексеевский', 3967), ('луг', 3968), ('пообещать', 3969), ('спасти', 3970), ('прибывать', 3971), ('откачать', 3972), ('ведро', 3973), ('въездной', 3974), ('завозить', 3975), ('скос', 3976), ('автотранспортой', 3977), ('поделить', 3978), ('рекомендация', 3979), ('извинение', 3980), ('удалённый', 3981), ('насморк', 3982), ('перевод', 3983), ('латочный', 3984), ('нерегулируемый', 3985), ('фиксироваться', 3986), ('столбик', 3987), ('прокладывать', 3988), ('помыться', 3989), ('усилие', 3990), ('асфальтнр', 3991), ('доводить', 3992), ('сущность', 3993), ('отъезд', 3994), ('фанарь', 3995), ('школы', 3996), ('повсюду', 3997), ('никуда', 3998), ('перегородить', 3999), ('спустить', 4000), ('марат', 4001), ('соцконтракт', 4002), ('жизненный', 4003), ('обувь', 4004), ('проконсультировать', 4005), ('договориться', 4006), ('восточный', 4007), ('столкновение', 4008), ('стройматериал', 4009), ('семёновский', 4010), ('змеевик', 4011), ('агрессия', 4012), ('репин', 4013), ('укатать', 4014), ('фиолетовый', 4015), ('затхлый', 4016), ('активный', 4017), ('ручеёк', 4018), ('смрад', 4019), ('кухня', 4020), ('коммуналка', 4021), ('поблизости', 4022), ('пролить', 4023), ('ноль', 4024), ('несправедливый', 4025), ('киа', 4026), ('противоправный', 4027), ('дикий', 4028), ('растаскивать', 4029), ('воздействие', 4030), ('стойка', 4031), ('балка', 4032), ('народ', 4033), ('уколово', 4034), ('микроавтобус', 4035), ('перевозить', 4036), ('скудный', 4037), ('зарабатывать', 4038), ('оторваться', 4039), ('проводка', 4040), ('люстра', 4041), ('упираться', 4042), ('непить', 4043), ('бросать', 4044), ('грубо', 4045), ('мочить', 4046), ('специально', 4047), ('спуститься', 4048), ('лена', 4049), ('выключатель', 4050), ('кочка', 4051), ('заканчивать', 4052), ('распорядиться', 4053), ('облагораживание', 4054), ('согласный', 4055), ('печать', 4056), ('\\u200b\\u200b\\u200b\\u200b\\u200b\\u200b\\u200b', 4057), ('штатный', 4058), ('рассказывать', 4059), ('солдатский', 4060), ('складываться', 4061), ('впечатление', 4062), ('присутствие', 4063), ('снос', 4064), ('генеральный', 4065), ('пом', 4066), ('°с', 4067), ('неэффективно', 4068), ('поднимать', 4069), ('позади', 4070), ('выбить', 4071), ('дедушка', 4072), ('заря', 4073), ('нагрев', 4074), ('выбоить', 4075), ('годность', 4076), ('пищевой', 4077), ('чек', 4078), ('выдавать', 4079), ('бкада', 4080), ('чернозём', 4081), ('нежелание', 4082), ('правоохранительный', 4083), ('жаль', 4084), ('проверять', 4085), ('цур', 4086), ('темнеть', 4087), ('воронежский', 4088), ('загрязняться', 4089), ('размещать', 4090), ('общедомовый', 4091), ('холл', 4092), ('выяснение', 4093), ('показывать', 4094), ('находися', 4095), ('улыбка', 4096), ('выглядить', 4097), ('выпиливать', 4098), ('срубить', 4099), ('привышать', 4100), ('пфр', 4101), ('избиратель', 4102), ('мониторить', 4103), ('ефим', 4104), ('славский', 4105), ('помыть', 4106), ('приспосабливаться', 4107), ('необоснованный', 4108), ('обязывать', 4109), ('несчастный', 4110), ('проржаветь', 4111), ('неясно', 4112), ('фикспрайс', 4113), ('безопастность', 4114), ('разветие', 4115), ('выпадать', 4116), ('бомж', 4117), ('разбиваться', 4118), ('привозить', 4119), ('беседка', 4120), ('гелиос', 4121), ('загрязнение', 4122), ('медучреждение', 4123), ('мсч', 4124), ('простуда', 4125), ('оттуда', 4126), ('сбивать', 4127), ('сужаться', 4128), ('случайно', 4129), ('строение', 4130), ('врасти', 4131), ('пятый', 4132), ('возобновить', 4133), ('допускаться', 4134), ('таблица', 4135), ('резкий', 4136), ('скопиться', 4137), ('станционный', 4138), ('выставлять', 4139), ('использоваться', 4140), ('актуально', 4141), ('нагревать', 4142), ('рассверлить', 4143), ('сопло', 4144), ('клуб', 4145), ('отапливаться', 4146), ('автозапчасть', 4147), ('ракурс', 4148), ('сироп', 4149), ('впредь', 4150), ('ухудшение', 4151), ('заселить', 4152), ('общество', 4153), ('иначе', 4154), ('мостовый', 4155), ('уничтожать', 4156), ('металлолом', 4157), ('продавать', 4158), ('корп', 4159), ('защитный', 4160), ('числиться', 4161), ('выпадение', 4162), ('благодарность', 4163), ('завершить', 4164), ('немаленький', 4165), ('океан', 4166), ('ржаветь', 4167), ('нерешённый', 4168), ('исполнитель', 4169), ('треснутый', 4170), ('пьяный', 4171), ('опоздание', 4172), ('ижс', 4173), ('общедомовой', 4174), ('называться', 4175), ('чрезвычайный', 4176), ('мдк', 4177), ('арматура', 4178), ('устраняться', 4179), ('замачивание', 4180), ('эвакуироваться', 4181), ('развернуть', 4182), ('комфорт', 4183), ('восторг', 4184), ('аттракцион', 4185), ('вручную', 4186), ('вводить', 4187), ('некогда', 4188), ('раздел', 4189), ('двухполосный', 4190), ('ингаляция', 4191), ('раствор', 4192), ('процедура', 4193), ('отклонить', 4194), ('безысходность', 4195), ('выключение', 4196), ('асфальтый', 4197), ('самоуправство', 4198), ('подчёркивать', 4199), ('налогоплательщик', 4200), ('топить', 4201), ('куйбышев', 4202), ('попортить', 4203), ('бизнес', 4204), ('коллега', 4205), ('гость', 4206), ('простить', 4207), ('элементарно', 4208), ('добиваться', 4209), ('избежать', 4210), ('ольга', 4211), ('недоделка', 4212), ('забыть', 4213), ('сыпаться', 4214), ('заработный', 4215), ('накапливаться', 4216), ('десятка', 4217), ('притяжение', 4218), ('корректно', 4219), ('юзга', 4220), ('посоьий', 4221), ('итак', 4222), ('магистраль', 4223), ('сокращать', 4224), ('грунтовка', 4225), ('бирка', 4226), ('трос', 4227), ('короновирусный', 4228), ('очный', 4229), ('накопление', 4230), ('кинотеатр', 4231), ('обостриться', 4232), ('лай', 4233), ('оборвать', 4234), ('лещ', 4235), ('муравей', 4236), ('пристенский', 4237), ('отправляться', 4238), ('тп', 4239), ('арбат', 4240), ('род', 4241), ('выключить', 4242), ('батут', 4243), ('напоминать', 4244), ('подождать', 4245), ('евгений', 4246), ('носов', 4247), ('двойной', 4248), ('выдаваться', 4249), ('привидти', 4250), ('нервный', 4251), ('пожаловаться', 4252), ('карамышев', 4253), ('бушевать', 4254), ('символика', 4255), ('иванино', 4256), ('побежать', 4257), ('осесть', 4258), ('штырь', 4259), ('соорудить', 4260), ('передаваться', 4261), ('мусоропровод', 4262), ('можаевский', 4263), ('провозить', 4264), ('гласить', 4265), ('ручной', 4266), ('перевозиться', 4267), ('дериглазовый', 4268), ('образный', 4269), ('курасовый', 4270), ('возрасти', 4271), ('мираторг', 4272), ('продукция', 4273), ('войти', 4274), ('наклон', 4275), ('наряд', 4276), ('обойти', 4277), ('враньё', 4278), ('размещаться', 4279), ('прикрутить', 4280), ('тсн', 4281), ('челюскинец', 4282), ('четверг', 4283), ('болтаться', 4284), ('пожелать', 4285), ('доплатить', 4286), ('миллиард', 4287), ('ефремов', 4288), ('григориевич', 4289), ('пенсионерка', 4290), ('завершиться', 4291), ('зерно', 4292), ('смотровой', 4293), ('орёл', 4294), ('жалко', 4295), ('перерасить', 4296), ('среднее', 4297), ('купля', 4298), ('спина', 4299), ('впадина', 4300), ('молодёжный', 4301), ('оснастить', 4302), ('заносить', 4303), ('мучение', 4304), ('плк', 4305), ('плечо', 4306), ('твердить', 4307), ('характер', 4308), ('освещать', 4309), ('ямский', 4310), ('выбросить', 4311), ('курчатовавтотранс', 4312), ('троллейбусный', 4313), ('пин', 4314), ('горшечный', 4315), ('напросто', 4316), ('безразличие', 4317), ('внеплановый', 4318), ('кладовка', 4319), ('выступать', 4320), ('фкр', 4321), ('праздничный', 4322), ('настроение', 4323), ('игрушка', 4324), ('здорово', 4325), ('обратно', 4326), ('увенчаться', 4327), ('успех', 4328), ('формально', 4329), ('инна', 4330), ('проулок', 4331), ('запрос', 4332), ('смета', 4333), ('непредвиденный', 4334), ('формальный', 4335), ('фекальный', 4336), ('галочка', 4337), ('кромешный', 4338), ('харьковский', 4339), ('обследовать', 4340), ('параметр', 4341), ('малое', 4342), ('муха', 4343), ('дошкольный', 4344), ('определять', 4345), ('печный', 4346), ('сучка', 4347), ('вырубка', 4348), ('дозировка', 4349), ('затруднение', 4350), ('вторник', 4351), ('великий', 4352), ('оборваться', 4353), ('пластик', 4354), ('предоставляться', 4355), ('солдат', 4356), ('раскопка', 4357), ('палёнка', 4358), ('перекладина', 4359), ('заведовать', 4360), ('пруд', 4361), ('ведомственный', 4362), ('ипотечный', 4363), ('приказ', 4364), ('демографический', 4365), ('материнство', 4366), ('распределение', 4367), ('претендент', 4368), ('зависимость', 4369), ('почувствовать', 4370), ('газовик', 4371), ('перекрутить', 4372), ('поговорить', 4373), ('отработать', 4374), ('удивить', 4375), ('ужастный', 4376), ('светить', 4377), ('загораться', 4378), ('газпром', 4379), ('испытывать', 4380), ('волонтёр', 4381), ('коронавирусный', 4382), ('нереально', 4383), ('уборочный', 4384), ('подлесный', 4385), ('бензин', 4386), ('стерилизация', 4387), ('текст', 4388), ('справлять', 4389), ('естественный', 4390), ('надобность', 4391), ('коротков', 4392), ('игорь', 4393), ('инфликсимаб', 4394), ('абхазия', 4395), ('популярный', 4396), ('вьезд', 4397), ('замести', 4398), ('недостроенный', 4399), ('деменция', 4400), ('психоневрологический', 4401), ('диспансер', 4402), ('алексеевич', 4403), ('адмирал', 4404), ('ушаков', 4405), ('тускарий', 4406), ('частник', 4407), ('мониторит', 4408), ('листок', 4409), ('нетрудоспособность', 4410), ('развивать', 4411), ('сперва', 4412), ('голосование', 4413), ('лютый', 4414), ('принемаять', 4415), ('выталкивать', 4416), ('водозабор', 4417), ('набираться', 4418), ('намордник', 4419), ('моча', 4420), ('экскремент', 4421), ('грибковый', 4422), ('натравливать', 4423), ('репрессированный', 4424), ('противно', 4425), ('штрафовать', 4426), ('неисполнение', 4427), ('перекидывать', 4428), ('стихийный', 4429), ('разрастаться', 4430), ('морально', 4431), ('арена', 4432), ('вольт', 4433), ('задвижка', 4434), ('физический', 4435), ('резонанс', 4436), ('марина', 4437), ('проесть', 4438), ('межпанельный', 4439), ('дуть', 4440), ('слабовидящий', 4441), ('ласточка', 4442), ('плацкартный', 4443), ('творчество', 4444), ('побелка', 4445), ('зрение', 4446), ('навоз', 4447), ('сбой', 4448), ('улучшение', 4449), ('кровавый', 4450), ('клишин', 4451), ('цирк', 4452), ('опастный', 4453), ('кресло', 4454), ('манта', 4455), ('жарко', 4456), ('прогноз', 4457), ('инфекционист', 4458), ('рындин', 4459), ('пересдать', 4460), ('чирвин', 4461), ('тон', 4462), ('стент', 4463), ('организм', 4464), ('игнора', 4465), ('удосужиться', 4466), ('бок', 4467), ('мусорить', 4468), ('переоформление', 4469), ('материнский', 4470), ('капитал', 4471), ('вмещаться', 4472), ('голубеть', 4473), ('осторожно', 4474), ('похожий', 4475), ('обстоять', 4476), ('разграничить', 4477), ('сука', 4478), ('слой', 4479), ('эксперт', 4480), ('асфальтоукладчик', 4481), ('дизать', 4482), ('антон', 4483), ('свидетельствовать', 4484), ('укрыться', 4485), ('снизить', 4486), ('легковушка', 4487), ('логотип', 4488), ('аркс', 4489), ('влажный', 4490), ('некий', 4491), ('готовность', 4492), ('лебедев', 4493), ('уметь', 4494), ('структура', 4495), ('дискомфорт', 4496), ('домоуправление', 4497), ('фильтр', 4498), ('потерпеть', 4499), ('соответсвовать', 4500), ('нависнуть', 4501), ('оа', 4502), ('хн', 4503), ('хк', 4504), ('самореза', 4505), ('нанять', 4506), ('кандидатура', 4507), ('укачивать', 4508), ('бычок', 4509), ('оптимист', 4510), ('оконный', 4511), ('близь', 4512), ('сапог', 4513), ('аж', 4514), ('окрестный', 4515), ('нагреваться', 4516), ('объезд', 4517), ('заработать', 4518), ('завалиться', 4519), ('заасфальтировать', 4520), ('сваливаться', 4521), ('выражение', 4522), ('громкий', 4523), ('дистанционно', 4524), ('эксплуатироваться', 4525), ('мощность', 4526), ('пояснение', 4527), ('сменить', 4528), ('русло', 4529), ('включиться', 4530), ('разгрузка', 4531), ('пивзавод', 4532), ('бутка', 4533), ('жалкий', 4534), ('трясти', 4535), ('приятно', 4536), ('подкат', 4537), ('сказка', 4538), ('затруднительно', 4539), ('тонкий', 4540), ('пришкольный', 4541), ('лекарственный', 4542), ('перерыв', 4543), ('крошиться', 4544), ('админ', 4545), ('профлист', 4546), ('выгон', 4547), ('поповка', 4548), ('чёткий', 4549), ('греть', 4550), ('изделие', 4551), ('холодильный', 4552), ('реабилитация', 4553), ('неосвещённый', 4554), ('петрухин', 4555), ('однокомпонентный', 4556), ('грубить', 4557), ('ручка', 4558), ('шт', 4559), ('отоварить', 4560), ('отсрочить', 4561), ('инъекция', 4562), ('поддерживать', 4563), ('гв', 4564), ('доложить', 4565), ('захламленный', 4566), ('коммуна', 4567), ('цюрупа', 4568), ('каширцев', 4569), ('блинов', 4570), ('наличные', 4571), ('банковский', 4572), ('конденсат', 4573), ('наиболее', 4574), ('дворец', 4575), ('рэс', 4576), ('взрыв', 4577), ('агресивный', 4578), ('исход', 4579), ('фестивальный', 4580), ('ромашковый', 4581), ('проливный', 4582), ('хлеб', 4583), ('опасаться', 4584), ('крошка', 4585), ('автодора', 4586), ('завестись', 4587), ('считаться', 4588), ('полететь', 4589), ('спрашиваться', 4590), ('жэк', 4591), ('захват', 4592), ('институтский', 4593), ('инстеп', 4594), ('мотивировать', 4595), ('буквально', 4596), ('ростелеком', 4597), ('свинарник', 4598), ('курскэнерго', 4599), ('исправный', 4600), ('удивлённый', 4601), ('плановый', 4602), ('сдвиг', 4603), ('ссср', 4604), ('новорапид', 4605), ('говориться', 4606), ('тимский', 4607), ('быстрецкий', 4608), ('баглевский', 4609), ('химиотерапия', 4610), ('автоматика', 4611), ('смыв', 4612), ('разгрузочный', 4613), ('загрузка', 4614), ('нравиться', 4615), ('скотский', 4616), ('сунуть', 4617), ('номерок', 4618), ('опубликованный', 4619), ('отремонтированный', 4620), ('держатель', 4621), ('греться', 4622), ('нге', 4623), ('называется', 4624), ('арматурин', 4625), ('насквозь', 4626), ('пробить', 4627), ('щека', 4628), ('нос', 4629), ('шрам', 4630), ('гиматом', 4631), ('тронуть', 4632), ('тс', 4633), ('расчищать', 4634), ('осложнить', 4635), ('спутниковый', 4636), ('снимок', 4637), ('изя', 4638), ('карамана', 4639), ('командование', 4640), ('подробный', 4641), ('достоверно', 4642), ('подлежать', 4643), ('зачвление', 4644), ('назначаться', 4645), ('подпункт', 4646), ('абзац', 4647), ('соответсвие', 4648), ('интерес', 4649), ('многократный', 4650), ('левемиро', 4651), ('жизненнонеобходить', 4652), ('хлебозавод', 4653), ('путить', 4654), ('катастрофа', 4655), ('пузо', 4656), ('игрнорировать', 4657), ('латать', 4658), ('трасска', 4659), ('агрессивный', 4660), ('кузов', 4661), ('хвойный', 4662), ('штучка', 4663), ('волонтёрский', 4664), ('спереди', 4665), ('оченьдалеко', 4666), ('кашар', 4667), ('рекламанай', 4668), ('коллцентр', 4669), ('упирать', 4670), ('здравохранение', 4671), ('избегать', 4672), ('намеренный', 4673), ('саботаж', 4674), ('высоченный', 4675), ('сие', 4676), ('успешно', 4677), ('модерация', 4678), ('теплоснабжающий', 4679), ('сторовойт', 4680), ('сход', 4681), ('цевелезация', 4682), ('месный', 4683), ('надолго', 4684), ('вытаскивать', 4685), ('азаров', 4686), ('живить', 4687), ('датьша', 4688), ('лавров', 4689), ('собственица', 4690), ('уменьшить', 4691), ('спускание', 4692), ('спальный', 4693), ('гудеть', 4694), ('младенец', 4695), ('ограда', 4696), ('разбрасываться', 4697), ('касиновский', 4698), ('никчий', 4699), ('посоветовать', 4700), ('зеленстроить', 4701), ('утепление', 4702), ('исписать', 4703), ('выполнилнить', 4704), ('нормотивный', 4705), ('общить', 4706), ('запускать', 4707), ('мёртвый', 4708), ('машин', 4709), ('жб', 4710), ('гостинный', 4711), ('встретить', 4712), ('начальство', 4713), ('расклейка', 4714), ('действенный', 4715), ('преобразиться', 4716), ('автодозвон', 4717), ('оценить', 4718), ('обломок', 4719), ('разрушиться', 4720), ('мв', 4721), ('сантехника', 4722), ('выжиг', 4723), ('трёхлитровый', 4724), ('разворотить', 4725), ('режмма', 4726), ('брусовой', 4727), ('поныровский', 4728), ('анциферовка', 4729), ('какуринк', 4730), ('заречка', 4731), ('ошибочный', 4732), ('ракушка', 4733), ('загруженность', 4734), ('требуестить', 4735), ('околица', 4736), ('рада', 4737), ('преобразование', 4738), ('задерживаться', 4739), ('отнести', 4740), ('сороковой', 4741), ('посадский', 4742), ('насущный', 4743), ('трёхэтажный', 4744), ('шифер', 4745), ('покоситься', 4746), ('кирпичик', 4747), ('отлив', 4748), ('уплачивать', 4749), ('сомнение', 4750), ('начистить', 4751), ('антоновский', 4752), ('энергоснабжающий', 4753), ('подведение', 4754), ('электрожнергия', 4755), ('иаком', 4756), ('ужасающий', 4757), ('спешить', 4758), ('гроза', 4759), ('притом', 4760), ('банер', 4761), ('поиск', 4762), ('фасоль', 4763), ('фтнарь', 4764), ('пачкыть', 4765), ('вымотя', 4766), ('жи', 4767), ('дополнять', 4768), ('рвотный', 4769), ('вынуждать', 4770), ('наносить', 4771), ('вдыхать', 4772), ('идентификация', 4773), ('уширений', 4774), ('асфальтом￼￼', 4775), ('холодныйть', 4776), ('предварительно', 4777), ('полить', 4778), ('непригодность', 4779), ('избирательный', 4780), ('рено', 4781), ('логан', 4782), ('разрисовать', 4783), ('вандальный', 4784), ('набоко', 4785), ('бабанин', 4786), ('фокус', 4787), ('рт', 4788), ('огибдд', 4789), ('омвд', 4790), ('ведомство', 4791), ('привязка', 4792), ('сертификация', 4793), ('убеждение', 4794), ('жаркий', 4795), ('пожароопастость', 4796), ('априори', 4797), ('ду', 4798), ('ванин', 4799), ('расползаться', 4800), ('агрессор', 4801), ('гибнуть', 4802), ('вымирать', 4803), ('любимый', 4804), ('природный', 4805), ('ядовитый', 4806), ('сок', 4807), ('ожог', 4808), ('мошенник', 4809), ('каб', 4810), ('прививаться', 4811), ('братский', 4812), ('мемориал', 4813), ('рудавский', 4814), ('поливать', 4815), ('благоустроль', 4816), ('библиотека', 4817), ('клюквинский', 4818), ('продолжиться', 4819), ('картон', 4820), ('объявить', 4821), ('благоустроенный', 4822), ('мр', 4823), ('честно', 4824), ('долгострой', 4825), ('наспех', 4826), ('омерзительно', 4827), ('первоначальный', 4828), ('заморозок', 4829), ('полив', 4830), ('автомойка', 4831), ('некомпетентность', 4832), ('новиков', 4833), ('выслушать', 4834), ('сохраниться', 4835), ('крюковский', 4836), ('починка', 4837), ('трескаться', 4838), ('пренебрежение', 4839), ('ежегодный', 4840), ('неустойка', 4841), ('развилка', 4842), ('леревие', 4843), ('высотрть', 4844), ('пытвютмить', 4845), ('шуол', 4846), ('переплестись', 4847), ('соответсовать', 4848), ('написанный', 4849), ('минестерство', 4850), ('веспремский', 4851), ('тротурар', 4852), ('ероп', 4853), ('гелиус', 4854), ('√', 4855), ('организационный', 4856), ('чип', 4857), ('уха', 4858), ('пятрочко', 4859), ('рабиолог', 4860), ('составность', 4861), ('профинансировать', 4862), ('тарифный', 4863), ('номерация', 4864), ('обрабатывать', 4865), ('усложнять', 4866), ('золотухуно', 4867), ('метеоусловия', 4868), ('па', 4869), ('подготовительный', 4870), ('выравнивание', 4871), ('разочарование', 4872), ('круглогодичный', 4873), ('уменьшиться', 4874), ('публичный', 4875), ('росреестр', 4876), ('недопустимо', 4877), ('безвозмездный', 4878), ('охватить', 4879), ('преграда', 4880), ('бесполезно', 4881), ('банальный', 4882), ('фосрудник', 4883), ('прошедший', 4884), ('унести', 4885), ('полугора', 4886), ('фотоснимок', 4887), ('переселение', 4888), ('вспомнить', 4889), ('бомонд', 4890), ('сработать', 4891), ('пистон', 4892), ('классный', 4893), ('константинович', 4894), ('психолог', 4895), ('поворачиваться', 4896), ('искалечить', 4897), ('уговаривать', 4898), ('успокаивать', 4899), ('ассоциация', 4900), ('дурак', 4901), ('дебил', 4902), ('алкаш', 4903), ('способный', 4904), ('умственно', 4905), ('отсталый', 4906), ('риторический', 4907), ('математика', 4908), ('девочка', 4909), ('проститутка', 4910), ('зэк', 4911), ('заострить', 4912), ('листочек', 4913), ('воспитательный', 4914), ('крики', 4915), ('ученик', 4916), ('общежитие', 4917), ('медуниверситет', 4918), ('слудуть', 4919), ('заяц', 4920), ('выть', 4921), ('отсыпаться', 4922), ('спрыгивать', 4923), ('порщадка', 4924), ('механизация', 4925), ('уступать', 4926), ('монолитный', 4927), ('вылизать', 4928), ('скатываться', 4929), ('привет', 4930), ('съезжий', 4931), ('достойно', 4932), ('двигатель', 4933), ('смывать', 4934), ('пролегать', 4935), ('грязевый', 4936), ('добротный', 4937), ('пагубно', 4938), ('домовый', 4939), ('большегрузный', 4940), ('изыскать', 4941), ('отделываться', 4942), ('капремонт', 4943), ('мэрия', 4944), ('шолнкова', 4945), ('асель', 4946), ('жамолдинович', 4947), ('прокофьев', 4948), ('вычитать', 4949), ('зарплатный', 4950), ('россельхоз', 4951), ('сопровождать', 4952), ('близстоящий', 4953), ('мечта', 4954), ('автовладелец', 4955), ('песковка', 4956), ('ухудшить', 4957), ('подверженный', 4958), ('вирусный', 4959), ('энцефалит', 4960), ('передаваемый', 4961), ('детишки', 4962), ('незаконноустановленный', 4963), ('ео', 4964), ('нисан', 4965), ('трейл', 4966), ('гадять', 4967), ('некст', 4968), ('непозволительно', 4969), ('набитый', 4970), ('расход', 4971), ('предъявить', 4972), ('дежурство', 4973), ('лукашевский', 4974), ('триколор', 4975), ('хулиганский', 4976), ('побуждение', 4977), ('правонарушитель', 4978), ('бомондъ', 4979), ('в', 4980), ('тарабрин', 4981), ('пропагандировать', 4982), ('комментатор', 4983), ('счесть', 4984), ('родственный', 4985), ('противодействие', 4986), ('сговор', 4987), ('отягощать', 4988), ('процветание', 4989), ('воровать', 4990), ('безнаказанный', 4991), ('воемить', 4992), ('припаратый', 4993), ('долечиваться', 4994), ('аппетит', 4995), ('сон', 4996), ('сморщиться', 4997), ('сердцебиение', 4998), ('списывать', 4999), ('постковидный', 5000), ('синдром', 5001), ('надпочичник', 5002), ('доза', 5003), ('метепред', 5004), ('тяжолый', 5005), ('рассудок', 5006), ('затуманиться', 5007), ('тошнить', 5008), ('немочь', 5009), ('поликлинеке', 5010), ('грудной', 5011), ('экг', 5012), ('истощение', 5013), ('каменка', 5014), ('снилс', 5015), ('эдакринология', 5016), ('отзпвитмкся', 5017), ('одн', 5018), ('тарифицироваться', 5019), ('одинаково', 5020), ('утилизоваться', 5021), ('однокомнатный', 5022), ('ооожилсервис', 5023), ('горгаза', 5024), ('облепить', 5025), ('клоп', 5026), ('маг', 5027), ('пенсионный', 5028), ('частичный', 5029), ('рассадник', 5030), ('миллион', 5031), ('уничтожаться', 5032), ('искусать', 5033), ('истребить', 5034), ('провалиламить', 5035), ('актуальный', 5036), ('продляться', 5037), ('лопата', 5038), ('эмилий', 5039), ('дооснащение', 5040), ('постойный', 5041), ('насыпной', 5042), ('теплораспределительный', 5043), ('сползать', 5044), ('укреплять', 5045), ('подъедом', 5046), ('вглуб', 5047), ('промоить', 5048), ('находться', 5049), ('устремляться', 5050), ('устрепляться', 5051), ('варварски', 5052), ('драматический', 5053), ('цум', 5054), ('десяток', 5055), ('мëртвыя', 5056), ('подвергнуться', 5057), ('варварский', 5058), ('отлично', 5059), ('радовать', 5060), ('дифицитный', 5061), ('тень', 5062), ('обойдëться', 5063), ('санкционированный', 5064), ('гибель', 5065), ('деверьев', 5066), ('притащить', 5067), ('недотащить', 5068), ('отчаянно', 5069), ('влияние', 5070), ('шипеть', 5071), ('тухлый', 5072), ('яйцо', 5073), ('брешь', 5074), ('универсам', 5075), ('подразумеваться', 5076), ('регулирование', 5077), ('уменьшать', 5078), ('древесный', 5079), ('огомный', 5080), ('окраина', 5081), ('вгтрк', 5082), ('запутаться', 5083), ('дунуть', 5084), ('порваться', 5085), ('выскочить', 5086), ('вырезать', 5087), ('пристанционный', 5088), ('задымление', 5089), ('эпидти', 5090), ('исправлять', 5091), ('накинуться', 5092), ('травмпункт', 5093), ('сажать', 5094), ('поглащать', 5095), ('просижаныедний', 5096), ('терять', 5097), ('зароботок', 5098), ('ан', 5099), ('мамин', 5100), ('электропромсервис', 5101), ('отклеиться', 5102), ('мангал', 5103), ('хаус', 5104), ('домак', 5105), ('благо', 5106), ('разделитель', 5107), ('сумрак', 5108), ('временно', 5109), ('железо', 5110), ('всетофора', 5111), ('лесенка', 5112), ('печеходный', 5113), ('выпирать', 5114), ('рассыльный', 5115), ('вровень', 5116), ('неспециалист', 5117), ('грамотный', 5118), ('оплачиваево', 5119), ('элитный', 5120), ('пятиэтажка', 5121), ('нубрать', 5122), ('примиит', 5123), ('многолетний', 5124), ('осина', 5125), ('бооый', 5126), ('кончиться', 5127), ('надеиться', 5128), ('четверной', 5129), ('сотрудничество', 5130), ('отправляласть', 5131), ('проблему', 5132), ('шахов', 5133), ('избрать', 5134), ('тушение', 5135), ('квачева', 5136), ('неустранение', 5137), ('завести', 5138), ('обескуражить', 5139), ('оценивать', 5140), ('предстоять', 5141), ('коммунар', 5142), ('безусловно', 5143), ('дотационный', 5144), ('перевоз', 5145), ('эйдемана', 5146), ('камыш', 5147), ('капс', 5148), ('набросать', 5149), ('неубирать', 5150), ('озвучиваться', 5151), ('пользователь', 5152), ('озвучивать', 5153), ('кте', 5154), ('межсезонье', 5155), ('облить', 5156), ('сплошать', 5157), ('досточка', 5158), ('ограничитель', 5159), ('косметика', 5160), ('печально', 5161), ('прокладывание', 5162), ('продавить', 5163), ('обрушить', 5164), ('опалубка', 5165), ('водопроводный', 5166), ('наполнить', 5167), ('сопровождение', 5168), ('ой', 5169), ('скачка', 5170), ('благоустройст', 5171), ('соединить', 5172), ('тесно', 5173), ('усугубление', 5174), ('градостроительный', 5175), ('прикосновение', 5176), ('мутный', 5177), ('нии', 5178), ('прежде', 5179), ('насчёт', 5180), ('котрый', 5181), ('уб', 5182), ('устаривать', 5183), ('евгениевич', 5184), ('примитя', 5185), ('попрошайничество', 5186), ('надземный', 5187), ('гринна', 5188), ('просыпка', 5189), ('глинко', 5190), ('чернышевский', 5191), ('автодогореть', 5192), ('дмитриев', 5193), ('американский', 5194), ('бабочка', 5195), ('суворовской', 5196), ('машинай', 5197), ('пиво', 5198), ('ким', 5199), ('навигатор', 5200), ('неправильный', 5201), ('светофорный', 5202), ('афигеть', 5203), ('отрегулировать', 5204), ('невский', 5205), ('победит', 5206), ('календарь', 5207), ('пентаксим', 5208), ('искусство', 5209), ('￼￼', 5210), ('наятоящий', 5211), ('обрщаться', 5212), ('мотор', 5213), ('навать', 5214), ('автоматический', 5215), ('фикция', 5216), ('газстройинвест', 5217), ('оплачиваться', 5218), ('заказчик', 5219), ('дума', 5220), ('чтение', 5221), ('газоснабжение', 5222), ('скопить', 5223), ('свальный', 5224), ('обещанно', 5225), ('ходеев', 5226), ('живот', 5227), ('отвезти', 5228), ('хирург', 5229), ('разгибаться', 5230), ('кишка', 5231), ('выпить', 5232), ('обезболивать', 5233), ('объединение', 5234), ('радиус', 5235), ('фатежский', 5236), ('постоить', 5237), ('компьютерный', 5238), ('мастерская', 5239), ('музей', 5240), ('боевой', 5241), ('трудовой', 5242), ('бессмертный', 5243), ('твёрдо', 5244), ('спецоперация', 5245), ('донбасс', 5246), ('поселиться', 5247), ('подвозить', 5248), ('мкоу', 5249), ('фролковы', 5250), ('реорганизация', 5251), ('выгнать', 5252), ('возмутить', 5253), ('перечеркнуть', 5254), ('бедный', 5255), ('отстоять', 5256), ('авиаавтоматика', 5257), ('труповозик', 5258), ('перод', 5259), ('сфера', 5260), ('окружающец', 5261), ('новомосковский', 5262), ('приблизительный', 5263), ('источать', 5264), ('берёзовый', 5265), ('корабкаться', 5266), ('вырибит', 5267), ('избыточный', 5268), ('вольер', 5269), ('обвалить', 5270), ('забетонировать', 5271), ('водканал', 5272), ('проволиться', 5273), ('экспоуатация', 5274), ('деревьево', 5275), ('сугровский', 5276), ('регпроект', 5277), ('выраста', 5278), ('юров', 5279), ('зубной', 5280), ('стоматологический', 5281), ('воспалиться', 5282), ('десна', 5283), ('снимка', 5284), ('удаление', 5285), ('рассосаться', 5286), ('раскрытый', 5287), ('теплопровод', 5288), ('локальный', 5289), ('обладать', 5290), ('познание', 5291), ('вытоптать', 5292), ('занизить', 5293), ('голый', 5294), ('сос', 5295), ('нен', 5296), ('минтранс', 5297), ('тихий', 5298), ('перспектива', 5299), ('специфический', 5300), ('впервые', 5301), ('выгружаться', 5302), ('дороги', 5303), ('никитский', 5304), ('никочь', 5305), ('траектория', 5306), ('потонуть', 5307), ('эваукуатор', 5308), ('абонентский', 5309), ('просрочить', 5310), ('клиент', 5311), ('крениться', 5312), ('ежеминутно', 5313), ('верояность', 5314), ('значимость', 5315), ('смываться', 5316), ('де', 5317), ('востребовать', 5318), ('жождаться', 5319), ('ощущаться', 5320), ('фанера', 5321), ('оптовка', 5322), ('выскакивать', 5323), ('кидаються', 5324), ('неожиданно', 5325), ('пмк', 5326), ('айсберг', 5327), ('печатать', 5328), ('руль', 5329), ('удар', 5330), ('конный', 5331), ('нападать', 5332), ('безответственно', 5333), ('пристраивать', 5334), ('ида', 5335), ('регин', 5336), ('залитий', 5337), ('незакопать', 5338), ('июл', 5339), ('гупко', 5340), ('курскоблжилкомхоз', 5341), ('вскрываться', 5342), ('окончить', 5343), ('мешаться', 5344), ('засыпаться', 5345), ('горный', 5346), ('зловоние', 5347), ('когда', 5348), ('произвол', 5349), ('суета', 5350), ('подвойский', 5351), ('ощутимо', 5352), ('снизиться', 5353), ('респираторный', 5354), ('выкопать', 5355), ('шесть', 5356), ('предупредительный', 5357), ('асеев', 5358), ('независимо', 5359), ('горводоканал', 5360), ('движущий', 5361), ('гормальный', 5362), ('востановленный', 5363), ('бездеятельность', 5364), ('президентский', 5365), ('заблуждение', 5366), ('выдумывать', 5367), ('еддс', 5368), ('получета', 5369), ('волобуев', 5370), ('людмила', 5371), ('дмитриевский', 5372), ('кровотечение', 5373), ('капельница', 5374), ('рыбакина', 5375), ('наталия', 5376), ('умышленно', 5377), ('исключать', 5378), ('бумажный', 5379), ('итогга', 5380), ('аэв', 5381), ('прикрепиться', 5382), ('станионар', 5383), ('открепиться', 5384), ('территориально', 5385), ('дитея', 5386), ('отмена', 5387), ('трость', 5388), ('приморский', 5389), ('логично', 5390), ('конституция', 5391), ('полномочие', 5392), ('развод', 5393), ('сначало', 5394), ('заграждение', 5395), ('детсад', 5396), ('димитровый', 5397), ('нмт', 5398), ('кожвендеспанцер', 5399), ('госуслаг', 5400), ('чат', 5401), ('отходить', 5402), ('приклеить', 5403), ('залезать', 5404), ('молчаливый', 5405), ('согласие', 5406), ('рс', 5407), ('ворошневский', 5408), ('пропадать', 5409), ('агро', 5410), ('скачивание', 5411), ('видеорегистратор', 5412), ('плащадка', 5413), ('бейджик', 5414), ('квартирный', 5415), ('провединия', 5416), ('дочка', 5417), ('архив', 5418), ('преобрести', 5419), ('керамогранитный', 5420), ('учасг', 5421), ('прислушаться', 5422), ('возмущение', 5423), ('иня', 5424), ('даиб', 5425), ('съехать', 5426), ('поттопление', 5427), ('полноприводный', 5428), ('вконец', 5429), ('произведение', 5430), ('дублировать', 5431), ('джабраил', 5432), ('малик', 5433), ('кусочек', 5434), ('устраиваться', 5435), ('ненормированный', 5436), ('политехнический', 5437), ('переселенец', 5438), ('беженец', 5439), ('антонин', 5440), ('фёдорович', 5441), ('покраска', 5442), ('поклейка', 5443), ('обслужать', 5444), ('элеваторный', 5445), ('добросовестно', 5446), ('преддомовый', 5447), ('сыпать', 5448), ('обрабатываться', 5449), ('опасение', 5450), ('сарза', 5451), ('наклеить', 5452), ('почижена', 5453), ('тащить', 5454), ('черемисиново', 5455), ('межмуниципальный', 5456), ('книга', 5457), ('барельеф', 5458), ('отводный', 5459), ('поломаный', 5460), ('внушать', 5461), ('доверие', 5462), ('подписываться', 5463), ('подлинность', 5464), ('состояться', 5465), ('выез', 5466), ('сторонний', 5467), ('напрямую', 5468), ('ущемлять', 5469), ('нотариальный', 5470), ('контора', 5471), ('сокрыть', 5472), ('всенародный', 5473), ('двухсторонний', 5474), ('неродивый', 5475), ('нарастить', 5476), ('борт', 5477), ('изгиб', 5478), ('аннулировать', 5479), ('разбирать', 5480), ('вовнутрь', 5481), ('поворачивать', 5482), ('односторонея', 5483), ('встретиться', 5484), ('зала', 5485), ('промерзать', 5486), ('пезда', 5487), ('пассажиропатка', 5488), ('выбирать', 5489), ('медленный', 5490), ('весомо', 5491), ('филармония', 5492), ('скулкова', 5493), ('господин', 5494), ('скулковы', 5495), ('внимательно', 5496), ('старенький', 5497), ('сварка', 5498), ('отхожий', 5499), ('скрывать', 5500), ('разобрать', 5501), ('маетный', 5502), ('доски', 5503), ('соглашение', 5504), ('мес', 5505), ('тематика', 5506), ('подобрать', 5507), ('цзн', 5508), ('минувший', 5509), ('литой', 5510), ('угодить', 5511), ('близ', 5512), ('вкусно', 5513), ('обойтись', 5514), ('городок', 5515), ('второе', 5516), ('мчаться', 5517), ('свыше', 5518), ('аллерголог', 5519), ('иммунолог', 5520), ('бму', 5521), ('колба', 5522), ('конс', 5523), ('гастроэнтеролог', 5524), ('узи\\u200b', 5525), ('скакать', 5526), ('анализам\\u200b', 5527), ('эндокринологический', 5528), ('щитовидный', 5529), ('железа', 5530), ('ттг', 5531), ('ношение', 5532), ('водителиотказываться', 5533), ('иофлайн', 5534), ('карь', 5535), ('списываться', 5536), ('внедрить', 5537), ('поручень', 5538), ('стикер', 5539), ('гороздый', 5540), ('нынешний', 5541), ('эпидобстановка', 5542), ('прикасаться', 5543), ('выкосить', 5544), ('туристический', 5545), ('бренд', 5546), ('→', 5547), ('кн', 5548), ('ненормативный', 5549), ('лексика', 5550), ('задница', 5551), ('поцеловать', 5552), ('мат', 5553), ('выразиться', 5554), ('оскорбление', 5555), ('приемлемый', 5556), ('пассажиропоток', 5557), ('хотесь', 5558), ('апаратый', 5559), ('толтко', 5560), ('передвигиться', 5561), ('прежевальский', 5562), ('палет', 5563), ('настил', 5564), ('оранжевый', 5565), ('уаз', 5566), ('реанимационный', 5567), ('приостановка', 5568), ('покрыться', 5569), ('уворачиваться', 5570), ('обрызгать', 5571), ('пыльный', 5572), ('покрыть', 5573), ('скошеный', 5574), ('уж', 5575), ('гадюка', 5576), ('скол', 5577), ('фракция', 5578), ('треснуть', 5579), ('стальной', 5580), ('виснуть', 5581), ('трансформатор', 5582), ('опиливание', 5583), ('светофор￼', 5584), ('ненормально', 5585), ('домофон', 5586), ('безбарьерный', 5587), ('моп', 5588), ('постричь', 5589), ('прятаться', 5590), ('росся', 5591), ('перекопать', 5592), ('заснять', 5593), ('раздельный', 5594), ('прояснить', 5595), ('значиться', 5596), ('правоустанавливать', 5597), ('мку', 5598), ('мнф', 5599), ('зр', 5600), ('бесхозяйность', 5601), ('мкр', 5602), ('озёрный', 5603), ('мальцево', 5604), ('ров', 5605), ('пролежать', 5606), ('любимовский', 5607), ('руководствоваться', 5608), ('подушка', 5609), ('обращася', 5610), ('опа', 5611), ('ять', 5612), ('подмываться', 5613), ('откачка', 5614), ('вод', 5615), ('наполнение', 5616), ('свойство', 5617), ('метленко', 5618), ('тяпочкин', 5619), ('редкий', 5620), ('дозвон', 5621), ('переговоры', 5622), ('переломаться', 5623), ('споткнуться', 5624), ('швеллер', 5625), ('кровища', 5626), ('голосить', 5627), ('перепрошивка', 5628), ('апеллировать', 5629), ('\\u200b\\u200b\\u200b\\u200b\\u200b', 5630), ('нров', 5631), ('межл', 5632), ('паркрвой', 5633), ('освешение', 5634), ('льговавтотранс', 5635), ('делешка', 5636), ('делить', 5637), ('развить', 5638), ('заосфальтировать', 5639), ('скинуть', 5640), ('уютный', 5641), ('свердлов', 5642), ('годый', 5643), ('заоажать', 5644), ('васильев', 5645), ('затапливаться', 5646), ('повредиться', 5647), ('ограничиваться', 5648), ('прибавляться', 5649), ('жби', 5650), ('раскурочить', 5651), ('просохнуть', 5652), ('окольный', 5653), ('каткий', 5654), ('доделывать', 5655), ('перепрыгивать', 5656), ('хомутовка', 5657), ('коричневый', 5658), ('определение', 5659), ('товарищ', 5660), ('садовая', 5661), ('пробираться', 5662), ('ольшанка', 5663), ('газелек', 5664), ('гтс', 5665), ('вернули', 5666), ('пират', 5667), ('копать', 5668), ('тушить', 5669), ('подпаливать', 5670), ('непотвердить', 5671), ('летнии', 5672), ('палить', 5673), ('подполить', 5674), ('трудоустройство', 5675), ('арестовать', 5676), ('страх', 5677), ('савод', 5678), ('предпринит', 5679), ('намерить', 5680), ('формироваться', 5681), ('разовраться', 5682), ('выровнять', 5683), ('ендовищенский', 5684), ('трудный', 5685), ('канцтовары', 5686), ('добродушно', 5687), ('запрашивать', 5688), ('занятость', 5689), ('укрытие', 5690), ('сложить', 5691), ('поддно', 5692), ('проиществие', 5693), ('сужать', 5694), ('неогороженный', 5695), ('мкп', 5696), ('укс', 5697), ('озеленить', 5698), ('перепад', 5699), ('литр', 5700), ('политься', 5701), ('утиный', 5702), ('остров', 5703), ('весить', 5704), ('прикормить', 5705), ('покус', 5706), ('примета', 5707), ('рассыпать', 5708), ('закапываться', 5709), ('параллельный', 5710), ('разругать', 5711), ('аварийнр', 5712), ('преждевременный', 5713), ('проникновение', 5714), ('появление', 5715), ('электрощиток', 5716), ('утерять', 5717), ('замазать', 5718), ('герметик', 5719), ('вероятный', 5720), ('засориться', 5721), ('иммущество', 5722), ('нижеперечисленный', 5723), ('едениц', 5724), ('требовония', 5725), ('перешивать', 5726), ('участак', 5727), ('отравлять', 5728), ('окутывать', 5729), ('примесь', 5730), ('перетекать', 5731), ('терпеливый', 5732), ('гадость', 5733), ('заполнять', 5734), ('уборная', 5735), ('лопаться', 5736), ('комфортно', 5737), ('удушать', 5738), ('однажды', 5739), ('выбивать', 5740), ('несправедливость', 5741), ('повторение', 5742), ('присмотр', 5743), ('несоответствующий', 5744), ('разбавлять', 5745), ('провезти', 5746), ('№ко', 5747), ('рх', 5748), ('прикладываться', 5749), ('объедок', 5750), ('выбрасывание', 5751), ('неположенный', 5752), ('садоводческий', 5753), ('авиатор', 5754), ('богатырь', 5755), ('ромашка', 5756), ('коттедж', 5757), ('сварной', 5758), ('организованный', 5759), ('жгб', 5760), ('завораживать', 5761), ('зотухинский', 5762), ('нелегальный', 5763), ('подозрительный', 5764), ('разборчево', 5765), ('уезд', 5766), ('хотябнуть', 5767), ('прошлогодний', 5768), ('мотаться', 5769), ('тоненький', 5770), ('клеммный', 5771), ('коробка', 5772), ('оголённа', 5773), ('неиссякаемый', 5774), ('тактильный', 5775), ('протекание', 5776), ('проводок', 5777), ('ачкасова', 5778), ('вторичный', 5779), ('расшириться', 5780), ('потепление', 5781), ('энерия', 5782), ('ращрушить', 5783), ('громко', 5784), ('шуметь', 5785), ('заглядывать', 5786), ('камушек', 5787), ('железногооский', 5788), ('ажовый', 5789), ('селецкий', 5790), ('некомпитетность', 5791), ('разбазаривание', 5792), ('разрывать', 5793), ('обьект', 5794), ('спроектировать', 5795), ('ревматолог', 5796), ('гонять', 5797), ('бахилы', 5798), ('ник', 5799), ('левин', 5800), ('засохлый', 5801), ('холя', 5802), ('рссмотрение', 5803), ('фармколедж', 5804), ('узенький', 5805), ('выбежать', 5806), ('кронштейнер', 5807), ('детски', 5808), ('толский', 5809), ('раскапывать', 5810), ('катакомба', 5811), ('докосить', 5812), ('данной', 5813), ('маа', 5814), ('сх', 5815), ('оо', 5816), ('опель', 5817), ('астр', 5818), ('нс', 5819), ('щиколотка', 5820), ('вышестоющий', 5821), ('щебёночный', 5822), ('слепой', 5823), ('прблема', 5824), ('восемь', 5825), ('рождественский', 5826), ('поклон', 5827), ('батюшка', 5828), ('прорубь', 5829), ('окунаться', 5830), ('крещение', 5831), ('гридино', 5832), ('безразличный', 5833), ('аптечный', 5834), ('ветклиника', 5835), ('целесообразность', 5836), ('мц', 5837), ('эпилмедсервис', 5838), ('агапов', 5839), ('устав', 5840), ('арендатор', 5841), ('управляться', 5842), ('предусматриваться', 5843), ('базовый', 5844), ('пп', 5845), ('инфракрасный', 5846), ('термометр', 5847), ('малышев', 5848), ('добролюбов', 5849), ('следование', 5850), ('сокращение', 5851), ('мкрн', 5852), ('мачта', 5853), ('порог', 5854), ('ведение', 5855), ('уют', 5856), ('добны', 5857), ('вырубать', 5858), ('проблемотичный', 5859), ('приклонный', 5860), ('метель', 5861), ('носиться', 5862), ('симбикорт', 5863), ('сентябрьский', 5864), ('гавкать', 5865), ('юность', 5866), ('весеть', 5867), ('счастливо', 5868), ('надрюый', 5869), ('сданий', 5870), ('мокрый', 5871), ('совещание', 5872), ('морозный', 5873), ('ккпп', 5874), ('наполняться', 5875), ('лавировать', 5876), ('встречка', 5877), ('невредимый', 5878), ('отрезка', 5879), ('истекший', 5880), ('шоколад', 5881), ('фирма', 5882), ('альпена', 5883), ('гольд', 5884), ('употребление', 5885), ('отравление', 5886), ('францев', 5887), ('нелли', 5888), ('притензия', 5889), ('поселковый', 5890), ('куб', 5891), ('нецелесообразный', 5892), ('полметра', 5893), ('тонуть', 5894), ('фгб', 5895), ('марьино', 5896), ('цыбин', 5897), ('технологический', 5898), ('снегоочистка', 5899), ('поюлозиля', 5900), ('неудаться', 5901), ('бросидлить', 5902), ('расселить', 5903), ('обитать', 5904), ('резерв', 5905), ('наболевшее', 5906), ('неудовлетворительно', 5907), ('темень', 5908), ('убиться', 5909), ('свиридов', 5910), ('постамент', 5911), ('облицовочный', 5912), ('отрыть', 5913), ('прокол', 5914), ('ордер', 5915), ('афальт', 5916), ('шаблон', 5917), ('шаблонный', 5918), ('эко', 5919), ('пресечение', 5920), ('вч', 5921), ('ненакать', 5922), ('выгодно', 5923), ('подробность', 5924), ('распространять', 5925), ('заведомо', 5926), ('ложный', 5927), ('отслоиться', 5928), ('окн', 5929), ('устремить', 5930), ('будущий', 5931), ('обьявленный', 5932), ('тратяться', 5933), ('боснословный', 5934), ('подьехать', 5935), ('подарить', 5936), ('копить', 5937), ('коьорый', 5938), ('заодно', 5939), ('цифра', 5940), ('уплыть', 5941), ('разваливаться', 5942), ('выпилина', 5943), ('заглянуть', 5944), ('тратуарна', 5945), ('цветовский', 5946), ('аккумулятор', 5947), ('издание', 5948), ('пг', 5949), ('детскпить', 5950), ('шкоо', 5951), ('милена', 5952), ('арин', 5953), ('игоревич', 5954), ('платиться', 5955), ('пристав', 5956), ('нуль', 5957), ('неточность', 5958), ('хол', 5959), ('лужайка', 5960), ('впереди', 5961), ('урочище', 5962), ('обрушаться', 5963), ('размываться', 5964), ('почва', 5965), ('противоэрозионный', 5966), ('типография', 5967), ('техинвест', 5968), ('особенность', 5969), ('распивать', 5970), ('напиток', 5971), ('мэбик', 5972), ('облицовка', 5973), ('шлагбаум', 5974), ('сжигание', 5975), ('проветривание', 5976), ('дрон', 5977), ('перевесилма', 5978), ('горсвета', 5979), ('шквальный', 5980), ('неравномерно', 5981), ('помять', 5982), ('облупить', 5983), ('выдержать', 5984), ('взаимодействие', 5985), ('прихрдиться', 5986), ('излюбить', 5987), ('сладость', 5988), ('слёзно', 5989), ('трояново', 5990), ('посыпка', 5991), ('вополнять', 5992), ('дощечка', 5993), ('травмироваться', 5994), ('матрац', 5995), ('периодически', 5996), ('съезжать', 5997), ('прямиком', 5998), ('ковать', 5999), ('карета', 6000), ('увезти', 6001), ('предлог', 6002), ('гмц', 6003), ('липкнехт', 6004), ('взиматься', 6005), ('внутредомов', 6006), ('горняк', 6007), ('аномальный', 6008), ('фгубз', 6009), ('фмба', 6010), ('медико', 6011), ('вакцинирование', 6012), ('рркоссовский', 6013), ('направлееий', 6014), ('продвигаться', 6015), ('выстоять', 6016), ('направиться', 6017), ('опоздать', 6018), ('задействовать', 6019), ('лир', 6020), ('разруха', 6021), ('стёртый', 6022), ('растрачиваться', 6023), ('обогревание', 6024), ('искривиться', 6025), ('каблук', 6026), ('загреметь', 6027), ('пострадать', 6028), ('домк', 6029), ('расширяться', 6030), ('триллер', 6031), ('мистический', 6032), ('ужасник', 6033), ('парапет', 6034), ('сляпать', 6035), ('колдобина', 6036), ('страдание', 6037), ('радишева', 6038), ('откладываться', 6039), ('выплатить', 6040), ('накопить', 6041), ('невмешательство', 6042), ('глухой', 6043), ('неактуальный', 6044), ('рама', 6045), ('присыпать', 6046), ('соскользнуть', 6047), ('скользкость', 6048), ('снежно', 6049), ('химический', 6050), ('гарь', 6051), ('подозревать', 6052), ('переработка', 6053), ('свинцовый', 6054), ('прочертить', 6055), ('завоздушенность', 6056), ('радиатор', 6057), ('вырываться', 6058), ('теплопотеря', 6059), ('утечка', 6060), ('минуточка', 6061), ('разряд', 6062), ('свеча', 6063), ('противовирусный', 6064), ('жаропонижающий', 6065), ('сосудосудивать', 6066), ('мальтофер', 6067), ('гемоглобин', 6068), ('ибупрофный', 6069), ('мастах', 6070), ('переноситься', 6071), ('конкретика', 6072), ('совпасть', 6073), ('непродолжительный', 6074), ('островок', 6075), ('турник', 6076), ('своеобразный', 6077), ('экологически', 6078), ('каркас', 6079), ('улучшать', 6080), ('правильность', 6081), ('содержать', 6082), ('арка', 6083), ('ржавчина', 6084), ('освящение', 6085), ('году', 6086), ('отброс', 6087), ('подавно', 6088), ('отсева', 6089), ('ходовой', 6090), ('глотать', 6091), ('раиса', 6092), ('штоц', 6093), ('стыковочный', 6094), ('пробоинамт', 6095), ('солнцнвскрма', 6096), ('ясность', 6097), ('колонна', 6098), ('бардюр', 6099), ('красть', 6100), ('жадность', 6101), ('стремление', 6102), ('нажива', 6103), ('беговой', 6104), ('изгадить', 6105), ('плюнуть', 6106), ('вмешательство', 6107), ('зваться', 6108), ('барьер', 6109), ('стороны￼', 6110), ('дёмин', 6111), ('чем', 6112), ('ковш', 6113), ('внутриквартальный', 6114), ('рекультивировать', 6115), ('чаплыгин', 6116), ('закладывать', 6117), ('прочистить', 6118), ('подъезде№', 6119), ('жилищникнуть', 6120), ('предстоящий', 6121), ('досягаемость', 6122), ('мск', 6123), ('централизовать', 6124), ('ти', 6125), ('сознательно', 6126), ('саботировать', 6127), ('дестабилизация', 6128), ('напряжённость', 6129), ('апротив', 6130), ('дед', 6131), ('луговка', 6132), ('вездеход', 6133), ('трактор', 6134), ('выравнять', 6135), ('издавать', 6136), ('окружающие', 6137), ('протяженить', 6138), ('травяной', 6139), ('тянуться', 6140), ('подмыв', 6141), ('ресурсоснабжающий', 6142), ('сопряжение', 6143), ('фитинг', 6144), ('газооборудование', 6145), ('техподполье', 6146), ('щемиловка', 6147), ('сломон', 6148), ('посчастливиться', 6149), ('уточнение', 6150), ('междугородний', 6151), ('запасный', 6152), ('редова', 6153), ('перепланировать', 6154), ('теснота', 6155), ('поход', 6156), ('успевпать', 6157), ('ядерный', 6158), ('держава', 6159), ('оригинально', 6160), ('⅓', 6161), ('нетерпение', 6162), ('плоский', 6163), ('⅔', 6164), ('снижаться', 6165), ('сниматься', 6166), ('четверо', 6167), ('госномер', 6168), ('рр', 6169), ('постоять', 6170), ('слесарь', 6171), ('обвинять', 6172), ('запросто', 6173), ('альтернатива', 6174), ('беременная', 6175), ('встречаться', 6176), ('окошко', 6177), ('лазеротерапия', 6178), ('отит', 6179), ('небулайзер', 6180), ('лозина', 6181), ('кочетовский', 6182), ('генпрокуратура', 6183), ('преступность', 6184), ('кремль', 6185), ('епархия', 6186), ('останавливать', 6187), ('дефицит', 6188), ('юридически', 6189), ('подковать', 6190), ('бетать', 6191), ('перепрыгнуть', 6192), ('убежать', 6193), ('раскисать', 6194), ('хан', 6195), ('высыпание', 6196), ('перемешать', 6197), ('умолять', 6198), ('теннис', 6199), ('валить', 6200), ('настаивать', 6201), ('принудить', 6202), ('фотофиксация', 6203), ('линза', 6204), ('высоко', 6205), ('суток', 6206), ('травмировались', 6207), ('придел', 6208), ('функционально', 6209), ('сеанс', 6210), ('целесообразный', 6211), ('одеть', 6212), ('обуть', 6213), ('квест', 6214), ('воспринять', 6215), ('ограничиться', 6216), ('мягкий', 6217), ('общепит', 6218), ('фитнес', 6219), ('развлечение', 6220), ('родионов', 6221), ('кораблик', 6222), ('больно', 6223), ('слегка', 6224), ('угодный', 6225), ('свалиться', 6226), ('снизу', 6227), ('сравнимый', 6228), ('высыпаться', 6229), ('шпатлёвка', 6230), ('роды', 6231), ('малообеспеченный', 6232), ('агафонов', 6233), ('ирина', 6234), ('рахманович', 6235), ('чаша', 6236), ('тина', 6237), ('пожизненный', 6238), ('кгм', 6239), ('цыганя', 6240), ('маргинал', 6241), ('всевозможный', 6242), ('простираться', 6243), ('подьеза', 6244), ('поменяться', 6245), ('ухудшаться', 6246), ('драма', 6247), ('несанционировать', 6248), ('уборщик', 6249), ('занесëнном', 6250), ('перебежать', 6251), ('компетентный', 6252), ('бугров', 6253), ('разгружать', 6254), ('кинема', 6255), ('болячка', 6256), ('опс', 6257), ('подложить', 6258), ('наочный', 6259), ('иногородний', 6260), ('контактиповать', 6261), ('заражать', 6262), ('трц', 6263), ('распростоанять', 6264), ('заражаться', 6265), ('конарев', 6266), ('сбиваться', 6267), ('схватка', 6268), ('скуление', 6269), ('ибо', 6270), ('гнездо', 6271), ('автодромном', 6272), ('чс', 6273), ('травмирование', 6274), ('локально', 6275), ('централизованный', 6276), ('комуникация', 6277), ('ворюга', 6278), ('ленивый', 6279), ('жопа', 6280), ('коровкина', 6281), ('нагреть', 6282), ('обнаруживаться', 6283), ('личинка', 6284), ('морить', 6285), ('несвоевременный', 6286), ('проникать', 6287), ('бориться', 6288), ('обитание', 6289), ('стучаться', 6290), ('облагоустроить', 6291), ('выгуливаться', 6292), ('порекомендовать', 6293), ('гаражец', 6294), ('медведица', 6295), ('зерновой', 6296), ('сельхозтехника', 6297), ('куба', 6298), ('оборванный', 6299), ('отдыхета', 6300), ('непростой', 6301), ('поколено', 6302), ('предупредить', 6303), ('служебный', 6304), ('пушкинский', 6305), ('микки', 6306), ('маус', 6307), ('приближённость', 6308), ('условный', 6309), ('курильщик', 6310), ('курящий', 6311), ('нелюди', 6312), ('загрящнять', 6313), ('шашлычный', 6314), ('хт', 6315), ('пыльно', 6316), ('доставка', 6317), ('фрезерат', 6318), ('авторынок', 6319), ('поликлинический', 6320), ('старость', 6321), ('кафельный', 6322), ('слабовидища', 6323), ('экономить', 6324), ('корид', 6325), ('прибывание', 6326), ('выстроить', 6327), ('север', 6328), ('статуя', 6329), ('плиточка', 6330), ('петь', 6331), ('сть', 6332), ('дреннажный', 6333), ('луга', 6334), ('побрызгать', 6335), ('гимназия', 6336), ('безвозмездно', 6337), ('штуй', 6338), ('провожать', 6339), ('рычать', 6340), ('следом', 6341), ('испугаться', 6342), ('перечисленный', 6343), ('посбивать', 6344), ('пробивать', 6345), ('хозяйственно', 6346), ('производственный', 6347), ('слесарить', 6348), ('работодатель', 6349), ('фсс', 6350), ('монтажный', 6351), ('машинка', 6352), ('атмосфера', 6353), ('теплопнукт', 6354), ('вибрация', 6355), ('сквозной', 6356), ('авторитетный', 6357), ('выездной', 6358), ('искомый', 6359), ('комиссионо', 6360), ('масштаб', 6361), ('передача', 6362), ('ограждёние', 6363), ('начально', 6364), ('однина', 6365), ('багаж', 6366), ('кладь', 6367), ('лыжа', 6368), ('чехол', 6369), ('санки', 6370), ('коляску', 6371), ('расскаживать', 6372), ('сбиться', 6373), ('вынужденный', 6374), ('попутный', 6375), ('безбилетник', 6376), ('должы', 6377), ('стоячий', 6378), ('рг', 6379), ('подьезжать', 6380), ('прокуратор', 6381), ('зерновые', 6382), ('спецавтотранспорт', 6383), ('транспортировка', 6384), ('любитель', 6385), ('соревноваться', 6386), ('ограничивающить', 6387), ('перегородка', 6388), ('снежинка', 6389), ('кость', 6390), ('стастуться', 6391), ('апельсин', 6392), ('гуляние', 6393), ('дебош', 6394), ('асоциальный', 6395), ('заселение', 6396), ('батов', 6397), ('криминагенный', 6398), ('ознакомиться', 6399), ('зиборовый', 6400), ('регламентироваться', 6401), ('колл', 6402), ('просидеть', 6403), ('мужчина', 6404), ('вступать', 6405), ('канцелярия', 6406), ('находка', 6407), ('всетаки', 6408), ('вступить', 6409), ('публикование', 6410), ('покивать', 6411), ('местонахождение', 6412), ('обслуживающегр', 6413), ('отрицать', 6414), ('слететь', 6415), ('петрина', 6416), ('опить', 6417), ('свалить', 6418), ('поджог', 6419), ('поесть', 6420), ('подложка', 6421), ('белостоцкий', 6422), ('еженедельный', 6423), ('планёрка', 6424), ('чумаков', 6425), ('ливнёк', 6426), ('ый', 6427), ('оттаять', 6428), ('непрекращающийся', 6429), ('разбрасывать', 6430), ('сельскохозяйственный', 6431), ('переезжать', 6432), ('вожный', 6433), ('парковать', 6434), ('белов', 6435), ('правление', 6436), ('алексеевка', 6437), ('ревакцинироваться', 6438), ('медицина', 6439), ('западник', 6440), ('убивать', 6441), ('пнуть', 6442), ('теория', 6443), ('ударный', 6444), ('меж', 6445), ('нина', 6446), ('ильич', 6447), ('комнатный', 6448), ('чеченский', 6449), ('кампания', 6450), ('заселиться', 6451), ('расселение', 6452), ('переадресовать', 6453), ('смотрели', 6454), ('ь', 6455), ('чиновница', 6456), ('выселить', 6457), ('наём', 6458), ('питать', 6459), ('мокнуть', 6460), ('девяностый', 6461), ('хранилище', 6462), ('бокс', 6463), ('погреб', 6464), ('пустота', 6465), ('шлакоблок', 6466), ('буквальный', 6467), ('гончаров', 6468), ('кутепов', 6469), ('лубенцев', 6470), ('столичный', 6471), ('запчасть', 6472), ('неэксплуатирующий', 6473), ('мттч', 6474), ('выпустить', 6475), ('дляуменьшение', 6476), ('копысова', 6477), ('вн', 6478), ('вмещать', 6479), ('шатохин', 6480), ('гоуслуга', 6481), ('выпуск', 6482), ('провалить', 6483), ('выаоз', 6484), ('брак', 6485), ('базироваться', 6486), ('профильный', 6487), ('орлёнок', 6488), ('испытание', 6489), ('тяжко', 6490), ('полюбить', 6491), ('педагогический', 6492), ('оц', 6493), ('монолит', 6494), ('лагер', 6495), ('разъезжаться', 6496), ('билл', 6497), ('хий', 6498), ('гарантийный', 6499), ('изолятор', 6500), ('перехлёст', 6501), ('бригада', 6502), ('перезапускать', 6503), ('пожимать', 6504), ('дружининский', 6505), ('алит', 6506), ('рышковский', 6507), ('тольклый', 6508), ('нисего', 6509), ('делиться', 6510), ('визуально', 6511), ('светло', 6512), ('нах', 6513), ('задуматься', 6514), ('перепахивание', 6515), ('докладывать', 6516), ('осуиствие', 6517), ('счто', 6518), ('слышный', 6519), ('гул', 6520), ('пожаробезопасность', 6521), ('излучение', 6522), ('недоделать', 6523), ('ого', 6524), ('ориентир', 6525), ('водоразборный', 6526), ('обпилить', 6527), ('вдальнейший', 6528), ('присоединиться', 6529), ('многоэтажка', 6530), ('намеренно', 6531), ('чётко', 6532), ('рельеф', 6533), ('рэводитель', 6534), ('предостеречь', 6535), ('оставление', 6536), ('преодоление', 6537), ('провер', 6538), ('бисопролоть', 6539), ('банально', 6540), ('купать', 6541), ('прянять', 6542), ('дождичек', 6543), ('подъезжать', 6544), ('усугублять', 6545), ('выброс', 6546), ('обкромсать', 6547), ('соприкосаться', 6548), ('авсадить', 6549), ('голосовать', 6550), ('проконтррлировать', 6551), ('компетентность', 6552), ('дальнеший', 6553), ('профессия', 6554), ('невысыхающий', 6555), ('мм', 6556), ('загрязнить', 6557), ('преимущественно', 6558), ('продолжительность', 6559), ('возвести', 6560), ('замениться', 6561), ('привестись', 6562), ('культурно', 6563), ('информативный', 6564), ('выкинуть', 6565), ('мусорока', 6566), ('иформирование', 6567), ('скрадировать', 6568), ('отвести', 6569), ('водонепроницаемый', 6570), ('обваловкий', 6571), ('наноситься', 6572), ('свозить', 6573), ('ужастной', 6574), ('греметь', 6575), ('битком', 6576), ('предприниматель', 6577), ('устаревший', 6578), ('модельный', 6579), ('диагностика', 6580), ('выявление', 6581), ('пофига', 6582), ('барабан', 6583), ('балаган', 6584), ('разгар', 6585), ('благоразумие', 6586), ('продублировать', 6587), ('уклониться', 6588), ('перепланировка', 6589), ('задумка', 6590), ('доконец', 6591), ('чуткий', 6592), ('карниз', 6593), ('отслаиваться', 6594), ('увлажнение', 6595), ('арбитражный', 6596), ('апелляционный', 6597), ('настолб', 6598), ('неделить', 6599), ('вакцинированние', 6600), ('плошадка', 6601), ('прославиться', 6602), ('сугровый', 6603), ('тепловоз', 6604), ('запечатлеть', 6605), ('грясти', 6606), ('верно', 6607), ('встречать', 6608), ('лебедь', 6609), ('цветочек', 6610), ('бесконечный', 6611), ('нагромождение', 6612), ('парочка', 6613), ('свих', 6614), ('сумка', 6615), ('урожай', 6616), ('сообщество', 6617), ('звучать', 6618), ('взнос', 6619), ('информационно', 6620), ('премьер', 6621), ('медведев', 6622), ('некоммерческий', 6623), ('премьера', 6624), ('угостить', 6625), ('яблоко', 6626), ('трата', 6627), ('финансово', 6628), ('кворум', 6629), ('переизбрать', 6630), ('общероссийский', 6631), ('союз', 6632), ('садовод', 6633), ('юридический', 6634), ('инициировать', 6635), ('мтс', 6636), ('кузнецов', 6637), ('василиевич', 6638), ('кишеть', 6639), ('непереносимый', 6640), ('рычаг', 6641), ('реагирование', 6642), ('компьютер', 6643), ('обещаться', 6644), ('госзакупка', 6645), ('коноплянка', 6646), ('исполнить', 6647), ('заложить', 6648), ('подъездгый', 6649), ('адмистрация', 6650), ('вразумительный', 6651), ('фронт', 6652), ('покататбиться', 6653), ('подвернуть', 6654), ('перенасышение', 6655), ('высказать', 6656), ('росприроднадзор', 6657), ('сэс', 6658), ('распрастранение', 6659), ('ковалёв', 6660), ('лариса', 6661), ('светрфора', 6662), ('проспечь', 6663), ('кажды', 6664), ('эффект', 6665), ('возыметь', 6666), ('узел', 6667), ('поставка', 6668), ('недопоставка', 6669), ('употребить', 6670), ('левашов', 6671), ('булатов', 6672), ('мнимание', 6673), ('прощадка', 6674), ('теряться', 6675), ('перестановка', 6676), ('реальность', 6677), ('трапеза', 6678), ('переодичёска', 6679), ('отпугиватель', 6680), ('дистанция', 6681), ('многоразовый', 6682), ('раздача', 6683), ('воздушнокапельный', 6684), ('дико', 6685), ('срезаться', 6686), ('лиаза', 6687), ('даром', 6688), ('мегагрин', 6689), ('аргумент', 6690), ('выдвигаться', 6691), ('иск', 6692), ('вон', 6693), ('усиление', 6694), ('приграничный', 6695), ('ульяновский', 6696), ('номинально', 6697), ('отличиться', 6698), ('сваливать', 6699), ('друга', 6700), ('занимаемся', 6701), ('гололед', 6702), ('лещиновка', 6703), ('бездейстаовать', 6704), ('вино', 6705), ('задать', 6706), ('сжигаться', 6707), ('девать', 6708), ('насобирать', 6709), ('важно', 6710), ('заключать', 6711), ('тупо', 6712), ('запитать', 6713), ('притянуть', 6714), ('клавиша', 6715), ('тролза', 6716), ('мегаполис', 6717), ('зиу', 6718), ('перекрашивать', 6719), ('апока', 6720), ('пмс', 6721), ('сучковый', 6722), ('идажа', 6723), ('побережье', 6724), ('пригнать', 6725), ('измельчение', 6726), ('вечернии', 6727), ('воспитываться', 6728), ('эпилепсия', 6729), ('непрерывный', 6730), ('противоэпелептический', 6731), ('депакин', 6732), ('хроносфера', 6733), ('гранула', 6734), ('переписывать', 6735), ('препрата', 6736), ('предположить', 6737), ('мармыжа', 6738), ('душный', 6739), ('колпный', 6740), ('ливны', 6741), ('кукольный', 6742), ('двигательный', 6743), ('нейрон', 6744), ('лечь', 6745), ('просрочиться', 6746), ('нев', 6747), ('происхождение', 6748), ('месторасположение', 6749), ('локомотивный', 6750), ('сортировочный', 6751), ('речушка', 6752), ('мазут', 6753), ('паром', 6754), ('проплыть', 6755), ('гю', 6756), ('по\\u200b', 6757), ('жильцов\\u200b', 6758), ('хсторонний', 6759), ('дератизация', 6760), ('шаговый', 6761), ('кабельный', 6762), ('сообсема', 6763), ('ружнуть', 6764), ('горизонтальный', 6765), ('распространяться', 6766), ('токсичный', 6767), ('аромат', 6768), ('гла', 6769), ('зовый', 6770), ('благородный', 6771), ('сбросить', 6772), ('оградка', 6773), ('опилка', 6774), ('прыгать', 6775), ('разворотный', 6776), ('придерживаться', 6777), ('распороть', 6778), ('ладошка', 6779), ('паутинка', 6780), ('шк', 6781), ('твариться', 6782), ('пучкова', 6783), ('присмерть', 6784), ('крупно', 6785), ('повезти', 6786), ('нетолько', 6787), ('наживаться', 6788), ('обеспечта', 6789), ('спихивать', 6790), ('койкий', 6791), ('выпускать', 6792), ('фотоссесия', 6793), ('фотооператор', 6794), ('съёмка', 6795), ('повадиться', 6796), ('заправляться', 6797), ('заправлять', 6798), ('цистерна', 6799), ('миллионер', 6800), ('аогть', 6801), ('десятый', 6802), ('удостовериться', 6803), ('анисимов', 6804), ('\\u200b\\u200b\\u200b\\u200b\\u200b\\u200b\\u200bиюнь', 6805), ('мурашов', 6806), ('участница', 6807), ('уплата', 6808), ('кредит', 6809), ('подпрограмма', 6810), ('щепкина', 6811), ('стартовать', 6812), ('программы', 6813), ('фумлента', 6814), ('пакля', 6815), ('силикон', 6816), ('понюхать', 6817), ('донести', 6818), ('помощи', 6819), ('содержаться', 6820), ('зарослях', 6821), ('пожарка', 6822), ('ооочень', 6823), ('верить', 6824), ('нисколько', 6825), ('улучшиться', 6826), ('почнм', 6827), ('настроить', 6828), ('гостинец', 6829), ('с•', 6830), ('повторять', 6831), ('солнце', 6832), ('обыкновенный', 6833), ('автосервис', 6834), ('переоформить', 6835), ('узнавать', 6836), ('переоформлять', 6837), ('начислить', 6838), ('тихонкова', 6839), ('эдуардович', 6840), ('полосатый', 6841), ('ленточка', 6842), ('имитировать', 6843), ('балансовый', 6844), ('принадлежность', 6845), ('перегораживать', 6846), ('физкультурный', 6847), ('оздоровительный', 6848), ('радостный', 6849), ('загнивать', 6850), ('неухоженый', 6851), ('радоваться', 6852), ('радость', 6853), ('недолго', 6854), ('инкогнито', 6855), ('википедия', 6856), ('фок', 6857), ('талантливый', 6858), ('физически', 6859), ('тренироваться', 6860), ('волжанский', 6861), ('спорить', 6862), ('спортплощадка', 6863), ('сторт', 6864), ('стройплощадка', 6865), ('любо', 6866), ('голование', 6867), ('слушание', 6868), ('постенно', 6869), ('пересылать', 6870), ('переправа', 6871), ('кривец', 6872), ('переправляться', 6873), ('мото', 6874), ('мотоцикл', 6875), ('квадроцикл', 6876), ('склизкий', 6877), ('участное', 6878), ('выцвелый', 6879), ('акция', 6880), ('деревце', 6881), ('едс', 6882), ('желаемый', 6883), ('бегучев', 6884), ('ка', 6885), ('моно', 6886), ('обрасти', 6887), ('двухуровневый', 6888), ('чахлый', 6889), ('барский', 6890), ('у́ж', 6891), ('звк', 6892), ('солнцево', 6893), ('бомбёжка', 6894), ('акциз', 6895), ('отпугнуть', 6896), ('испуг', 6897), ('непролазный', 6898), ('лукойл', 6899), ('проблемный', 6900), ('тога', 6901), ('берегово', 6902), ('вкл', 6903), ('выклый', 6904), ('среднесуточный', 6905), ('осложнять', 6906), ('аспект', 6907), ('быт', 6908), ('снабжаться', 6909), ('обозрение', 6910), ('ведомость', 6911), ('надлежаший', 6912), ('картинный', 6913), ('посветить', 6914), ('пожалуста', 6915), ('обрашаться', 6916), ('внутрь', 6917), ('птичий', 6918), ('биотуалет', 6919), ('ориентировать', 6920), ('целенаправленно', 6921), ('реагент', 6922), ('слить', 6923), ('нечеловечески', 6924), ('курчковать', 6925), ('секачева', 6926), ('желудок', 6927), ('втечь', 6928), ('секачёв', 6929), ('авитор', 6930), ('кольцевой', 6931), ('клеить', 6932), ('опорв', 6933), ('вскоре', 6934), ('жнвлп', 6935), ('производитель', 6936), ('зао', 6937), ('биокад', 6938), ('изготовитель', 6939), ('неэффективность', 6940), ('бусов', 6941), ('отследить', 6942), ('моб', 6943), ('выручка', 6944), ('герцен', 6945), ('триумф', 6946), ('домма', 6947), ('липовый', 6948), ('фитнесса', 6949), ('трио', 6950), ('катание', 6951), ('ролик', 6952), ('неминуемо', 6953), ('усилить', 6954), ('экипаж', 6955), ('чайковский', 6956), ('токарев', 6957), ('анне', 6958), ('проявляться', 6959), ('харченко', 6960), ('шикарев', 6961), ('сосудистый', 6962), ('кононовирусный', 6963), ('перегореть', 6964), ('регламент', 6965), ('каков', 6966), ('изумление', 6967), ('прикрепление', 6968), ('обосновать', 6969), ('осушествляться', 6970), ('полимер', 6971), ('упустить', 6972), ('пробыть', 6973), ('электротранспорт', 6974), ('испечься', 6975), ('электробус', 6976), ('слабо', 6977), ('застроить', 6978), ('неасфальтировать', 6979), ('дроблёный', 6980), ('многомесячный', 6981), ('взаимовыгодный', 6982), ('эффективный', 6983), ('ровесник', 6984), ('скейт', 6985), ('вывешить', 6986), ('знакомство', 6987), ('электрик', 6988), ('ипподромный', 6989), ('вкладываться', 6990), ('коло', 6991), ('топамакс', 6992), ('ламотриджина', 6993), ('достаток', 6994), ('бекасов', 6995), ('фидералка', 6996), ('вначале', 6997), ('опасть', 6998), ('поработать', 6999), ('подогнать', 7000), ('лок', 7001), ('творить', 7002), ('короновирус', 7003), ('выписаться', 7004), ('автоба', 7005), ('устареть', 7006), ('льговчан', 7007), ('метка', 7008), ('распространиться', 7009), ('травля', 7010), ('добегать', 7011), ('очевидец', 7012), ('сельхоз', 7013), ('родственница', 7014), ('небрать', 7015), ('грудь', 7016), ('флюр', 7017), ('полеклинник', 7018), ('пробывать', 7019), ('сный', 7020), ('прогрессировать', 7021), ('убеваета', 7022), ('перввха', 7023), ('абсолютный', 7024), ('светиться', 7025), ('вдали', 7026), ('поныри', 7027), ('экран', 7028), ('ахтырский', 7029), ('ым', 7030), ('выдерживать', 7031), ('критика', 7032), ('цветовый', 7033), ('селихов', 7034), ('расторгнуть', 7035), ('сезона', 7036), ('ич', 7037), ('парикмахерская', 7038), ('жихарев', 7039), ('калинин', 7040), ('реагирует', 7041), ('тупь', 7042), ('пневмония', 7043), ('колличество', 7044), ('миновать', 7045), ('вглубь', 7046), ('всяческий', 7047), ('достигнуть', 7048), ('захломление', 7049), ('человечески', 7050), ('самозахват', 7051), ('цепь', 7052), ('замок', 7053), ('выплачивать', 7054), ('диаметр', 7055), ('восстановительный', 7056), ('хлебный', 7057), ('гружёный', 7058), ('стабилизатор', 7059), ('показатель', 7060), ('горбачёв', 7061), ('андреевич', 7062), ('отчитаться', 7063), ('недополученный', 7064), ('плотник', 7065), ('вселиться', 7066), ('неврологический', 7067), ('унижение', 7068), ('восприниматься', 7069), ('лебяжий', 7070), ('сузиться', 7071), ('реверсивный', 7072), ('непокосить', 7073), ('решеёный', 7074), ('герметизация', 7075), ('рыхлый', 7076), ('подвижногосостав', 7077), ('подвижный', 7078), ('проехаться', 7079), ('покурить', 7080), ('справить', 7081), ('оборудованный', 7082), ('отличнын', 7083), ('туалетный', 7084), ('компат', 7085), ('берет', 7086), ('эрки', 7087), ('электропоезд', 7088), ('прочий', 7089), ('поджечь', 7090), ('гам', 7091), ('вак', 7092), ('кривая', 7093), ('коридорчик', 7094), ('куртеть', 7095), ('ха', 7096), ('держать', 7097), ('сидушка', 7098), ('колхоз', 7099), ('выжить', 7100), ('адо', 7101), ('циливизация', 7102), ('птсьменный', 7103), ('плоадка', 7104), ('разносчик', 7105), ('контейнеров', 7106), ('трогать', 7107), ('освобождать', 7108), ('неубрнный', 7109), ('дизенсекция', 7110), ('подьездный', 7111), ('перемешка', 7112), ('электро', 7113), ('выполнёный', 7114), ('клица', 7115), ('линиия', 7116), ('газан', 7117), ('знающий', 7118), ('торможение', 7119), ('дабы', 7120), ('болезненный', 7121), ('довести', 7122), ('инфаркт', 7123), ('визг', 7124), ('очищаться', 7125), ('обрушавшийся', 7126), ('подбросить', 7127), ('полколесо', 7128), ('погута', 7129), ('программный', 7130), ('орденоносец', 7131), ('одать', 7132), ('отплачивать', 7133), ('удица', 7134), ('целесообразно', 7135), ('полумера', 7136), ('макс', 7137), ('стоматолог', 7138), ('будищий', 7139), ('олех', 7140), ('посыпаться', 7141), ('коток', 7142), ('враг', 7143), ('стянуть', 7144), ('облачный', 7145), ('осмелиться', 7146), ('торговец', 7147), ('разогнать', 7148), ('оформленный', 7149), ('случайный', 7150), ('выливаться', 7151), ('дикость', 7152), ('мощный', 7153), ('недоставленный', 7154), ('крым', 7155), ('тридцать', 7156), ('обогнать', 7157), ('разойтись', 7158), ('псёл', 7159), ('бежать', 7160), ('законсервированна', 7161), ('территориальный', 7162), ('кодетский', 7163), ('училище', 7164), ('защитник', 7165), ('отечесть', 7166), ('рассаматривать', 7167), ('участнок', 7168), ('нанастя', 7169), ('называеять', 7170), ('зигзаг', 7171), ('понижение', 7172), ('минусовый', 7173), ('небрежно', 7174), ('оголить', 7175), ('подкидывать', 7176), ('некоторыей', 7177), ('вьезда', 7178), ('заправочный', 7179), ('сместиться', 7180), ('бытовка', 7181), ('выгуливать', 7182), ('явно', 7183), ('навмсаета', 7184), ('рядлма', 7185), ('разрешительный', 7186), ('завалина', 7187), ('единожды', 7188), ('приобретать', 7189), ('руковство', 7190), ('брехун', 7191), ('гавный', 7192), ('лёжа', 7193), ('вёдро', 7194), ('запищать', 7195), ('адекватный', 7196), ('шоссейный', 7197), ('минус', 7198), ('энергоэффективность', 7199), ('синоптик', 7200), ('рельсый', 7201), ('шпальный', 7202), ('теест', 7203), ('мойка', 7204), ('плош', 7205), ('ненавный', 7206), ('бордак', 7207), ('ёж', 7208), ('жильци', 7209), ('экотекс', 7210), ('наблюдиться', 7211), ('ввид', 7212), ('урология', 7213), ('мазка', 7214), ('заверить', 7215), ('рындина', 7216), ('лабаратория', 7217), ('уронить', 7218), ('пробирка', 7219), ('испортиться', 7220), ('уролог', 7221), ('передвинуть', 7222), ('мочеточник', 7223), ('операция', 7224), ('тянутый', 7225), ('экспресс', 7226), ('орать', 7227), ('асфальфаль', 7228), ('разбиратесь', 7229), ('мерить', 7230), ('потрогать', 7231), ('тепооузел', 7232), ('шир', 7233), ('введенский', 7234), ('подье', 7235), ('охранять', 7236), ('учереждение', 7237), ('удутый', 7238), ('кинуть', 7239), ('преподователь', 7240), ('учить', 7241), ('рушиться', 7242), ('откозали', 7243), ('сейчас', 7244), ('погосту￼', 7245), ('наклонить', 7246), ('акация', 7247), ('закрываться', 7248), ('треугольник', 7249), ('происшествие', 7250), ('распускание', 7251), ('плачевно', 7252), ('килька', 7253), ('ворон', 7254), ('питаться', 7255), ('раздавить', 7256), ('замедление', 7257), ('частенько', 7258), ('сохранение', 7259), ('проходимость', 7260), ('просыхать', 7261), ('сук', 7262), ('заврешаться', 7263), ('убраться', 7264), ('лесый', 7265), ('побелить', 7266), ('списание', 7267), ('педиатр', 7268), ('клининговый', 7269), ('зп', 7270), ('войков', 7271), ('мвд', 7272), ('шеховцов', 7273), ('римма', 7274), ('присвоение', 7275), ('почётный', 7276), ('звание', 7277), ('фермер', 7278), ('болдин', 7279), ('развести', 7280), ('иванчиковый', 7281), ('пуп', 7282), ('камышинский', 7283), ('несоответствовать', 7284), ('расторжение', 7285), ('грищенко', 7286), ('загородний', 7287), ('амелин', 7288), ('ангелина', 7289), ('уч', 7290), ('це', 7291), ('маш', 7292), ('поварачивать', 7293), ('подмывать', 7294), ('плацкарта', 7295), ('будеть', 7296), ('вверх', 7297), ('просыпаться', 7298), ('медик', 7299), ('толкать', 7300), ('выбраться', 7301), ('пешнходный', 7302), ('наклеивать', 7303), ('курскэнерготранс', 7304), ('смотреться', 7305), ('дубинин', 7306), ('дама', 7307), ('веник', 7308), ('производилма', 7309), ('обпоу', 7310), ('автотехнический', 7311), ('кура', 7312), ('корона', 7313), ('беспонтовыя', 7314), ('одногрупникнуть', 7315), ('заболее', 7316), ('выличиться', 7317), ('дистанционка', 7318), ('зтудент', 7319), ('незряж', 7320), ('вибиоать', 7321), ('неблагоприятно', 7322), ('сосулька', 7323), ('взаимопонимание', 7324), ('межа', 7325), ('засыхать', 7326), ('независимость', 7327), ('организационно', 7328), ('госстрой', 7329), ('мытьё', 7330), ('разливаться', 7331), ('добавка', 7332), ('свалкаа', 7333), ('взимание', 7334), ('отменный', 7335), ('воспитатель', 7336), ('игнорирование', 7337), ('копа', 7338), ('заварить', 7339), ('преграждать', 7340), ('приспосабливать', 7341), ('покинуть', 7342), ('справедливо', 7343), ('дошкольник', 7344), ('пожалеть', 7345), ('орви', 7346), ('венок', 7347), ('приличный', 7348), ('девятиэтажка', 7349), ('резьба', 7350), ('касать', 7351), ('подуть', 7352), ('тухнуть', 7353), ('титаренко', 7354), ('госжилинспекция', 7355), ('видио', 7356), ('истинный', 7357), ('неразрывно', 7358), ('самоустраниться', 7359), ('возмутительный', 7360), ('нюанс', 7361), ('тазик', 7362), ('ое', 7363), ('скородный', 7364), ('мучиться', 7365), ('скаляска', 7366), ('тротур', 7367), ('устанвитя', 7368), ('лиазов', 7369), ('хс', 7370), ('хх', 7371), ('ау', 7372), ('тугой', 7373), ('гамма', 7374), ('петренский', 7375), ('блин', 7376), ('таймер', 7377), ('дуновение', 7378), ('отбить', 7379), ('изготовить', 7380), ('соображалка', 7381), ('уснуть', 7382), ('помирать', 7383), ('университет', 7384), ('мачть', 7385), ('призидент', 7386), ('выздороветь', 7387), ('кола', 7388), ('отразиться', 7389), ('двойняшка', 7390), ('уфсин', 7391), ('подработка', 7392), ('няня', 7393), ('соображение', 7394), ('кредитование', 7395), ('прожить', 7396), ('полина', 7397), ('константин', 7398), ('устроиться', 7399), ('извещение', 7400), ('проседание', 7401), ('домавладение', 7402), ('безобразно', 7403), ('баклажка', 7404), ('привыкать', 7405), ('чапать', 7406), ('невнятный', 7407), ('насторожить', 7408), ('зря', 7409), ('насмешка', 7410), ('госдума', 7411), ('фрагмент', 7412), ('жарка', 7413), ('засушливый', 7414), ('утрата', 7415), ('ясенок', 7416), ('вывеска', 7417), ('проём', 7418), ('букс', 7419), ('неплохо', 7420), ('отодрать', 7421), ('инициатива', 7422), ('аллейный', 7423), ('фруктовый', 7424), ('неимоверно', 7425), ('усилиться', 7426), ('увязнуть', 7427), ('вызволить', 7428), ('утонуть', 7429), ('утилизировать', 7430), ('амбре', 7431), ('резать', 7432), ('повыситься', 7433), ('разлиться', 7434), ('местоположение', 7435), ('логика', 7436), ('визуализироваться', 7437), ('сигнальный', 7438), ('сориентировать', 7439), ('прецедент', 7440), ('заламывать', 7441), ('пополнение', 7442), ('бюджетник', 7443), ('ошибаться', 7444), ('исчезновение', 7445), ('таксист', 7446), ('толя', 7447), ('заработок', 7448), ('полезно', 7449), ('таксопарка', 7450), ('межрайонный', 7451), ('спрос', 7452), ('обоснование', 7453), ('взлетать', 7454), ('з', 7455), ('повышаться', 7456), ('разъезжать', 7457), ('опросник', 7458), ('обосновывать', 7459), ('лодочка', 7460), ('поломаться', 7461), ('подсвечивать', 7462), ('подведомственный', 7463), ('заказной', 7464), ('непосредстаенный', 7465), ('полиомиелит', 7466), ('пинсионёр', 7467), ('скандинавский', 7468), ('ходьба', 7469), ('коростеой', 7470), ('длинна', 7471), ('царить', 7472), ('необновляться', 7473), ('застреваел', 7474), ('невидный', 7475), ('ломаться', 7476), ('лидти', 7477), ('негабаритный', 7478), ('маневрировать', 7479), ('гарин', 7480), ('блок', 7481), ('доставлять', 7482), ('потеплеть', 7483), ('разбиться', 7484), ('облегчить', 7485), ('сторой', 7486), ('городстка', 7487), ('сказть', 7488), ('царь', 7489), ('горох', 7490), ('прорыть', 7491), ('высаживать', 7492), ('припорковаться', 7493), ('стараться', 7494), ('тракторка', 7495), ('поздняков', 7496), ('результатный', 7497), ('достигать', 7498), ('перенатальный', 7499), ('выкидыш', 7500), ('срыв', 7501), ('потратить', 7502), ('перепроверить', 7503), ('опц', 7504), ('разделиться', 7505), ('эндометриоидный', 7506), ('удалять', 7507), ('забеременеть', 7508), ('замуж', 7509), ('промолчать', 7510), ('высказывание', 7511), ('мелочь', 7512), ('гинекологический', 7513), ('шуточный', 7514), ('задаться', 7515), ('диктовать', 7516), ('миомочка', 7517), ('уверенность', 7518), ('таз', 7519), ('позвать', 7520), ('паника', 7521), ('пообщаться', 7522), ('подшучивать', 7523), ('сестра', 7524), ('перитонеальный', 7525), ('канцероматоз', 7526), ('дожить', 7527), ('ошарашить', 7528), ('приговор', 7529), ('онкогинеколог', 7530), ('эндометриозный', 7531), ('задавать', 7532), ('вракать', 7533), ('отличить', 7534), ('особенный', 7535), ('научить', 7536), ('дистант', 7537), ('возрастать', 7538), ('вставать', 7539), ('стирка', 7540), ('бельё', 7541), ('утилизироваться', 7542), ('резина', 7543), ('продувать', 7544), ('образовываться', 7545), ('умалчивать', 7546), ('массово', 7547), ('покинутый', 7548), ('вредить', 7549), ('прогреть', 7550), ('ресурс', 7551), ('гисжкх', 7552), ('строитель', 7553), ('отражаться', 7554), ('отслеживаться', 7555), ('содействовать', 7556), ('ходуном', 7557), ('прошол', 7558), ('расколоться', 7559), ('сорок', 7560), ('лодочный', 7561), ('искусственно', 7562), ('былой', 7563), ('поперёк', 7564), ('заиливание', 7565), ('пляжный', 7566), ('калонка', 7567), ('легко', 7568), ('присыпит', 7569), ('неосторожный', 7570), ('увечье', 7571), ('кололца', 7572), ('опломбировка', 7573), ('перерезать', 7574), ('банкрот', 7575), ('потребовать', 7576), ('новосковский', 7577), ('строн', 7578), ('буде', 7579), ('безопастный', 7580), ('ден', 7581), ('заделка', 7582), ('сдувать', 7583), ('амброксол', 7584), ('физраствор', 7585), ('беспокыть', 7586), ('пасовать', 7587), ('федералка', 7588), ('тапиромат', 7589), ('фармацевт', 7590), ('таить', 7591), ('щит', 7592), ('лидер', 7593), ('успевать', 7594), ('тормозить', 7595), ('октябоьский', 7596), ('черняховкий', 7597), ('стоян', 7598), ('откябрьский', 7599), ('проверяться', 7600), ('переехать', 7601), ('возгарания', 7602), ('лазарев', 7603), ('тявкать', 7604), ('лис', 7605), ('мирно', 7606), ('прогуливаться', 7607), ('чаща', 7608), ('добавлять', 7609), ('курстарника', 7610), ('разметить', 7611), ('многострадальный', 7612), ('пересекать', 7613), ('сдвигаться', 7614), ('обшить', 7615), ('керамический', 7616), ('шерекинский', 7617), ('яркий', 7618), ('рокоссковский', 7619), ('продезенфицировать', 7620), ('проводять', 7621), ('дезенфекция', 7622), ('преобретать', 7623), ('обзовесть', 7624), ('кассовый', 7625), ('аппарат', 7626), ('сносить', 7627), ('поливочный', 7628), ('ви', 7629), ('дны', 7630), ('костёр', 7631), ('боков', 7632), ('машинга', 7633), ('нрм', 7634), ('сунитиниб', 7635), ('сунитиб', 7636), ('жежеров', 7637), ('высылать', 7638), ('проследить', 7639), ('отпустить', 7640), ('жежер', 7641), ('автомастерская', 7642), ('гаражный', 7643), ('кооператив', 7644), ('отойти', 7645), ('одновременно', 7646), ('наклеивание', 7647), ('служащий', 7648), ('гад', 7649), ('распоряжаться', 7650), ('обрешётка', 7651), ('подделать', 7652), ('простоять', 7653), ('помидор', 7654), ('кипяток', 7655), ('прыскать', 7656), ('раздолбай', 7657), ('музыка', 7658), ('украсить', 7659), ('поверьте', 7660), ('поздравление', 7661), ('довезти', 7662), ('злополучный', 7663), ('грачевка', 7664), ('вина', 7665), ('вдуматься', 7666), ('фермерский', 7667), ('детально', 7668), ('навестись', 7669), ('кобасный', 7670), ('колбасный', 7671), ('скоропортящийся', 7672), ('усатновить', 7673), ('благодаря', 7674), ('протаптывать', 7675), ('потребоваться', 7676), ('систематически', 7677), ('окружение', 7678), ('слух', 7679), ('безуглов', 7680), ('жировый', 7681), ('брошюра', 7682), ('кандидат', 7683), ('вертикальный', 7684), ('диана', 7685), ('строка', 7686), ('нираз', 7687), ('датчик', 7688), ('транспортировочный', 7689), ('заглушка', 7690), ('обнаружение', 7691), ('стакан', 7692), ('разлагаться', 7693), ('выразить', 7694), ('красавица', 7695), ('новогодние', 7696), ('вахта', 7697), ('питание', 7698), ('произносить', 7699), ('нецензурный', 7700), ('сбрасываться', 7701), ('заремба', 7702), ('вячеслав', 7703), ('минздрав', 7704), ('инсулинозависить', 7705), ('подразумевать', 7706), ('колоться', 7707), ('сахар', 7708), ('одноразовый', 7709), ('рекомендоваться', 7710), ('липогипертрофия', 7711), ('таблетка', 7712), ('уколоть', 7713), ('витамин', 7714), ('долгосрочный', 7715), ('открыто', 7716), ('ларин', 7717), ('пашковский', 7718), ('попровть', 7719), ('присутствал', 7720), ('подключиться', 7721), ('присоединяться', 7722), ('стесняться', 7723), ('разгружаться', 7724), ('тутепровод', 7725), ('кулак', 7726), ('лепить', 7727), ('осаещение', 7728), ('рассетвиться', 7729), ('телеграм', 7730), ('ухтомского', 7731), ('витрина', 7732), ('неудобный', 7733), ('пери', 7734), ('натальный', 7735), ('непомыться', 7736), ('петров', 7737), ('сотворить', 7738), ('мракобесие', 7739), ('прицеп', 7740), ('сбавлять', 7741), ('отдохнуть', 7742), ('пугаться', 7743), ('лихач', 7744), ('проноситься', 7745), ('сломя', 7746), ('постоялый', 7747), ('отсутвовать', 7748), ('отвод', 7749), ('забиться', 7750), ('фанарей', 7751), ('выделяться', 7752), ('геолокация', 7753), ('отладить', 7754), ('введеный', 7755), ('расплатиться', 7756), ('банкнот', 7757), ('швырять', 7758), ('оправдывать', 7759), ('отапливиться', 7760), ('неотаплевать', 7761), ('автоматически', 7762), ('неотапливаться', 7763), ('похолодать', 7764), ('накладно', 7765), ('нехороший', 7766), ('колоссальный', 7767), ('\\u200b\\u200b\\u200b\\u200b\\u200b\\u200b\\u200bответ', 7768), ('сверчкова', 7769), ('аналогично', 7770), ('дорожать', 7771), ('навстречу', 7772), ('зеркало', 7773), ('тамбур', 7774), ('банкомат', 7775), ('втб', 7776), ('михайловский', 7777), ('рудник', 7778), ('цифровой', 7779), ('полянский', 7780), ('пименово', 7781), ('звук', 7782), ('затапливание', 7783), ('расролодить', 7784), ('электрощитовой', 7785), ('набухнуть', 7786), ('дежурный', 7787), ('видиля', 7788), ('перекрываться', 7789), ('безрезультатно', 7790), ('тесть', 7791), ('газпроммежрегионгаз', 7792), ('чулкова', 7793), ('невооружённый', 7794), ('проходянуть', 7795), ('вскрыть', 7796), ('кленовый', 7797), ('ёлочка', 7798), ('юрисдикция', 7799), ('городский', 7800), ('просимммммммм', 7801), ('цеплять', 7802), ('спиливать', 7803), ('поделать', 7804), ('подрасти', 7805), ('зврослый', 7806), ('броситься', 7807), ('соьаки', 7808), ('кгтпо', 7809), ('хрупкий', 7810), ('обламывание', 7811), ('освежение', 7812), ('предподъездный', 7813), ('осветительный', 7814), ('сырный', 7815), ('долина', 7816), ('каустиковый', 7817), ('сода', 7818), ('фильтрация', 7819), ('откуда', 7820), ('жир', 7821), ('калиновка', 7822), ('активист', 7823), ('кутеп', 7824), ('запугивать', 7825), ('тюремный', 7826), ('летальный', 7827), ('развиваться', 7828), ('головной', 7829), ('приступ', 7830), ('астма', 7831), ('целенаправить', 7832), ('жировой', 7833), ('плёнка', 7834), ('затягивать', 7835), ('отсюда', 7836), ('слива', 7837), ('соблюсти', 7838), ('осушить', 7839), ('заледенеть', 7840), ('удержаться', 7841), ('бузец', 7842), ('учредитель', 7843), ('ситниковый', 7844), ('мгерович', 7845), ('некрасов', 7846), ('рассылать', 7847), ('закидать', 7848), ('популярность', 7849), ('недалеко', 7850), ('урегулирование', 7851), ('уличкома', 7852), ('метеостанция', 7853), ('тамчишина', 7854), ('направленный', 7855), ('уведоление', 7856), ('напоминание', 7857), ('пенить', 7858), ('выкорчёвывание', 7859), ('планово', 7860), ('засореный', 7861), ('гадить', 7862), ('спилинный', 7863), ('дикоростущий', 7864), ('безумный', 7865), ('молодёжа', 7866), ('пополнить', 7867), ('погореть', 7868), ('эстедента', 7869), ('антисанитарийный', 7870), ('разодрать', 7871), ('извлечь', 7872), ('ифнс', 7873), ('республикаеский', 7874), ('рейт', 7875), ('фотка', 7876), ('разумеется', 7877), ('надеть', 7878), ('неприрывной', 7879), ('дляпотверждение', 7880), ('регулировка', 7881), ('одновременный', 7882), ('аба', 7883), ('битумный', 7884), ('попов', 7885), ('конструктивно', 7886), ('преодолевать', 7887), ('вброд', 7888), ('запад', 7889), ('запалить', 7890), ('пожарый', 7891), ('прдпринимать', 7892), ('ерыш', 7893), ('изолировать', 7894), ('бобринева', 7895), ('прихожая', 7896), ('следственный', 7897), ('всеквартира', 7898), ('директ', 7899), ('инстаграм', 7900), ('вылезти', 7901), ('тонна', 7902), ('леска', 7903), ('очистный', 7904), ('заваливаться', 7905), ('спланировать', 7906), ('заполняться', 7907), ('вмешаться', 7908), ('мышиный', 7909), ('какашка', 7910), ('перебираться', 7911), ('раздвоить', 7912), ('стук', 7913), ('сергеевкий', 7914), ('фап', 7915), ('сергеевский', 7916), ('фельдшерско', 7917), ('акушерский', 7918), ('фапе', 7919), ('улкарл', 7920), ('сельско', 7921), ('отделять', 7922), ('нашествие', 7923), ('предостережение', 7924), ('стрелецкий', 7925), ('ц', 7926), ('пэт', 7927), ('подметаться', 7928), ('сильый', 7929), ('перекрашиваться', 7930), ('мамлобаза', 7931), ('аккурат', 7932), ('крюк', 7933), ('заселённость', 7934), ('перемещение', 7935), ('телегин', 7936), ('улетать', 7937), ('кювета', 7938), ('прокопов', 7939), ('уверять', 7940), ('квард', 7941), ('булко', 7942), ('электрика', 7943), ('стандартный', 7944), ('исправимый', 7945), ('спотыкаться', 7946), ('залетать', 7947), ('подоконик', 7948), ('кондиционр', 7949), ('бамбук', 7950), ('клумбочка', 7951), ('ничей', 7952), ('туземец', 7953), ('узбиваться', 7954), ('пластика', 7955), ('роль', 7956), ('ставень', 7957), ('лопух', 7958), ('такая', 7959), ('подъезда', 7960), ('с', 7961), ('уу', 7962), ('серебристый', 7963), ('птиц', 7964), ('записка', 7965), ('хватает', 7966), ('переставить', 7967), ('одобрить', 7968), ('трудоспособный', 7969), ('пояснять', 7970), ('родиться', 7971), ('безработица', 7972), ('правота', 7973), ('тыл', 7974), ('инфоструктура', 7975), ('довно', 7976), ('аэроэкспресс', 7977), ('квадрат', 7978), ('малевич', 7979), ('парусный', 7980), ('предпосылка', 7981), ('насыщенный', 7982), ('существенно', 7983), ('свезти', 7984), ('фетовский', 7985), ('агрегатный', 7986), ('восток', 7987), ('химия', 7988), ('ттакж', 7989), ('контрольный', 7990), ('штрафной', 7991), ('санкция', 7992), ('засадить', 7993), ('отмомткать', 7994), ('прикрыться', 7995), ('скороса', 7996), ('совершение', 7997), ('ярыгин', 7998), ('зара', 7999), ('стабильно', 8000), ('сматывать', 8001), ('разравнять', 8002), ('глыба', 8003), ('выравнивать', 8004), ('собераета', 8005), ('промывка', 8006), ('трудопповод', 8007), ('вызодить', 8008), ('явка', 8009), ('наслышан', 8010), ('подделывать', 8011), ('захватывать', 8012), ('завизировать', 8013), ('законно', 8014), ('участь', 8015), ('рейдерский', 8016), ('добровольно', 8017), ('обманывать', 8018), ('курилка', 8019), ('стоит', 8020), ('писали', 8021), ('подслушать', 8022), ('горючий', 8023), ('смазочный', 8024), ('нельзя', 8025), ('писаренков', 8026), ('переписки', 8027), ('ругань', 8028), ('масло', 8029), ('эвакуационный', 8030), ('выходом', 8031), ('зачастую', 8032), ('радужный', 8033), ('двухсменный', 8034), ('фрукт', 8035), ('овощ', 8036), ('затоптать', 8037), ('леруа', 8038), ('пч№', 8039), ('оствещение', 8040), ('выкорчевание', 8041), ('пень', 8042), ('меремёжка', 8043), ('стрижка', 8044), ('облаивать', 8045), ('водопроводнить', 8046), ('многоквартимный', 8047), ('придомой', 8048), ('обёртка', 8049), ('бычков', 8050), ('раскладной', 8051), ('спровоцировать', 8052), ('незамедоительный', 8053), ('конноспортивный', 8054), ('прививать', 8055), ('вожак', 8056), ('всюду', 8057), ('толщина', 8058), ('покров', 8059), ('эвакуировать', 8060), ('пивко', 8061), ('попить', 8062), ('малолетка', 8063), ('поразбивать', 8064), ('водим', 8065), ('фонорать', 8066), ('коротко', 8067), ('израсходовать', 8068), ('зекуновый', 8069), ('лилия', 8070), ('реабилитационный', 8071), ('кодкб', 8072), ('трёхлетний', 8073), ('соматический', 8074), ('врождённый', 8075), ('электрофорез', 8076), ('массажист', 8077), ('раздеть', 8078), ('трус', 8079), ('согреть', 8080), ('сопля', 8081), ('лечиться', 8082), ('оповестить', 8083), ('увлекательный', 8084), ('повылезать', 8085), ('петарда', 8086), ('хлопушка', 8087), ('добро', 8088), ('шприцов', 8089), ('поедать', 8090), ('верх', 8091), ('солнечный', 8092), ('возиться', 8093), ('больгай', 8094), ('денежка', 8095), ('грести', 8096), ('здравстствовать', 8097), ('княжеский', 8098), ('ильинский', 8099), ('глинский', 8100), ('никольский', 8101), ('финансировать', 8102), ('дцп', 8103), ('разворачиваться', 8104), ('костюков', 8105), ('одуматься', 8106), ('отрываться', 8107), ('распределительный', 8108), ('щиток', 8109), ('мрск', 8110), ('вышка', 8111), ('предостаточно', 8112), ('юдовка', 8113), ('начислять', 8114), ('предшествовать', 8115), ('ущемление', 8116), ('косиновский', 8117), ('наладить', 8118), ('правомерность', 8119), ('осипенко', 8120), ('вагонный', 8121), ('огрождение', 8122), ('задыхаться', 8123), ('месячный', 8124), ('зведный', 8125), ('категорически', 8126), ('курскатомсбыт', 8127), ('плательщик', 8128), ('совмем', 8129), ('достроить', 8130), ('сдвинуться', 8131), ('неопределённый', 8132), ('перенаправление', 8133), ('фейковый', 8134), ('вывалиться', 8135), ('неадекватный', 8136), ('пресс', 8137), ('типо', 8138), ('пролом', 8139), ('урогана', 8140), ('исправность', 8141), ('рассуждать', 8142), ('бешенный', 8143), ('загородить', 8144), ('клыкава', 8145), ('обеденный', 8146), ('единовременно', 8147), ('суммарно', 8148), ('круглосуточный', 8149), ('поврездённый', 8150), ('погнутый', 8151), ('электроподстанция', 8152), ('разукомлектовать', 8153), ('распад', 8154), ('скамейка', 8155), ('протянуть', 8156), ('ориентировочно', 8157), ('фармация', 8158), ('талончик', 8159), ('казать', 8160), ('устаивать', 8161), ('растительносить', 8162), ('предверие', 8163), ('наступать', 8164), ('цао', 8165), ('посидеть', 8166), ('нелёля', 8167), ('проболеть', 8168), ('топиться', 8169), ('дружбый', 8170), ('отодвинуть', 8171), ('роллердр', 8172), ('турникет', 8173), ('поцарапать', 8174), ('обработать', 8175), ('россеть', 8176), ('отламываться', 8177), ('развестись', 8178), ('кинуться', 8179), ('отбиться', 8180), ('суджаавтотранс', 8181), ('щигор', 8182), ('разуметься', 8183), ('краснов', 8184), ('сатурация', 8185), ('дочьый', 8186), ('которогма', 8187), ('пожить', 8188), ('чтота', 8189), ('ливневкак', 8190), ('открепить', 8191), ('духовца', 8192), ('отрадный', 8193), ('полность', 8194), ('опастность', 8195), ('откликнуться', 8196), ('отклик', 8197), ('однотипный', 8198), ('давность', 8199), ('удерживать', 8200), ('раскачивание', 8201), ('незакреплённый', 8202), ('жёсткий', 8203), ('подвес', 8204), ('деформировать', 8205), ('сколоть', 8206), ('зазубрина', 8207), ('жск', 8208), ('неблагоустроенный', 8209), ('колючка', 8210), ('несанкционнировать', 8211), ('перенимать', 8212), ('опыт', 8213), ('путешествие', 8214), ('крупнотонажный', 8215), ('панелевоз', 8216), ('перевезти', 8217), ('шестнадцать', 8218), ('преследовать', 8219), ('коммерческий', 8220), ('разваливать', 8221), ('асфальтгий', 8222), ('сдесить', 8223), ('заявительный', 8224), ('заявлять', 8225), ('трон', 8226), ('тропический', 8227), ('пилить', 8228), ('некачечтвенный', 8229), ('воздушный', 8230), ('викторниколаевич', 8231), ('лазить', 8232), ('традиционный', 8233), ('сани', 8234), ('грусть', 8235), ('печаль', 8236), ('удручающий', 8237), ('мысор', 8238), ('крашеный', 8239), ('подвесной', 8240), ('трубчевск', 8241), ('ива', 8242), ('межевой', 8243), ('геноцид', 8244), ('взяться', 8245), ('фонарик', 8246), ('жмтёлк', 8247), ('акцент', 8248), ('шаг', 8249), ('смешного', 8250), ('мышление', 8251), ('поражать', 8252), ('своевременно', 8253), ('пространство', 8254), ('тренд', 8255), ('отгородить', 8256), ('спецслужба', 8257), ('грейдироваться', 8258), ('пребывание', 8259), ('совесть', 8260), ('целяц', 8261), ('цемент', 8262), ('стремянка', 8263), ('тянуть', 8264), ('баня', 8265), ('уменьшаться', 8266), ('отличие', 8267), ('бампер', 8268), ('фарма', 8269), ('ветренный', 8270), ('нескромный', 8271), ('вс', 8272), ('нерентабельный', 8273), ('исполнительный', 8274), ('недовольство', 8275), ('ясный', 8276), ('напраление', 8277), ('глебовский', 8278), ('перечении', 8279), ('плотный', 8280), ('отсекать', 8281), ('сахпроект', 8282), ('продолжить', 8283), ('драка', 8284), ('горшеченский', 8285), ('электровышка', 8286), ('послещённый', 8287), ('учавствовать', 8288), ('складкий', 8289), ('партия', 8290), ('нависание', 8291), ('утверждадый', 8292), ('онкобольной', 8293), ('ннеобходимый', 8294), ('синяк', 8295), ('онкодиспансер', 8296), ('лаборатория', 8297), ('слмана', 8298), ('усугубиться', 8299), ('постельный', 8300), ('поциента', 8301), ('сидти', 8302), ('дана', 8303), ('ненужный', 8304), ('стенд', 8305), ('поликлин', 8306), ('кофе', 8307), ('трамватолог', 8308), ('плонерка', 8309), ('отличаться', 8310), ('выдел', 8311), ('недострой', 8312), ('вываливаться', 8313), ('позарасти', 8314), ('главврач', 8315), ('кондиционирование', 8316), ('иванов', 8317), ('выгрузить', 8318), ('ампула', 8319), ('травмировпние', 8320), ('зоря', 8321), ('сп', 8322), ('оборот', 8323), ('продовольственный', 8324), ('сырьё', 8325), ('ухудшать', 8326), ('уточнять', 8327), ('загружать', 8328), ('благополучие', 8329), ('минутный', 8330), ('лукашовка', 8331), ('отправиться', 8332), ('приучать', 8333), ('стаж', 8334), ('вождение', 8335), ('периодический', 8336), ('занос', 8337), ('троечка', 8338), ('однополосный', 8339), ('кдмка', 8340), ('устать', 8341), ('маз', 8342), ('устно', 8343), ('постоев', 8344), ('оксана', 8345), ('стрть', 8346), ('сирота', 8347), ('студунка', 8348), ('институт', 8349), ('ползти', 8350), ('забираться', 8351), ('ые', 8352), ('научиться', 8353), ('водительский', 8354), ('проклинать', 8355), ('погреться', 8356), ('наркология', 8357), ('чисто', 8358), ('тлен', 8359), ('обмёрзнуть', 8360)]\n"
          ]
        }
      ]
    },
    {
      "cell_type": "code",
      "source": [
        "# Преобразование входных текстов в последовательности индексов для архитектуры с embedding(удалена из данной версии)\n",
        "x_data = np.array(tokenizer.texts_to_sequences(text_data), dtype=object)\n",
        "# Вывод формы и примера данных\n",
        "print(x_data.shape) \n",
        "print(x_data[0][:20])\n",
        "\n",
        "# Преобразование входных текстов в разреженную матрицу из векторов Bag of Words\n",
        "x_train_01 = tokenizer.texts_to_matrix(text_data)\n",
        "# Вывод формы и примера данных\n",
        "print(x_train_01.shape) \n",
        "print(x_train_01[0, :20])\n",
        "\n",
        "# Преобразование тестовых сообщений в разреженную матрицу из векторов Bag of Words\n",
        "x_test_01 = tokenizer.texts_to_matrix(test_data)\n",
        "# Вывод формы и примера данных\n",
        "print(x_test_01.shape) \n",
        "print(x_test_01[0, :20])"
      ],
      "metadata": {
        "colab": {
          "base_uri": "https://localhost:8080/"
        },
        "id": "BDc7qSrM5Dj6",
        "outputId": "24a7c2ff-db77-4ed8-d19c-43ec4b6b0b81"
      },
      "execution_count": null,
      "outputs": [
        {
          "output_type": "stream",
          "name": "stdout",
          "text": [
            "(1680,)\n",
            "[33, 1759, 48, 8, 853, 1127, 21, 319, 49]\n",
            "(1680, 2000)\n",
            "[0. 0. 0. 0. 0. 0. 0. 0. 1. 0. 0. 0. 0. 0. 0. 0. 0. 0. 0. 0.]\n",
            "(300, 2000)\n",
            "[0. 1. 0. 0. 0. 0. 1. 0. 0. 0. 0. 0. 0. 0. 0. 0. 0. 0. 0. 0.]\n"
          ]
        }
      ]
    },
    {
      "cell_type": "code",
      "source": [
        "class_labels_list = [0,1,2,3,4,5,6,7,8,9,10,11]"
      ],
      "metadata": {
        "id": "in1eifHXndHt"
      },
      "execution_count": null,
      "outputs": []
    },
    {
      "cell_type": "code",
      "source": [
        "# Функция компиляции и обучения модели нейронной сети\n",
        "def compile_train_model(model, \n",
        "                        x_train,\n",
        "                        y_train,\n",
        "                        x_val,\n",
        "                        y_val,\n",
        "                        optimizer='adam',\n",
        "                        epochs=50,\n",
        "                        batch_size=128,\n",
        "                        figsize=(20, 5)):\n",
        "\n",
        "    # Компиляция модели\n",
        "    model.compile(optimizer=optimizer, \n",
        "                  loss='categorical_crossentropy', \n",
        "                  metrics=['accuracy'])\n",
        "\n",
        "    # Вывод сводки\n",
        "    model.summary()\n",
        "\n",
        "    # Обучение модели с заданными параметрами\n",
        "    history = model.fit(x_train,\n",
        "                        y_train,\n",
        "                        epochs=epochs,\n",
        "                        batch_size=batch_size,\n",
        "                        validation_data=(x_val, y_val),\n",
        "                        callbacks=[checkpoint_callback])\n",
        "\n",
        "    # Вывод графиков точности и ошибки\n",
        "    fig, (ax1, ax2) = plt.subplots(1, 2, figsize=figsize)\n",
        "    fig.suptitle('График процесса обучения модели')\n",
        "    ax1.plot(history.history['accuracy'], \n",
        "               label='Доля верных ответов на обучающем наборе')\n",
        "    ax1.plot(history.history['val_accuracy'], \n",
        "               label='Доля верных ответов на проверочном наборе')\n",
        "    ax1.xaxis.get_major_locator().set_params(integer=True)\n",
        "    ax1.set_xlabel('Эпоха обучения')\n",
        "    ax1.set_ylabel('Доля верных ответов')\n",
        "    ax1.legend()\n",
        "\n",
        "    ax2.plot(history.history['loss'], \n",
        "               label='Ошибка на обучающем наборе')\n",
        "    ax2.plot(history.history['val_loss'], \n",
        "               label='Ошибка на проверочном наборе')\n",
        "    ax2.xaxis.get_major_locator().set_params(integer=True)\n",
        "    ax2.set_xlabel('Эпоха обучения')\n",
        "    ax2.set_ylabel('Ошибка')\n",
        "    ax2.legend()\n",
        "    plt.show()\n",
        "\n",
        "\n",
        "# Функция вывода результатов оценки модели на заданных данных\n",
        "def eval_model(model, x, y_true,\n",
        "               class_labels=class_labels_list,\n",
        "               cm_round=3,\n",
        "               title='',\n",
        "               figsize=(10, 10)):\n",
        "    # Вычисление предсказания сети\n",
        "    y_pred = model.predict(x)\n",
        "    # Построение матрицы ошибок\n",
        "    cm = confusion_matrix(np.argmax(y_true, axis=1),\n",
        "                          np.argmax(y_pred, axis=1),\n",
        "                          normalize='true')\n",
        "    # Округление значений матрицы ошибок\n",
        "    cm = np.around(cm, cm_round)\n",
        "    print(cm)\n",
        "    # Отрисовка матрицы ошибок\n",
        "    fig, ax = plt.subplots(figsize=figsize)\n",
        "    ax.set_title(f'Нейросеть {title}: матрица ошибок нормализованная', fontsize=18)\n",
        "    disp = ConfusionMatrixDisplay(confusion_matrix=cm, display_labels=class_labels_list)\n",
        "    disp.plot(ax=ax)\n",
        "    plt.gca().images[-1].colorbar.remove()  # Стирание ненужной цветовой шкалы\n",
        "    plt.xlabel('Предсказанные классы', fontsize=16)\n",
        "    plt.ylabel('Верные классы', fontsize=16)\n",
        "    fig.autofmt_xdate(rotation=45)          # Наклон меток горизонтальной оси при необходимости\n",
        "    plt.show()    \n",
        "\n",
        "    print('-'*100)\n",
        "    print(f'Нейросеть: {title}')\n",
        "    # Средняя точность распознавания определяется как среднее диагональных элементов матрицы ошибок\n",
        "    print('\\nСредняя точность распознавания: {:3.0f}%'.format(100. * cm.diagonal().mean()))\n",
        "# Для каждого класса:\n",
        "    for cls in range(12):\n",
        "        # Определяется индекс класса с максимальным значением предсказания (уверенности)\n",
        "        cls_pred = np.argmax(cm[cls])\n",
        "        # Формируется сообщение о верности или неверности предсказания\n",
        "        msg = 'ВЕРНО :-)' if cls_pred == cls else 'НЕВЕРНО :-('\n",
        "        # Выводится текстовая информация о предсказанном классе и значении уверенности\n",
        "        print('Класс: {:<20} {:3.0f}% сеть отнесла к классу {:<20} - {}'.format(cls,\n",
        "                                                                               100. * cm[cls, cls_pred],\n",
        "                                                                              class_labels[cls_pred],\n",
        "                                                                               msg))\n",
        "\n",
        "    # Средняя точность распознавания определяется как среднее диагональных элементов матрицы ошибок\n",
        "    print('\\nСредняя точность распознавания: {:3.0f}%'.format(100. * cm.diagonal().mean()))\n",
        "\n",
        "\n",
        "# Совместная функция обучения и оценки модели нейронной сети\n",
        "def compile_train_eval_model(model, \n",
        "                             x_train,\n",
        "                             y_train,\n",
        "                             x_test,\n",
        "                             y_test,\n",
        "                             class_labels=class_labels_list,\n",
        "                             title='',\n",
        "                             optimizer='adam',\n",
        "                             epochs=50,\n",
        "                             batch_size=32,\n",
        "                             graph_size=(20, 5),\n",
        "                             cm_size=(10, 10)):\n",
        "\n",
        "    # Компиляция и обучение модели на заданных параметрах\n",
        "    # В качестве проверочных используются тестовые данные\n",
        "    compile_train_model(model, \n",
        "                        x_train, y_train,\n",
        "                        x_test, y_test,\n",
        "                        optimizer=optimizer,\n",
        "                        epochs=epochs,\n",
        "                        batch_size=batch_size,\n",
        "                        figsize=graph_size)\n",
        "\n",
        "    # Вывод результатов оценки работы модели на тестовых данных\n",
        "    eval_model(model, x_test, y_test, \n",
        "               class_labels=class_labels_list, \n",
        "               title=title,\n",
        "               figsize=cm_size)"
      ],
      "metadata": {
        "id": "5B9y8I3y3blj"
      },
      "execution_count": null,
      "outputs": []
    },
    {
      "cell_type": "code",
      "source": [
        "# Последовательная модель\n",
        "model = Sequential()\n",
        "# Входной полносвязный слой\n",
        "model.add(Dense(4000, input_dim=VOCAB_SIZE, activation=\"relu\"))\n",
        "model.add(BatchNormalization())\n",
        "\n",
        "# Второй полносвязный слой\n",
        "model.add(Dense(2000, activation='relu'))\n",
        "model.add(BatchNormalization())\n",
        "\n",
        "# Третий полносвязный слой\n",
        "model.add(Dense(1000, activation='relu'))\n",
        "model.add(BatchNormalization())\n",
        "\n",
        "#model.add(Dense(1000, activation='relu'))\n",
        "#model.add(BatchNormalization())\n",
        "model.add(Dense(500, activation='relu'))\n",
        "model.add(BatchNormalization())\n",
        "\n",
        "model.add(Dense(400, activation='relu'))\n",
        "model.add(BatchNormalization())\n",
        "model.add(Dense(200, activation='relu'))\n",
        "model.add(BatchNormalization())\n",
        "\n",
        "#model.add(Dense(200, activation='relu'))\n",
        "#model.add(BatchNormalization())\n",
        "\n",
        "model.add(Dense(100, activation='relu'))\n",
        "model.add(BatchNormalization())\n",
        "\n",
        "# Выходной полносвязный слой\n",
        "model.add(Dense(12, activation='softmax'))\n",
        "\n",
        "model_save_path = '/content/model_16.h5' \n",
        "checkpoint_callback = ModelCheckpoint(model_save_path, monitor='val_accuracy', save_best_only=True, verbose=1)\n",
        "# Входные данные подаются в виде векторов bag of words\n",
        "\n",
        "compile_train_eval_model(model,\n",
        "                         x_train_01, y_train,\n",
        "                         x_test_01, y_test,\n",
        "                         epochs=30,\n",
        "                         batch_size=14,\n",
        "                         cm_size=(9, 9),\n",
        "                         class_labels=class_labels_list,\n",
        "                         title='BoW + dense')"
      ],
      "metadata": {
        "colab": {
          "base_uri": "https://localhost:8080/",
          "height": 1000
        },
        "id": "PHY3eyUtVX_G",
        "outputId": "acc0b54b-0cd0-4e5a-d9fb-1cede6d5d347"
      },
      "execution_count": null,
      "outputs": [
        {
          "output_type": "stream",
          "name": "stdout",
          "text": [
            "Model: \"sequential_39\"\n",
            "_________________________________________________________________\n",
            " Layer (type)                Output Shape              Param #   \n",
            "=================================================================\n",
            " dense_382 (Dense)           (None, 4000)              8004000   \n",
            "                                                                 \n",
            " batch_normalization_316 (Ba  (None, 4000)             16000     \n",
            " tchNormalization)                                               \n",
            "                                                                 \n",
            " dense_383 (Dense)           (None, 2000)              8002000   \n",
            "                                                                 \n",
            " batch_normalization_317 (Ba  (None, 2000)             8000      \n",
            " tchNormalization)                                               \n",
            "                                                                 \n",
            " dense_384 (Dense)           (None, 1000)              2001000   \n",
            "                                                                 \n",
            " batch_normalization_318 (Ba  (None, 1000)             4000      \n",
            " tchNormalization)                                               \n",
            "                                                                 \n",
            " dense_385 (Dense)           (None, 500)               500500    \n",
            "                                                                 \n",
            " batch_normalization_319 (Ba  (None, 500)              2000      \n",
            " tchNormalization)                                               \n",
            "                                                                 \n",
            " dense_386 (Dense)           (None, 400)               200400    \n",
            "                                                                 \n",
            " batch_normalization_320 (Ba  (None, 400)              1600      \n",
            " tchNormalization)                                               \n",
            "                                                                 \n",
            " dense_387 (Dense)           (None, 200)               80200     \n",
            "                                                                 \n",
            " batch_normalization_321 (Ba  (None, 200)              800       \n",
            " tchNormalization)                                               \n",
            "                                                                 \n",
            " dense_388 (Dense)           (None, 100)               20100     \n",
            "                                                                 \n",
            " batch_normalization_322 (Ba  (None, 100)              400       \n",
            " tchNormalization)                                               \n",
            "                                                                 \n",
            " dense_389 (Dense)           (None, 12)                1212      \n",
            "                                                                 \n",
            "=================================================================\n",
            "Total params: 18,842,212\n",
            "Trainable params: 18,825,812\n",
            "Non-trainable params: 16,400\n",
            "_________________________________________________________________\n",
            "Epoch 1/30\n",
            "120/120 [==============================] - ETA: 0s - loss: 1.8022 - accuracy: 0.5179\n",
            "Epoch 1: val_accuracy improved from -inf to 0.55667, saving model to /content/model_16.h5\n",
            "120/120 [==============================] - 4s 17ms/step - loss: 1.8022 - accuracy: 0.5179 - val_loss: 1.7168 - val_accuracy: 0.5567\n",
            "Epoch 2/30\n",
            "119/120 [============================>.] - ETA: 0s - loss: 0.8298 - accuracy: 0.7695\n",
            "Epoch 2: val_accuracy improved from 0.55667 to 0.61667, saving model to /content/model_16.h5\n",
            "120/120 [==============================] - 2s 15ms/step - loss: 0.8269 - accuracy: 0.7696 - val_loss: 1.3802 - val_accuracy: 0.6167\n",
            "Epoch 3/30\n",
            "120/120 [==============================] - ETA: 0s - loss: 0.5329 - accuracy: 0.8500\n",
            "Epoch 3: val_accuracy improved from 0.61667 to 0.72000, saving model to /content/model_16.h5\n",
            "120/120 [==============================] - 2s 14ms/step - loss: 0.5329 - accuracy: 0.8500 - val_loss: 0.9535 - val_accuracy: 0.7200\n",
            "Epoch 4/30\n",
            "115/120 [===========================>..] - ETA: 0s - loss: 0.3559 - accuracy: 0.8969\n",
            "Epoch 4: val_accuracy improved from 0.72000 to 0.75000, saving model to /content/model_16.h5\n",
            "120/120 [==============================] - 2s 14ms/step - loss: 0.3604 - accuracy: 0.8946 - val_loss: 0.8804 - val_accuracy: 0.7500\n",
            "Epoch 5/30\n",
            "115/120 [===========================>..] - ETA: 0s - loss: 0.3506 - accuracy: 0.9012\n",
            "Epoch 5: val_accuracy improved from 0.75000 to 0.78667, saving model to /content/model_16.h5\n",
            "120/120 [==============================] - 2s 14ms/step - loss: 0.3513 - accuracy: 0.9000 - val_loss: 0.9426 - val_accuracy: 0.7867\n",
            "Epoch 6/30\n",
            "114/120 [===========================>..] - ETA: 0s - loss: 0.3118 - accuracy: 0.9098\n",
            "Epoch 6: val_accuracy did not improve from 0.78667\n",
            "120/120 [==============================] - 1s 9ms/step - loss: 0.3110 - accuracy: 0.9107 - val_loss: 1.0004 - val_accuracy: 0.7800\n",
            "Epoch 7/30\n",
            "120/120 [==============================] - ETA: 0s - loss: 0.2397 - accuracy: 0.9202\n",
            "Epoch 7: val_accuracy did not improve from 0.78667\n",
            "120/120 [==============================] - 1s 9ms/step - loss: 0.2397 - accuracy: 0.9202 - val_loss: 1.0305 - val_accuracy: 0.7667\n",
            "Epoch 8/30\n",
            "119/120 [============================>.] - ETA: 0s - loss: 0.2082 - accuracy: 0.9382\n",
            "Epoch 8: val_accuracy did not improve from 0.78667\n",
            "120/120 [==============================] - 1s 9ms/step - loss: 0.2079 - accuracy: 0.9381 - val_loss: 0.9940 - val_accuracy: 0.7500\n",
            "Epoch 9/30\n",
            "115/120 [===========================>..] - ETA: 0s - loss: 0.1880 - accuracy: 0.9410\n",
            "Epoch 9: val_accuracy did not improve from 0.78667\n",
            "120/120 [==============================] - 1s 9ms/step - loss: 0.1900 - accuracy: 0.9405 - val_loss: 0.9531 - val_accuracy: 0.7467\n",
            "Epoch 10/30\n",
            "114/120 [===========================>..] - ETA: 0s - loss: 0.2025 - accuracy: 0.9405\n",
            "Epoch 10: val_accuracy did not improve from 0.78667\n",
            "120/120 [==============================] - 1s 9ms/step - loss: 0.2041 - accuracy: 0.9399 - val_loss: 0.9438 - val_accuracy: 0.7667\n",
            "Epoch 11/30\n",
            "117/120 [============================>.] - ETA: 0s - loss: 0.1658 - accuracy: 0.9573\n",
            "Epoch 11: val_accuracy did not improve from 0.78667\n",
            "120/120 [==============================] - 1s 9ms/step - loss: 0.1645 - accuracy: 0.9571 - val_loss: 1.0620 - val_accuracy: 0.7633\n",
            "Epoch 12/30\n",
            "117/120 [============================>.] - ETA: 0s - loss: 0.1319 - accuracy: 0.9554\n",
            "Epoch 12: val_accuracy did not improve from 0.78667\n",
            "120/120 [==============================] - 1s 9ms/step - loss: 0.1299 - accuracy: 0.9565 - val_loss: 1.1163 - val_accuracy: 0.7667\n",
            "Epoch 13/30\n",
            "115/120 [===========================>..] - ETA: 0s - loss: 0.1456 - accuracy: 0.9540\n",
            "Epoch 13: val_accuracy did not improve from 0.78667\n",
            "120/120 [==============================] - 1s 9ms/step - loss: 0.1455 - accuracy: 0.9542 - val_loss: 1.0154 - val_accuracy: 0.7367\n",
            "Epoch 14/30\n",
            "117/120 [============================>.] - ETA: 0s - loss: 0.1487 - accuracy: 0.9579\n",
            "Epoch 14: val_accuracy did not improve from 0.78667\n",
            "120/120 [==============================] - 1s 9ms/step - loss: 0.1534 - accuracy: 0.9577 - val_loss: 1.2362 - val_accuracy: 0.7433\n",
            "Epoch 15/30\n",
            "119/120 [============================>.] - ETA: 0s - loss: 0.1745 - accuracy: 0.9466\n",
            "Epoch 15: val_accuracy did not improve from 0.78667\n",
            "120/120 [==============================] - 1s 9ms/step - loss: 0.1733 - accuracy: 0.9470 - val_loss: 1.1762 - val_accuracy: 0.7533\n",
            "Epoch 16/30\n",
            "116/120 [============================>.] - ETA: 0s - loss: 0.1630 - accuracy: 0.9489\n",
            "Epoch 16: val_accuracy did not improve from 0.78667\n",
            "120/120 [==============================] - 1s 9ms/step - loss: 0.1660 - accuracy: 0.9476 - val_loss: 1.2109 - val_accuracy: 0.7467\n",
            "Epoch 17/30\n",
            "118/120 [============================>.] - ETA: 0s - loss: 0.1188 - accuracy: 0.9655\n",
            "Epoch 17: val_accuracy did not improve from 0.78667\n",
            "120/120 [==============================] - 1s 9ms/step - loss: 0.1172 - accuracy: 0.9661 - val_loss: 1.2488 - val_accuracy: 0.7400\n",
            "Epoch 18/30\n",
            "118/120 [============================>.] - ETA: 0s - loss: 0.1169 - accuracy: 0.9649\n",
            "Epoch 18: val_accuracy did not improve from 0.78667\n",
            "120/120 [==============================] - 1s 9ms/step - loss: 0.1174 - accuracy: 0.9649 - val_loss: 1.1240 - val_accuracy: 0.7467\n",
            "Epoch 19/30\n",
            "120/120 [==============================] - ETA: 0s - loss: 0.1206 - accuracy: 0.9667\n",
            "Epoch 19: val_accuracy did not improve from 0.78667\n",
            "120/120 [==============================] - 1s 9ms/step - loss: 0.1206 - accuracy: 0.9667 - val_loss: 1.1517 - val_accuracy: 0.7700\n",
            "Epoch 20/30\n",
            "116/120 [============================>.] - ETA: 0s - loss: 0.0905 - accuracy: 0.9723\n",
            "Epoch 20: val_accuracy did not improve from 0.78667\n",
            "120/120 [==============================] - 1s 9ms/step - loss: 0.0890 - accuracy: 0.9726 - val_loss: 1.1695 - val_accuracy: 0.7433\n",
            "Epoch 21/30\n",
            "118/120 [============================>.] - ETA: 0s - loss: 0.1030 - accuracy: 0.9734\n",
            "Epoch 21: val_accuracy did not improve from 0.78667\n",
            "120/120 [==============================] - 1s 9ms/step - loss: 0.1036 - accuracy: 0.9732 - val_loss: 1.2945 - val_accuracy: 0.7567\n",
            "Epoch 22/30\n",
            "118/120 [============================>.] - ETA: 0s - loss: 0.1018 - accuracy: 0.9667\n",
            "Epoch 22: val_accuracy did not improve from 0.78667\n",
            "120/120 [==============================] - 1s 9ms/step - loss: 0.1044 - accuracy: 0.9667 - val_loss: 1.2476 - val_accuracy: 0.7700\n",
            "Epoch 23/30\n",
            "116/120 [============================>.] - ETA: 0s - loss: 0.1231 - accuracy: 0.9624\n",
            "Epoch 23: val_accuracy did not improve from 0.78667\n",
            "120/120 [==============================] - 1s 9ms/step - loss: 0.1212 - accuracy: 0.9625 - val_loss: 1.2323 - val_accuracy: 0.7600\n",
            "Epoch 24/30\n",
            "116/120 [============================>.] - ETA: 0s - loss: 0.1256 - accuracy: 0.9637\n",
            "Epoch 24: val_accuracy did not improve from 0.78667\n",
            "120/120 [==============================] - 1s 9ms/step - loss: 0.1288 - accuracy: 0.9625 - val_loss: 1.3295 - val_accuracy: 0.7700\n",
            "Epoch 25/30\n",
            "118/120 [============================>.] - ETA: 0s - loss: 0.1181 - accuracy: 0.9685\n",
            "Epoch 25: val_accuracy did not improve from 0.78667\n",
            "120/120 [==============================] - 1s 9ms/step - loss: 0.1183 - accuracy: 0.9685 - val_loss: 1.2655 - val_accuracy: 0.7500\n",
            "Epoch 26/30\n",
            "119/120 [============================>.] - ETA: 0s - loss: 0.0826 - accuracy: 0.9736\n",
            "Epoch 26: val_accuracy did not improve from 0.78667\n",
            "120/120 [==============================] - 1s 9ms/step - loss: 0.0822 - accuracy: 0.9738 - val_loss: 1.2065 - val_accuracy: 0.7533\n",
            "Epoch 27/30\n",
            "117/120 [============================>.] - ETA: 0s - loss: 0.1123 - accuracy: 0.9683\n",
            "Epoch 27: val_accuracy did not improve from 0.78667\n",
            "120/120 [==============================] - 1s 9ms/step - loss: 0.1099 - accuracy: 0.9690 - val_loss: 1.1282 - val_accuracy: 0.7500\n",
            "Epoch 28/30\n",
            "115/120 [===========================>..] - ETA: 0s - loss: 0.0964 - accuracy: 0.9770\n",
            "Epoch 28: val_accuracy did not improve from 0.78667\n",
            "120/120 [==============================] - 1s 9ms/step - loss: 0.0954 - accuracy: 0.9768 - val_loss: 1.1683 - val_accuracy: 0.7667\n",
            "Epoch 29/30\n",
            "117/120 [============================>.] - ETA: 0s - loss: 0.0801 - accuracy: 0.9774\n",
            "Epoch 29: val_accuracy improved from 0.78667 to 0.80000, saving model to /content/model_16.h5\n",
            "120/120 [==============================] - 2s 14ms/step - loss: 0.0814 - accuracy: 0.9768 - val_loss: 1.0799 - val_accuracy: 0.8000\n",
            "Epoch 30/30\n",
            "114/120 [===========================>..] - ETA: 0s - loss: 0.1000 - accuracy: 0.9699\n",
            "Epoch 30: val_accuracy did not improve from 0.80000\n",
            "120/120 [==============================] - 1s 9ms/step - loss: 0.0985 - accuracy: 0.9696 - val_loss: 1.0962 - val_accuracy: 0.7667\n"
          ]
        },
        {
          "output_type": "display_data",
          "data": {
            "text/plain": [
              "<Figure size 1440x360 with 2 Axes>"
            ],
            "image/png": "[encoded data removed]"
          },
          "metadata": {
            "needs_background": "light"
          }
        },
        {
          "output_type": "stream",
          "name": "stdout",
          "text": [
            "[[0.694 0.    0.    0.242 0.032 0.    0.    0.    0.016 0.    0.    0.016]\n",
            " [0.    1.    0.    0.    0.    0.    0.    0.    0.    0.    0.    0.   ]\n",
            " [0.    0.    0.682 0.318 0.    0.    0.    0.    0.    0.    0.    0.   ]\n",
            " [0.093 0.    0.043 0.863 0.    0.    0.    0.    0.    0.    0.    0.   ]\n",
            " [0.    0.    0.    0.071 0.929 0.    0.    0.    0.    0.    0.    0.   ]\n",
            " [0.    0.    0.    0.5   0.    0.    0.    0.5   0.    0.    0.    0.   ]\n",
            " [0.5   0.    0.    0.    0.    0.    0.    0.    0.    0.    0.5   0.   ]\n",
            " [0.    0.    0.    0.75  0.25  0.    0.    0.    0.    0.    0.    0.   ]\n",
            " [0.056 0.    0.056 0.111 0.    0.    0.    0.    0.778 0.    0.    0.   ]\n",
            " [0.    0.    0.    1.    0.    0.    0.    0.    0.    0.    0.    0.   ]\n",
            " [0.    0.    0.    0.5   0.    0.    0.    0.    0.    0.    0.5   0.   ]\n",
            " [0.25  0.25  0.25  0.25  0.    0.    0.    0.    0.    0.    0.    0.   ]]\n"
          ]
        },
        {
          "output_type": "display_data",
          "data": {
            "text/plain": [
              "<Figure size 648x648 with 1 Axes>"
            ],
            "image/png": "[encoded data removed]"
          },
          "metadata": {
            "needs_background": "light"
          }
        },
        {
          "output_type": "stream",
          "name": "stdout",
          "text": [
            "----------------------------------------------------------------------------------------------------\n",
            "Нейросеть: BoW + dense\n",
            "\n",
            "Средняя точность распознавания:  45%\n",
            "Класс: 0                     69% сеть отнесла к классу 0                    - ВЕРНО :-)\n",
            "Класс: 1                    100% сеть отнесла к классу 1                    - ВЕРНО :-)\n",
            "Класс: 2                     68% сеть отнесла к классу 2                    - ВЕРНО :-)\n",
            "Класс: 3                     86% сеть отнесла к классу 3                    - ВЕРНО :-)\n",
            "Класс: 4                     93% сеть отнесла к классу 4                    - ВЕРНО :-)\n",
            "Класс: 5                     50% сеть отнесла к классу 3                    - НЕВЕРНО :-(\n",
            "Класс: 6                     50% сеть отнесла к классу 0                    - НЕВЕРНО :-(\n",
            "Класс: 7                     75% сеть отнесла к классу 3                    - НЕВЕРНО :-(\n",
            "Класс: 8                     78% сеть отнесла к классу 8                    - ВЕРНО :-)\n",
            "Класс: 9                    100% сеть отнесла к классу 3                    - НЕВЕРНО :-(\n",
            "Класс: 10                    50% сеть отнесла к классу 3                    - НЕВЕРНО :-(\n",
            "Класс: 11                    25% сеть отнесла к классу 0                    - НЕВЕРНО :-(\n",
            "\n",
            "Средняя точность распознавания:  45%\n"
          ]
        }
      ]
    },
    {
      "cell_type": "code",
      "source": [
        "model = models.load_model('/content/model_16.h5')  # загружаем сохраненную модель с  val_accuracy=0.80"
      ],
      "metadata": {
        "id": "7SBhs0UOx_nP"
      },
      "execution_count": null,
      "outputs": []
    },
    {
      "cell_type": "code",
      "source": [
        "# Функция вывода результатов оценки сохраненной модели\n",
        "eval_model(model, x_test_01, y_test,\n",
        "               class_labels=class_labels_list,\n",
        "               cm_round=3,\n",
        "               title='',\n",
        "               figsize=(10, 10))\n",
        "    "
      ],
      "metadata": {
        "colab": {
          "base_uri": "https://localhost:8080/",
          "height": 1000
        },
        "id": "XgplV4PWx1pG",
        "outputId": "6a8de71b-650e-46ad-dd23-ce4fbbcc2dc8"
      },
      "execution_count": null,
      "outputs": [
        {
          "output_type": "stream",
          "name": "stdout",
          "text": [
            "[[0.726 0.    0.032 0.194 0.    0.    0.    0.    0.032 0.    0.    0.016]\n",
            " [0.    1.    0.    0.    0.    0.    0.    0.    0.    0.    0.    0.   ]\n",
            " [0.    0.    0.636 0.364 0.    0.    0.    0.    0.    0.    0.    0.   ]\n",
            " [0.081 0.    0.019 0.894 0.    0.    0.    0.    0.006 0.    0.    0.   ]\n",
            " [0.    0.    0.    0.071 0.929 0.    0.    0.    0.    0.    0.    0.   ]\n",
            " [0.    0.    0.    0.5   0.    0.    0.    0.5   0.    0.    0.    0.   ]\n",
            " [0.5   0.    0.    0.    0.    0.    0.    0.    0.    0.    0.5   0.   ]\n",
            " [0.25  0.    0.    0.5   0.    0.    0.    0.25  0.    0.    0.    0.   ]\n",
            " [0.    0.    0.    0.056 0.    0.    0.    0.    0.944 0.    0.    0.   ]\n",
            " [0.    0.    0.    1.    0.    0.    0.    0.    0.    0.    0.    0.   ]\n",
            " [0.    0.    0.    0.5   0.    0.    0.    0.    0.    0.    0.5   0.   ]\n",
            " [0.25  0.25  0.    0.5   0.    0.    0.    0.    0.    0.    0.    0.   ]]\n"
          ]
        },
        {
          "output_type": "display_data",
          "data": {
            "text/plain": [
              "<Figure size 720x720 with 1 Axes>"
            ],
            "image/png": "[encoded data removed]"
          },
          "metadata": {
            "needs_background": "light"
          }
        },
        {
          "output_type": "stream",
          "name": "stdout",
          "text": [
            "----------------------------------------------------------------------------------------------------\n",
            "Нейросеть: \n",
            "\n",
            "Средняя точность распознавания:  49%\n",
            "Класс: 0                     73% сеть отнесла к классу 0                    - ВЕРНО :-)\n",
            "Класс: 1                    100% сеть отнесла к классу 1                    - ВЕРНО :-)\n",
            "Класс: 2                     64% сеть отнесла к классу 2                    - ВЕРНО :-)\n",
            "Класс: 3                     89% сеть отнесла к классу 3                    - ВЕРНО :-)\n",
            "Класс: 4                     93% сеть отнесла к классу 4                    - ВЕРНО :-)\n",
            "Класс: 5                     50% сеть отнесла к классу 3                    - НЕВЕРНО :-(\n",
            "Класс: 6                     50% сеть отнесла к классу 0                    - НЕВЕРНО :-(\n",
            "Класс: 7                     50% сеть отнесла к классу 3                    - НЕВЕРНО :-(\n",
            "Класс: 8                     94% сеть отнесла к классу 8                    - ВЕРНО :-)\n",
            "Класс: 9                    100% сеть отнесла к классу 3                    - НЕВЕРНО :-(\n",
            "Класс: 10                    50% сеть отнесла к классу 3                    - НЕВЕРНО :-(\n",
            "Класс: 11                    50% сеть отнесла к классу 3                    - НЕВЕРНО :-(\n",
            "\n",
            "Средняя точность распознавания:  49%\n"
          ]
        }
      ]
    },
    {
      "cell_type": "markdown",
      "source": [
        ""
      ],
      "metadata": {
        "id": "B7MwBZImNnQm"
      }
    },
    {
      "cell_type": "code",
      "source": [
        "text_data_test = df_test['Текст Сообщения'].tolist()  # тестовый набор данных"
      ],
      "metadata": {
        "id": "qqhQmFFkJF8v"
      },
      "execution_count": null,
      "outputs": []
    },
    {
      "cell_type": "code",
      "source": [
        "df_test['text_processed'] = list(map(preprocessing, text_data_test))\n",
        "\n",
        "# лемматизация тестового набора\n",
        "lemm_texts_column = [ ]\n",
        "for text in tqdm(df_test['text_processed']):\n",
        "  tokens = word_tokenize(text)\n",
        "  lemmed_tokens = [morph.parse(token)[0].normal_form for token in tokens if token not in russian_stopwords]\n",
        "  text = \" \".join(lemmed_tokens)\n",
        "  lemm_texts_column.append(text)\n",
        "#  создаем новую колонку\n",
        "df_test[\"text_lemmed\"] = lemm_texts_column"
      ],
      "metadata": {
        "colab": {
          "base_uri": "https://localhost:8080/",
          "height": 49,
          "referenced_widgets": [
            "29f5470421894b83988d3d72cafb11b3",
            "90609fa2e8a6468e99f501a64781ec27",
            "8b141425233741ff83e952cc7f88a656",
            "50a1405030dd465e86eda925fa068d4e",
            "f9183fa4bd42419394f223c9dc50bef4",
            "8f710f6be455445ebe65c048ea4f96bc",
            "cae1c0941d0e4a62a0d572291ccf0c80",
            "b929134ec2f744998502456e747aa8b4",
            "834fc981192f4c43b34e886e983f2a0e",
            "c35f8e9781a647efb00a61383a3b4b5f",
            "74eb931f32ec46e38150e4bace79ac79"
          ]
        },
        "id": "mY09jC11rTQS",
        "outputId": "e0f9bacf-6912-464f-9ef3-771cee234fe2"
      },
      "execution_count": null,
      "outputs": [
        {
          "output_type": "display_data",
          "data": {
            "text/plain": [
              "  0%|          | 0/1000 [00:00<?, ?it/s]"
            ],
            "application/vnd.jupyter.widget-view+json": {
              "version_major": 2,
              "version_minor": 0,
              "model_id": "29f5470421894b83988d3d72cafb11b3"
            }
          },
          "metadata": {}
        }
      ]
    },
    {
      "cell_type": "code",
      "source": [
        "test_text = df_test['text_lemmed'].tolist()\n"
      ],
      "metadata": {
        "id": "jg3Tx5wPr8l2"
      },
      "execution_count": null,
      "outputs": []
    },
    {
      "cell_type": "code",
      "source": [
        "test_text[:20]"
      ],
      "metadata": {
        "colab": {
          "base_uri": "https://localhost:8080/"
        },
        "id": "WLKsLInFM1m2",
        "outputId": "f0c528f9-4a61-4f0b-b1ac-35a89ff8d751"
      },
      "execution_count": null,
      "outputs": [
        {
          "output_type": "execute_result",
          "data": {
            "text/plain": [
              "['улица мир заменить наружное освещение именно заменить лампа энергосберегающий лампа протяжение несколько месяц освещение улица отсутствовать последний улица осветить это зима приблизительно каждый день человек работать часовой смена многие возвращаться очень поздно дать проблема улица посёлок',\n",
              " 'второй неделя гореть уличный освещение',\n",
              " 'работать освещение двор дом энергетик световой опора',\n",
              " 'покос сорный растительность газон тротуар проезжий часть проезд улица студенческий проспект дружба район дом № проспект дружба выявить значительный количество мусор просить произвести уборка',\n",
              " 'просить принять мера водитель маршрут пос северный союзный автобус г н м ом салон автобус постоянно накурить число сегодня особенно конечный остановка видимо водитель курить салон ехать невозможно особенно ребёнок кроме салон грязно ощущение автобус мыть целый год',\n",
              " 'просить создать остановочный пункт викторовка проезжий часть человек очень долго идти рядом жд ветка',\n",
              " 'мусор га контейнерный площадка',\n",
              " 'шестой день отсутствовать отопление один комната звонить управлять компания несколько день однако приходить ребёнок замерзать',\n",
              " 'нарушение сфера жкх',\n",
              " 'мой отец булыгин валерий василиевич предоставить услуга терапевтический кабинет № стоматология ужасный антисанитарный условие нужный оборудование электричество прямой смысл слово отец светить рот фонарик свой телефон врач удалить зуб – это возможно век почему курироваться это никто оборудование инструмент век освещение предоставить качественный услуга это детский площадка ковид закрывать почему надзор последний проверка спонсировать данный больница просить срочный порядок разобраться дать ситуация город частный стоматология лицензия хирургический вмешательство стоматология бог знать случиться процедура антисанитария ждать скорый время ответ главное действие просто сделать работа показать зря есть свой хлеб',\n",
              " 'соответствие распоряжение губернатор курский область март год рг приём гражданин мбдоу отменный заявление постановка очередь ребёнок приниматься портал государственный услуга я октябрь месяц подать заявление портал ребёнок поставить очередь указание её номер подтверждение очередь март год совершить телефонный звонок мбдоу № пояснить приём гражданин прежний вестись ребёнок записать очередь однако её номер отличаться человек увеличиться представитель мбдоу № пояснить номер портал фактический совпадать выдать уведомление новый очередь соответствие постановление глава г курск август г № дать очередь заноситься единый электронный система портал государственный услуга доступный функция проверка очередь онлайн номер совпадать озвучить мбдоу просить способствовать решение сложиться противоречие',\n",
              " 'март г двор наш дом пилить дерево сей пора г вывезти трактор раз также весь листва собрать кучка двор дом вывезти это создавать грязь земля срубить дерево просыхать рядом детский площадка так земля просыхать пахнуть гниль также начаться ремонт крыша шифер сзади дом накидать неизвестно это всё убрать дом похожий катакомба неоднократно звонить ук жилищникнуть наталья михаилович сей пора убрать обещание нужно почистить двор весь грязь это создавать очень больший неудобство весь жилец дом',\n",
              " 'работать наружное освещение заезд двор п так кулаковый далее жар пицца',\n",
              " 'лестница который вести ул ендовищенский ул марат ремонт такой состояние',\n",
              " 'нужно вывести собранный мусор',\n",
              " 'дорога ведущий школа дом плохо очистить снег снег образоваться лёд каждый утро пробка этот двор ввиду скопление автомобиль который мочь подняться школа улица светлый утро внушительный поток авто такой небольшой дворик родитель привозить школа ребёнок утро местный житель выезжать работа просить принять мера ликвидация снег лёд дорога',\n",
              " 'просить передать мой обращение кореневский атп шторка автобус это мочь руководитель принять решение убрать шторка паз гос № ава шторка это лишний пылесборник вместо шторка затонировать верхний окошко',\n",
              " 'работать фонарь',\n",
              " 'куча мусор несанкционированный стоянка прилегать территория пересечение ул береговой ендовищенский недавно городской субботник почему собственник территория позаботиться уборка',\n",
              " 'данный участок улица небольшой подъём который сплошной лёд машина мочь подняться']"
            ]
          },
          "metadata": {},
          "execution_count": 37
        }
      ]
    },
    {
      "cell_type": "code",
      "source": [
        "# Преобразование тестовых текстов в разреженную матрицу из векторов Bag of Words\n",
        "x_data_test = tokenizer.texts_to_matrix(test_text)\n",
        "# Вывод формы и примера данных\n",
        "print(x_data_test.shape) \n",
        "print(x_data_test[0, :20])            \n",
        "  "
      ],
      "metadata": {
        "id": "V46xDWjceaOI",
        "colab": {
          "base_uri": "https://localhost:8080/"
        },
        "outputId": "082da128-6997-40f6-e4dd-3581cd9f79e3"
      },
      "execution_count": null,
      "outputs": [
        {
          "output_type": "stream",
          "name": "stdout",
          "text": [
            "(1000, 2000)\n",
            "[0. 1. 0. 0. 0. 0. 1. 0. 0. 1. 1. 0. 0. 0. 0. 0. 0. 1. 0. 0.]\n"
          ]
        }
      ]
    },
    {
      "cell_type": "code",
      "source": [
        "model = models.load_model('/content/model_16.h5')"
      ],
      "metadata": {
        "id": "Q3xgMMhO7n_5"
      },
      "execution_count": null,
      "outputs": []
    },
    {
      "cell_type": "code",
      "source": [
        "y_pred = model.predict(x_data_test)  #  предсказание на тестовом наборе\n",
        "print(y_pred.shape)\n",
        "y = np.argmax(y_pred, axis=1)\n",
        "print(y.shape)\n",
        "print(y[:10])\n"
      ],
      "metadata": {
        "colab": {
          "base_uri": "https://localhost:8080/"
        },
        "id": "2NtD3nKuhozw",
        "outputId": "b358f1e7-7f36-4c09-f4d9-f2e9ba6e7f06"
      },
      "execution_count": null,
      "outputs": [
        {
          "output_type": "stream",
          "name": "stdout",
          "text": [
            "(1000, 12)\n",
            "(1000,)\n",
            "[3 3 3 3 8 3 3 3 3 4]\n"
          ]
        }
      ]
    },
    {
      "cell_type": "code",
      "source": [
        "# делаем обратные преобразования меток: заменим 2 на 16, 9 на 13\n",
        "for i in range(1000):\n",
        "  if y[i] == 2:\n",
        "    y[i] = 16\n",
        "  if y[i] == 9:\n",
        "    y[i] = 13\n",
        "  \n",
        "  "
      ],
      "metadata": {
        "id": "_6isJ8LmiO9k"
      },
      "execution_count": null,
      "outputs": []
    },
    {
      "cell_type": "code",
      "source": [
        "DF_result = pd.DataFrame(y)\n",
        "DF_result.index = df_test.index\n",
        "DF_result.columns = ['Категория']\n",
        "DF_result.head()"
      ],
      "metadata": {
        "colab": {
          "base_uri": "https://localhost:8080/",
          "height": 237
        },
        "id": "1mBfxGskiPCF",
        "outputId": "662a068b-985a-4876-8788-e05ebef7f4ad"
      },
      "execution_count": null,
      "outputs": [
        {
          "output_type": "execute_result",
          "data": {
            "text/plain": [
              "      Категория\n",
              "id             \n",
              "843           3\n",
              "1422          3\n",
              "2782          3\n",
              "2704          3\n",
              "1             8"
            ],
            "text/html": [
              "\n",
              "  <div id=\"df-180cabde-5e2b-4edf-8f0e-601297491fe9\">\n",
              "    <div class=\"colab-df-container\">\n",
              "      <div>\n",
              "<style scoped>\n",
              "    .dataframe tbody tr th:only-of-type {\n",
              "        vertical-align: middle;\n",
              "    }\n",
              "\n",
              "    .dataframe tbody tr th {\n",
              "        vertical-align: top;\n",
              "    }\n",
              "\n",
              "    .dataframe thead th {\n",
              "        text-align: right;\n",
              "    }\n",
              "</style>\n",
              "<table border=\"1\" class=\"dataframe\">\n",
              "  <thead>\n",
              "    <tr style=\"text-align: right;\">\n",
              "      <th></th>\n",
              "      <th>Категория</th>\n",
              "    </tr>\n",
              "    <tr>\n",
              "      <th>id</th>\n",
              "      <th></th>\n",
              "    </tr>\n",
              "  </thead>\n",
              "  <tbody>\n",
              "    <tr>\n",
              "      <th>843</th>\n",
              "      <td>3</td>\n",
              "    </tr>\n",
              "    <tr>\n",
              "      <th>1422</th>\n",
              "      <td>3</td>\n",
              "    </tr>\n",
              "    <tr>\n",
              "      <th>2782</th>\n",
              "      <td>3</td>\n",
              "    </tr>\n",
              "    <tr>\n",
              "      <th>2704</th>\n",
              "      <td>3</td>\n",
              "    </tr>\n",
              "    <tr>\n",
              "      <th>1</th>\n",
              "      <td>8</td>\n",
              "    </tr>\n",
              "  </tbody>\n",
              "</table>\n",
              "</div>\n",
              "      <button class=\"colab-df-convert\" onclick=\"convertToInteractive('df-180cabde-5e2b-4edf-8f0e-601297491fe9')\"\n",
              "              title=\"Convert this dataframe to an interactive table.\"\n",
              "              style=\"display:none;\">\n",
              "        \n",
              "  <svg xmlns=\"http://www.w3.org/2000/svg\" height=\"24px\"viewBox=\"0 0 24 24\"\n",
              "       width=\"24px\">\n",
              "    <path d=\"M0 0h24v24H0V0z\" fill=\"none\"/>\n",
              "    <path d=\"M18.56 5.44l.94 2.06.94-2.06 2.06-.94-2.06-.94-.94-2.06-.94 2.06-2.06.94zm-11 1L8.5 8.5l.94-2.06 2.06-.94-2.06-.94L8.5 2.5l-.94 2.06-2.06.94zm10 10l.94 2.06.94-2.06 2.06-.94-2.06-.94-.94-2.06-.94 2.06-2.06.94z\"/><path d=\"M17.41 7.96l-1.37-1.37c-.4-.4-.92-.59-1.43-.59-.52 0-1.04.2-1.43.59L10.3 9.45l-7.72 7.72c-.78.78-.78 2.05 0 2.83L4 21.41c.39.39.9.59 1.41.59.51 0 1.02-.2 1.41-.59l7.78-7.78 2.81-2.81c.8-.78.8-2.07 0-2.86zM5.41 20L4 18.59l7.72-7.72 1.47 1.35L5.41 20z\"/>\n",
              "  </svg>\n",
              "      </button>\n",
              "      \n",
              "  <style>\n",
              "    .colab-df-container {\n",
              "      display:flex;\n",
              "      flex-wrap:wrap;\n",
              "      gap: 12px;\n",
              "    }\n",
              "\n",
              "    .colab-df-convert {\n",
              "      background-color: #E8F0FE;\n",
              "      border: none;\n",
              "      border-radius: 50%;\n",
              "      cursor: pointer;\n",
              "      display: none;\n",
              "      fill: #1967D2;\n",
              "      height: 32px;\n",
              "      padding: 0 0 0 0;\n",
              "      width: 32px;\n",
              "    }\n",
              "\n",
              "    .colab-df-convert:hover {\n",
              "      background-color: #E2EBFA;\n",
              "      box-shadow: 0px 1px 2px rgba(60, 64, 67, 0.3), 0px 1px 3px 1px rgba(60, 64, 67, 0.15);\n",
              "      fill: #174EA6;\n",
              "    }\n",
              "\n",
              "    [theme=dark] .colab-df-convert {\n",
              "      background-color: #3B4455;\n",
              "      fill: #D2E3FC;\n",
              "    }\n",
              "\n",
              "    [theme=dark] .colab-df-convert:hover {\n",
              "      background-color: #434B5C;\n",
              "      box-shadow: 0px 1px 3px 1px rgba(0, 0, 0, 0.15);\n",
              "      filter: drop-shadow(0px 1px 2px rgba(0, 0, 0, 0.3));\n",
              "      fill: #FFFFFF;\n",
              "    }\n",
              "  </style>\n",
              "\n",
              "      <script>\n",
              "        const buttonEl =\n",
              "          document.querySelector('#df-180cabde-5e2b-4edf-8f0e-601297491fe9 button.colab-df-convert');\n",
              "        buttonEl.style.display =\n",
              "          google.colab.kernel.accessAllowed ? 'block' : 'none';\n",
              "\n",
              "        async function convertToInteractive(key) {\n",
              "          const element = document.querySelector('#df-180cabde-5e2b-4edf-8f0e-601297491fe9');\n",
              "          const dataTable =\n",
              "            await google.colab.kernel.invokeFunction('convertToInteractive',\n",
              "                                                     [key], {});\n",
              "          if (!dataTable) return;\n",
              "\n",
              "          const docLinkHtml = 'Like what you see? Visit the ' +\n",
              "            '<a target=\"_blank\" href=https://colab.research.google.com/notebooks/data_table.ipynb>data table notebook</a>'\n",
              "            + ' to learn more about interactive tables.';\n",
              "          element.innerHTML = '';\n",
              "          dataTable['output_type'] = 'display_data';\n",
              "          await google.colab.output.renderOutput(dataTable, element);\n",
              "          const docLink = document.createElement('div');\n",
              "          docLink.innerHTML = docLinkHtml;\n",
              "          element.appendChild(docLink);\n",
              "        }\n",
              "      </script>\n",
              "    </div>\n",
              "  </div>\n",
              "  "
            ]
          },
          "metadata": {},
          "execution_count": 143
        }
      ]
    },
    {
      "cell_type": "code",
      "source": [
        "DF_result.to_csv(\"Kursk_prediction16.csv\")"
      ],
      "metadata": {
        "id": "i7-1yyAVl-Sr"
      },
      "execution_count": null,
      "outputs": []
    },
    {
      "cell_type": "code",
      "source": [
        "model.save('my_model_var_16.h5')    # сохраним модель"
      ],
      "metadata": {
        "id": "xOTV2WmpUawh"
      },
      "execution_count": null,
      "outputs": []
    },
    {
      "cell_type": "code",
      "source": [
        "from google.colab import drive\n",
        "drive.mount('/content/drive')"
      ],
      "metadata": {
        "id": "s90PA9jqWf6U",
        "colab": {
          "base_uri": "https://localhost:8080/"
        },
        "outputId": "ae0ea06a-dcd1-49aa-f53f-f821d8cdf06b"
      },
      "execution_count": null,
      "outputs": [
        {
          "output_type": "stream",
          "name": "stdout",
          "text": [
            "Drive already mounted at /content/drive; to attempt to forcibly remount, call drive.mount(\"/content/drive\", force_remount=True).\n"
          ]
        }
      ]
    },
    {
      "cell_type": "code",
      "source": [
        "model.save('/content/drive/MyDrive/my_model_var_16.h5') # сохранение модели на диске"
      ],
      "metadata": {
        "id": "supftsgGW1xb"
      },
      "execution_count": null,
      "outputs": []
    }
  ]
}